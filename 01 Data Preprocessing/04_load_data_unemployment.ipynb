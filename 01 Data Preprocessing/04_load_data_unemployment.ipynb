{
 "metadata": {
  "language_info": {
   "codemirror_mode": {
    "name": "ipython",
    "version": 3
   },
   "file_extension": ".py",
   "mimetype": "text/x-python",
   "name": "python",
   "nbconvert_exporter": "python",
   "pygments_lexer": "ipython3",
   "version": "3.8.5-final"
  },
  "orig_nbformat": 2,
  "kernelspec": {
   "name": "python3",
   "display_name": "Python 3",
   "language": "python"
  }
 },
 "nbformat": 4,
 "nbformat_minor": 2,
 "cells": [
  {
   "source": [
    "## Unemployment Rate"
   ],
   "cell_type": "markdown",
   "metadata": {}
  },
  {
   "cell_type": "code",
   "execution_count": 5,
   "metadata": {},
   "outputs": [],
   "source": [
    "import pandas as pd\n",
    "import numpy as np"
   ]
  },
  {
   "source": [
    "- **path_ue**: path of the unemployment rate file for an individual country (the data can only be downloaded one country at a time)\n",
    "- **country_code**: country code used throughout (refer to README)\n",
    "- **fred_code**: alphanumeric code given for each dataset, for each country by the FRED website"
   ],
   "cell_type": "markdown",
   "metadata": {}
  },
  {
   "cell_type": "code",
   "execution_count": 6,
   "metadata": {},
   "outputs": [],
   "source": [
    "def clean_data(path_ue, country_code, fred_code):\n",
    "    \n",
    "    df_ue = pd.read_csv(path_ue)\n",
    "    df_ue = df_ue.rename(columns={fred_code: f'{country_code}_UE', 'DATE': 'index'})\n",
    "\n",
    "    df_ue['index'] = pd.to_datetime(df_ue['index'])\n",
    "\n",
    "    df_ue['year'] = df_ue['index'].dt.year\n",
    "    df_ue['month'] = df_ue['index'].dt.month\n",
    "\n",
    "    df_ue[f'{country_code}_UE'] = df_ue[f'{country_code}_UE']/100\n",
    "\n",
    "    return df_ue"
   ]
  },
  {
   "cell_type": "code",
   "execution_count": 60,
   "metadata": {},
   "outputs": [],
   "source": [
    "def if_quarterly(df):\n",
    "\n",
    "    \"\"\"\n",
    "    For some countries, the data frequency will not be consistent, in that case, use this function too. \n",
    "    \"\"\"\n",
    "    test = pd.read_csv('/Users/zumiis/final_not4git/interest rate/switzerland from fred.csv')\n",
    "    test['DATE'] = pd.to_datetime(test['DATE'])\n",
    "    test['month'] = test['DATE'].dt.month\n",
    "    test['year'] = test['DATE'].dt.year\n",
    "    test = test.rename(columns={'IRSTCI01CHM156N': 'CHF_IR', 'DATE': 'index'})\n",
    "\n",
    "    merged_df = pd.merge(test, df, left_on=['index'], right_on=['index'], how='outer').interpolate()#.ffill().bfill()\n",
    "\n",
    "    merged_df.drop(columns= ['CHF_IR', 'month_y', 'year_y'], inplace=True)\n",
    "    merged_df.rename(columns={'month_x':'month', 'year_x':'year'}, inplace=True)\n",
    "\n",
    "    return merged_df\n"
   ]
  },
  {
   "cell_type": "code",
   "execution_count": 8,
   "metadata": {},
   "outputs": [],
   "source": [
    "def data_combine(path, df_ue):\n",
    "    \n",
    "    exchange_df = pd.read_csv(path) #still 4997rows\n",
    "    print(exchange_df.shape)\n",
    "\n",
    "    df_with_ue = pd.merge(exchange_df, df_ue, left_on=['month', 'year'], right_on=['month', 'year'])\n",
    "    df_with_ue.drop(columns='index', inplace=True)\n",
    "\n",
    "    return df_with_ue"
   ]
  },
  {
   "cell_type": "code",
   "execution_count": 9,
   "metadata": {},
   "outputs": [],
   "source": [
    "def append_df(df, df_ue):\n",
    "    \n",
    "    df_ue.drop(columns='index', inplace=True)\n",
    "    df = pd.merge(df, df_ue, left_on=['month', 'year'], right_on=['month', 'year'])\n",
    "\n",
    "    return df"
   ]
  },
  {
   "cell_type": "code",
   "execution_count": 56,
   "metadata": {},
   "outputs": [],
   "source": [
    "#replace country_code & fred_code values with values for the chosen unemployment file \n",
    "\n",
    "path_ue = '<path to unemployment file>'\n",
    "country_code = 'USD'\n",
    "fred_code = 'LRHUTTTTUSM156S'"
   ]
  },
  {
   "cell_type": "code",
   "execution_count": 57,
   "metadata": {},
   "outputs": [
    {
     "output_type": "execute_result",
     "data": {
      "text/plain": [
       "         index  USD_UE  year  month\n",
       "0   2000-01-01   0.040  2000      1\n",
       "1   2000-02-01   0.041  2000      2\n",
       "2   2000-03-01   0.040  2000      3\n",
       "3   2000-04-01   0.038  2000      4\n",
       "4   2000-05-01   0.040  2000      5\n",
       "..         ...     ...   ...    ...\n",
       "235 2019-08-01   0.037  2019      8\n",
       "236 2019-09-01   0.035  2019      9\n",
       "237 2019-10-01   0.036  2019     10\n",
       "238 2019-11-01   0.035  2019     11\n",
       "239 2019-12-01   0.035  2019     12\n",
       "\n",
       "[240 rows x 4 columns]"
      ],
      "text/html": "<div>\n<style scoped>\n    .dataframe tbody tr th:only-of-type {\n        vertical-align: middle;\n    }\n\n    .dataframe tbody tr th {\n        vertical-align: top;\n    }\n\n    .dataframe thead th {\n        text-align: right;\n    }\n</style>\n<table border=\"1\" class=\"dataframe\">\n  <thead>\n    <tr style=\"text-align: right;\">\n      <th></th>\n      <th>index</th>\n      <th>USD_UE</th>\n      <th>year</th>\n      <th>month</th>\n    </tr>\n  </thead>\n  <tbody>\n    <tr>\n      <th>0</th>\n      <td>2000-01-01</td>\n      <td>0.040</td>\n      <td>2000</td>\n      <td>1</td>\n    </tr>\n    <tr>\n      <th>1</th>\n      <td>2000-02-01</td>\n      <td>0.041</td>\n      <td>2000</td>\n      <td>2</td>\n    </tr>\n    <tr>\n      <th>2</th>\n      <td>2000-03-01</td>\n      <td>0.040</td>\n      <td>2000</td>\n      <td>3</td>\n    </tr>\n    <tr>\n      <th>3</th>\n      <td>2000-04-01</td>\n      <td>0.038</td>\n      <td>2000</td>\n      <td>4</td>\n    </tr>\n    <tr>\n      <th>4</th>\n      <td>2000-05-01</td>\n      <td>0.040</td>\n      <td>2000</td>\n      <td>5</td>\n    </tr>\n    <tr>\n      <th>...</th>\n      <td>...</td>\n      <td>...</td>\n      <td>...</td>\n      <td>...</td>\n    </tr>\n    <tr>\n      <th>235</th>\n      <td>2019-08-01</td>\n      <td>0.037</td>\n      <td>2019</td>\n      <td>8</td>\n    </tr>\n    <tr>\n      <th>236</th>\n      <td>2019-09-01</td>\n      <td>0.035</td>\n      <td>2019</td>\n      <td>9</td>\n    </tr>\n    <tr>\n      <th>237</th>\n      <td>2019-10-01</td>\n      <td>0.036</td>\n      <td>2019</td>\n      <td>10</td>\n    </tr>\n    <tr>\n      <th>238</th>\n      <td>2019-11-01</td>\n      <td>0.035</td>\n      <td>2019</td>\n      <td>11</td>\n    </tr>\n    <tr>\n      <th>239</th>\n      <td>2019-12-01</td>\n      <td>0.035</td>\n      <td>2019</td>\n      <td>12</td>\n    </tr>\n  </tbody>\n</table>\n<p>240 rows × 4 columns</p>\n</div>"
     },
     "metadata": {},
     "execution_count": 57
    }
   ],
   "source": [
    "df_ue = clean_data(path_ue, country_code, fred_code)\n",
    "df_ue #if rows less than 240, use if_quarterly as well "
   ]
  },
  {
   "cell_type": "code",
   "execution_count": 25,
   "metadata": {},
   "outputs": [
    {
     "output_type": "execute_result",
     "data": {
      "text/plain": [
       "         index  month  year    BRL_UE\n",
       "0   2000-01-01      1  2000  0.137662\n",
       "1   2000-02-01      2  2000  0.143241\n",
       "2   2000-03-01      3  2000  0.134971\n",
       "3   2000-04-01      4  2000  0.132854\n",
       "4   2000-05-01      5  2000  0.132453\n",
       "..         ...    ...   ...       ...\n",
       "235 2019-08-01      8  2019  0.080067\n",
       "236 2019-09-01      9  2019  0.080067\n",
       "237 2019-10-01     10  2019  0.080067\n",
       "238 2019-11-01     11  2019  0.080067\n",
       "239 2019-12-01     12  2019  0.080067\n",
       "\n",
       "[240 rows x 4 columns]"
      ],
      "text/html": "<div>\n<style scoped>\n    .dataframe tbody tr th:only-of-type {\n        vertical-align: middle;\n    }\n\n    .dataframe tbody tr th {\n        vertical-align: top;\n    }\n\n    .dataframe thead th {\n        text-align: right;\n    }\n</style>\n<table border=\"1\" class=\"dataframe\">\n  <thead>\n    <tr style=\"text-align: right;\">\n      <th></th>\n      <th>index</th>\n      <th>month</th>\n      <th>year</th>\n      <th>BRL_UE</th>\n    </tr>\n  </thead>\n  <tbody>\n    <tr>\n      <th>0</th>\n      <td>2000-01-01</td>\n      <td>1</td>\n      <td>2000</td>\n      <td>0.137662</td>\n    </tr>\n    <tr>\n      <th>1</th>\n      <td>2000-02-01</td>\n      <td>2</td>\n      <td>2000</td>\n      <td>0.143241</td>\n    </tr>\n    <tr>\n      <th>2</th>\n      <td>2000-03-01</td>\n      <td>3</td>\n      <td>2000</td>\n      <td>0.134971</td>\n    </tr>\n    <tr>\n      <th>3</th>\n      <td>2000-04-01</td>\n      <td>4</td>\n      <td>2000</td>\n      <td>0.132854</td>\n    </tr>\n    <tr>\n      <th>4</th>\n      <td>2000-05-01</td>\n      <td>5</td>\n      <td>2000</td>\n      <td>0.132453</td>\n    </tr>\n    <tr>\n      <th>...</th>\n      <td>...</td>\n      <td>...</td>\n      <td>...</td>\n      <td>...</td>\n    </tr>\n    <tr>\n      <th>235</th>\n      <td>2019-08-01</td>\n      <td>8</td>\n      <td>2019</td>\n      <td>0.080067</td>\n    </tr>\n    <tr>\n      <th>236</th>\n      <td>2019-09-01</td>\n      <td>9</td>\n      <td>2019</td>\n      <td>0.080067</td>\n    </tr>\n    <tr>\n      <th>237</th>\n      <td>2019-10-01</td>\n      <td>10</td>\n      <td>2019</td>\n      <td>0.080067</td>\n    </tr>\n    <tr>\n      <th>238</th>\n      <td>2019-11-01</td>\n      <td>11</td>\n      <td>2019</td>\n      <td>0.080067</td>\n    </tr>\n    <tr>\n      <th>239</th>\n      <td>2019-12-01</td>\n      <td>12</td>\n      <td>2019</td>\n      <td>0.080067</td>\n    </tr>\n  </tbody>\n</table>\n<p>240 rows × 4 columns</p>\n</div>"
     },
     "metadata": {},
     "execution_count": 25
    }
   ],
   "source": [
    "df_ue = if_quarterly(df_ue)\n",
    "df_ue #240 rows"
   ]
  },
  {
   "source": [
    "As the data can only be downloaded one country at a time, we have to manually merge the unemployment rate values into one dataframe. In order to do so, a copy of the first 'df_ue' is made and set aside as the dataframe (df) to which the other unemployment rate values will be appended to. From the second 'df_ue' onward, we will be appending the values to 'df' to get a dataset that only contains the unemployment rate values."
   ],
   "cell_type": "markdown",
   "metadata": {}
  },
  {
   "cell_type": "code",
   "execution_count": 12,
   "metadata": {},
   "outputs": [],
   "source": [
    "#use only for the first instance, comment out afterwards\n",
    "df = df_ue.copy()"
   ]
  },
  {
   "cell_type": "code",
   "execution_count": 58,
   "metadata": {},
   "outputs": [],
   "source": [
    "#start using from the second instance\n",
    "df = append_df(df, df_ue)"
   ]
  },
  {
   "cell_type": "code",
   "execution_count": 59,
   "metadata": {},
   "outputs": [
    {
     "output_type": "execute_result",
     "data": {
      "text/plain": [
       "         index    AUD_UE  year  month    NZD_UE  GBP_UE    BRL_UE  CND_UE  \\\n",
       "0   2000-01-01  0.067678  2000      1  0.065000   0.057  0.137662   0.068   \n",
       "1   2000-02-01  0.066192  2000      2  0.064333   0.057  0.143241   0.069   \n",
       "2   2000-03-01  0.065651  2000      3  0.063667   0.056  0.134971   0.069   \n",
       "3   2000-04-01  0.063764  2000      4  0.063000   0.056  0.132854   0.067   \n",
       "4   2000-05-01  0.064146  2000      5  0.062000   0.055  0.132453   0.066   \n",
       "..         ...       ...   ...    ...       ...     ...       ...     ...   \n",
       "235 2019-08-01  0.052471  2019      8  0.041667   0.038  0.080067   0.057   \n",
       "236 2019-09-01  0.052005  2019      9  0.041333   0.037  0.080067   0.055   \n",
       "237 2019-10-01  0.052979  2019     10  0.041000   0.037  0.080067   0.056   \n",
       "238 2019-11-01  0.051451  2019     11  0.041000   0.037  0.080067   0.059   \n",
       "239 2019-12-01  0.050515  2019     12  0.041000   0.037  0.080067   0.056   \n",
       "\n",
       "     KRW_UE    MXN_UE  DKK_UE  JPY_UE  NOK_UE  SEK_UE  USD_UE  \n",
       "0     0.051  0.023000   0.050   0.047   0.034   0.062   0.040  \n",
       "1     0.048  0.021000   0.046   0.049   0.034   0.061   0.041  \n",
       "2     0.045  0.022000   0.044   0.049   0.033   0.059   0.040  \n",
       "3     0.044  0.027921   0.044   0.048   0.032   0.059   0.038  \n",
       "4     0.043  0.027226   0.045   0.046   0.030   0.056   0.040  \n",
       "..      ...       ...     ...     ...     ...     ...     ...  \n",
       "235   0.031  0.035217   0.049   0.023   0.037   0.072   0.037  \n",
       "236   0.034  0.035361   0.052   0.024   0.039   0.067   0.035  \n",
       "237   0.035  0.035525   0.052   0.024   0.038   0.067   0.036  \n",
       "238   0.036  0.034918   0.051   0.022   0.040   0.073   0.035  \n",
       "239   0.037  0.032259   0.049   0.022   0.039   0.067   0.035  \n",
       "\n",
       "[240 rows x 15 columns]"
      ],
      "text/html": "<div>\n<style scoped>\n    .dataframe tbody tr th:only-of-type {\n        vertical-align: middle;\n    }\n\n    .dataframe tbody tr th {\n        vertical-align: top;\n    }\n\n    .dataframe thead th {\n        text-align: right;\n    }\n</style>\n<table border=\"1\" class=\"dataframe\">\n  <thead>\n    <tr style=\"text-align: right;\">\n      <th></th>\n      <th>index</th>\n      <th>AUD_UE</th>\n      <th>year</th>\n      <th>month</th>\n      <th>NZD_UE</th>\n      <th>GBP_UE</th>\n      <th>BRL_UE</th>\n      <th>CND_UE</th>\n      <th>KRW_UE</th>\n      <th>MXN_UE</th>\n      <th>DKK_UE</th>\n      <th>JPY_UE</th>\n      <th>NOK_UE</th>\n      <th>SEK_UE</th>\n      <th>USD_UE</th>\n    </tr>\n  </thead>\n  <tbody>\n    <tr>\n      <th>0</th>\n      <td>2000-01-01</td>\n      <td>0.067678</td>\n      <td>2000</td>\n      <td>1</td>\n      <td>0.065000</td>\n      <td>0.057</td>\n      <td>0.137662</td>\n      <td>0.068</td>\n      <td>0.051</td>\n      <td>0.023000</td>\n      <td>0.050</td>\n      <td>0.047</td>\n      <td>0.034</td>\n      <td>0.062</td>\n      <td>0.040</td>\n    </tr>\n    <tr>\n      <th>1</th>\n      <td>2000-02-01</td>\n      <td>0.066192</td>\n      <td>2000</td>\n      <td>2</td>\n      <td>0.064333</td>\n      <td>0.057</td>\n      <td>0.143241</td>\n      <td>0.069</td>\n      <td>0.048</td>\n      <td>0.021000</td>\n      <td>0.046</td>\n      <td>0.049</td>\n      <td>0.034</td>\n      <td>0.061</td>\n      <td>0.041</td>\n    </tr>\n    <tr>\n      <th>2</th>\n      <td>2000-03-01</td>\n      <td>0.065651</td>\n      <td>2000</td>\n      <td>3</td>\n      <td>0.063667</td>\n      <td>0.056</td>\n      <td>0.134971</td>\n      <td>0.069</td>\n      <td>0.045</td>\n      <td>0.022000</td>\n      <td>0.044</td>\n      <td>0.049</td>\n      <td>0.033</td>\n      <td>0.059</td>\n      <td>0.040</td>\n    </tr>\n    <tr>\n      <th>3</th>\n      <td>2000-04-01</td>\n      <td>0.063764</td>\n      <td>2000</td>\n      <td>4</td>\n      <td>0.063000</td>\n      <td>0.056</td>\n      <td>0.132854</td>\n      <td>0.067</td>\n      <td>0.044</td>\n      <td>0.027921</td>\n      <td>0.044</td>\n      <td>0.048</td>\n      <td>0.032</td>\n      <td>0.059</td>\n      <td>0.038</td>\n    </tr>\n    <tr>\n      <th>4</th>\n      <td>2000-05-01</td>\n      <td>0.064146</td>\n      <td>2000</td>\n      <td>5</td>\n      <td>0.062000</td>\n      <td>0.055</td>\n      <td>0.132453</td>\n      <td>0.066</td>\n      <td>0.043</td>\n      <td>0.027226</td>\n      <td>0.045</td>\n      <td>0.046</td>\n      <td>0.030</td>\n      <td>0.056</td>\n      <td>0.040</td>\n    </tr>\n    <tr>\n      <th>...</th>\n      <td>...</td>\n      <td>...</td>\n      <td>...</td>\n      <td>...</td>\n      <td>...</td>\n      <td>...</td>\n      <td>...</td>\n      <td>...</td>\n      <td>...</td>\n      <td>...</td>\n      <td>...</td>\n      <td>...</td>\n      <td>...</td>\n      <td>...</td>\n      <td>...</td>\n    </tr>\n    <tr>\n      <th>235</th>\n      <td>2019-08-01</td>\n      <td>0.052471</td>\n      <td>2019</td>\n      <td>8</td>\n      <td>0.041667</td>\n      <td>0.038</td>\n      <td>0.080067</td>\n      <td>0.057</td>\n      <td>0.031</td>\n      <td>0.035217</td>\n      <td>0.049</td>\n      <td>0.023</td>\n      <td>0.037</td>\n      <td>0.072</td>\n      <td>0.037</td>\n    </tr>\n    <tr>\n      <th>236</th>\n      <td>2019-09-01</td>\n      <td>0.052005</td>\n      <td>2019</td>\n      <td>9</td>\n      <td>0.041333</td>\n      <td>0.037</td>\n      <td>0.080067</td>\n      <td>0.055</td>\n      <td>0.034</td>\n      <td>0.035361</td>\n      <td>0.052</td>\n      <td>0.024</td>\n      <td>0.039</td>\n      <td>0.067</td>\n      <td>0.035</td>\n    </tr>\n    <tr>\n      <th>237</th>\n      <td>2019-10-01</td>\n      <td>0.052979</td>\n      <td>2019</td>\n      <td>10</td>\n      <td>0.041000</td>\n      <td>0.037</td>\n      <td>0.080067</td>\n      <td>0.056</td>\n      <td>0.035</td>\n      <td>0.035525</td>\n      <td>0.052</td>\n      <td>0.024</td>\n      <td>0.038</td>\n      <td>0.067</td>\n      <td>0.036</td>\n    </tr>\n    <tr>\n      <th>238</th>\n      <td>2019-11-01</td>\n      <td>0.051451</td>\n      <td>2019</td>\n      <td>11</td>\n      <td>0.041000</td>\n      <td>0.037</td>\n      <td>0.080067</td>\n      <td>0.059</td>\n      <td>0.036</td>\n      <td>0.034918</td>\n      <td>0.051</td>\n      <td>0.022</td>\n      <td>0.040</td>\n      <td>0.073</td>\n      <td>0.035</td>\n    </tr>\n    <tr>\n      <th>239</th>\n      <td>2019-12-01</td>\n      <td>0.050515</td>\n      <td>2019</td>\n      <td>12</td>\n      <td>0.041000</td>\n      <td>0.037</td>\n      <td>0.080067</td>\n      <td>0.056</td>\n      <td>0.037</td>\n      <td>0.032259</td>\n      <td>0.049</td>\n      <td>0.022</td>\n      <td>0.039</td>\n      <td>0.067</td>\n      <td>0.035</td>\n    </tr>\n  </tbody>\n</table>\n<p>240 rows × 15 columns</p>\n</div>"
     },
     "metadata": {},
     "execution_count": 59
    }
   ],
   "source": [
    "df"
   ]
  },
  {
   "cell_type": "code",
   "execution_count": 61,
   "metadata": {},
   "outputs": [],
   "source": [
    "df.to_csv('<path to save unemployment rate dataset>', index=False)"
   ]
  },
  {
   "source": [
    "- **new_path**: path of new main dataset 3, created from the 'load_data_trade' notebook"
   ],
   "cell_type": "markdown",
   "metadata": {}
  },
  {
   "cell_type": "code",
   "execution_count": 62,
   "metadata": {},
   "outputs": [],
   "source": [
    "new_path = '<path of new main dataset 3>'"
   ]
  },
  {
   "cell_type": "code",
   "execution_count": 63,
   "metadata": {},
   "outputs": [
    {
     "output_type": "stream",
     "name": "stdout",
     "text": [
      "(4997, 69)\n(4997, 81)\nTime Series    0\nAUD_USD        0\nNZD_USD        0\nGBP_USD        0\nBRL_USD        0\n              ..\nDKK_UE         0\nJPY_UE         0\nNOK_UE         0\nSEK_UE         0\nUSD_UE         0\nLength: 81, dtype: int64\n"
     ]
    }
   ],
   "source": [
    "df_with_ue = data_combine(new_path, df)\n",
    "print(df_with_ue.shape) #4997 rows\n",
    "print(df_with_ue.isna().sum())"
   ]
  },
  {
   "cell_type": "code",
   "execution_count": 65,
   "metadata": {},
   "outputs": [],
   "source": [
    "df_with_ue.to_csv('<path to save final dataset>', index=False)"
   ]
  },
  {
   "cell_type": "code",
   "execution_count": 64,
   "metadata": {},
   "outputs": [
    {
     "output_type": "execute_result",
     "data": {
      "text/plain": [
       "     Time Series  AUD_USD  NZD_USD  GBP_USD  BRL_USD  CND_USD  CNY_USD  \\\n",
       "0     2000-01-03   1.5172   1.9033   0.6146   1.8050   1.4465   8.2798   \n",
       "1     2000-01-04   1.5239   1.9238   0.6109   1.8405   1.4518   8.2799   \n",
       "2     2000-01-05   1.5267   1.9339   0.6092   1.8560   1.4518   8.2798   \n",
       "3     2000-01-06   1.5291   1.9436   0.6070   1.8400   1.4571   8.2797   \n",
       "4     2000-01-07   1.5272   1.9380   0.6104   1.8310   1.4505   8.2794   \n",
       "...          ...      ...      ...      ...      ...      ...      ...   \n",
       "4992  2019-12-20   1.4489   1.5135   0.7671   4.0859   1.3170   7.0063   \n",
       "4993  2019-12-23   1.4457   1.5088   0.7742   4.0621   1.3167   7.0124   \n",
       "4994  2019-12-26   1.4411   1.5002   0.7688   4.0602   1.3124   6.9949   \n",
       "4995  2019-12-27   1.4331   1.4919   0.7639   4.0507   1.3073   6.9954   \n",
       "4996  2019-12-30   1.4278   1.4846   0.7610   4.0152   1.3058   6.9864   \n",
       "\n",
       "      IDR_USD  KRW_USD  MXN_USD  ...  GBP_UE    BRL_UE  CND_UE  KRW_UE  \\\n",
       "0       43.55  1128.00   9.4015  ...   0.057  0.137662   0.068   0.051   \n",
       "1       43.55  1122.50   9.4570  ...   0.057  0.137662   0.068   0.051   \n",
       "2       43.55  1135.00   9.5350  ...   0.057  0.137662   0.068   0.051   \n",
       "3       43.55  1146.50   9.5670  ...   0.057  0.137662   0.068   0.051   \n",
       "4       43.55  1138.00   9.5200  ...   0.057  0.137662   0.068   0.051   \n",
       "...       ...      ...      ...  ...     ...       ...     ...     ...   \n",
       "4992    71.07  1160.30  18.9140  ...   0.037  0.080067   0.056   0.037   \n",
       "4993    71.24  1163.64  18.9310  ...   0.037  0.080067   0.056   0.037   \n",
       "4994    71.28  1161.18  18.9440  ...   0.037  0.080067   0.056   0.037   \n",
       "4995    71.45  1160.87  18.8190  ...   0.037  0.080067   0.056   0.037   \n",
       "4996    71.30  1155.75  18.8630  ...   0.037  0.080067   0.056   0.037   \n",
       "\n",
       "        MXN_UE  DKK_UE  JPY_UE  NOK_UE  SEK_UE  USD_UE  \n",
       "0     0.023000   0.050   0.047   0.034   0.062   0.040  \n",
       "1     0.023000   0.050   0.047   0.034   0.062   0.040  \n",
       "2     0.023000   0.050   0.047   0.034   0.062   0.040  \n",
       "3     0.023000   0.050   0.047   0.034   0.062   0.040  \n",
       "4     0.023000   0.050   0.047   0.034   0.062   0.040  \n",
       "...        ...     ...     ...     ...     ...     ...  \n",
       "4992  0.032259   0.049   0.022   0.039   0.067   0.035  \n",
       "4993  0.032259   0.049   0.022   0.039   0.067   0.035  \n",
       "4994  0.032259   0.049   0.022   0.039   0.067   0.035  \n",
       "4995  0.032259   0.049   0.022   0.039   0.067   0.035  \n",
       "4996  0.032259   0.049   0.022   0.039   0.067   0.035  \n",
       "\n",
       "[4997 rows x 81 columns]"
      ],
      "text/html": "<div>\n<style scoped>\n    .dataframe tbody tr th:only-of-type {\n        vertical-align: middle;\n    }\n\n    .dataframe tbody tr th {\n        vertical-align: top;\n    }\n\n    .dataframe thead th {\n        text-align: right;\n    }\n</style>\n<table border=\"1\" class=\"dataframe\">\n  <thead>\n    <tr style=\"text-align: right;\">\n      <th></th>\n      <th>Time Series</th>\n      <th>AUD_USD</th>\n      <th>NZD_USD</th>\n      <th>GBP_USD</th>\n      <th>BRL_USD</th>\n      <th>CND_USD</th>\n      <th>CNY_USD</th>\n      <th>IDR_USD</th>\n      <th>KRW_USD</th>\n      <th>MXN_USD</th>\n      <th>...</th>\n      <th>GBP_UE</th>\n      <th>BRL_UE</th>\n      <th>CND_UE</th>\n      <th>KRW_UE</th>\n      <th>MXN_UE</th>\n      <th>DKK_UE</th>\n      <th>JPY_UE</th>\n      <th>NOK_UE</th>\n      <th>SEK_UE</th>\n      <th>USD_UE</th>\n    </tr>\n  </thead>\n  <tbody>\n    <tr>\n      <th>0</th>\n      <td>2000-01-03</td>\n      <td>1.5172</td>\n      <td>1.9033</td>\n      <td>0.6146</td>\n      <td>1.8050</td>\n      <td>1.4465</td>\n      <td>8.2798</td>\n      <td>43.55</td>\n      <td>1128.00</td>\n      <td>9.4015</td>\n      <td>...</td>\n      <td>0.057</td>\n      <td>0.137662</td>\n      <td>0.068</td>\n      <td>0.051</td>\n      <td>0.023000</td>\n      <td>0.050</td>\n      <td>0.047</td>\n      <td>0.034</td>\n      <td>0.062</td>\n      <td>0.040</td>\n    </tr>\n    <tr>\n      <th>1</th>\n      <td>2000-01-04</td>\n      <td>1.5239</td>\n      <td>1.9238</td>\n      <td>0.6109</td>\n      <td>1.8405</td>\n      <td>1.4518</td>\n      <td>8.2799</td>\n      <td>43.55</td>\n      <td>1122.50</td>\n      <td>9.4570</td>\n      <td>...</td>\n      <td>0.057</td>\n      <td>0.137662</td>\n      <td>0.068</td>\n      <td>0.051</td>\n      <td>0.023000</td>\n      <td>0.050</td>\n      <td>0.047</td>\n      <td>0.034</td>\n      <td>0.062</td>\n      <td>0.040</td>\n    </tr>\n    <tr>\n      <th>2</th>\n      <td>2000-01-05</td>\n      <td>1.5267</td>\n      <td>1.9339</td>\n      <td>0.6092</td>\n      <td>1.8560</td>\n      <td>1.4518</td>\n      <td>8.2798</td>\n      <td>43.55</td>\n      <td>1135.00</td>\n      <td>9.5350</td>\n      <td>...</td>\n      <td>0.057</td>\n      <td>0.137662</td>\n      <td>0.068</td>\n      <td>0.051</td>\n      <td>0.023000</td>\n      <td>0.050</td>\n      <td>0.047</td>\n      <td>0.034</td>\n      <td>0.062</td>\n      <td>0.040</td>\n    </tr>\n    <tr>\n      <th>3</th>\n      <td>2000-01-06</td>\n      <td>1.5291</td>\n      <td>1.9436</td>\n      <td>0.6070</td>\n      <td>1.8400</td>\n      <td>1.4571</td>\n      <td>8.2797</td>\n      <td>43.55</td>\n      <td>1146.50</td>\n      <td>9.5670</td>\n      <td>...</td>\n      <td>0.057</td>\n      <td>0.137662</td>\n      <td>0.068</td>\n      <td>0.051</td>\n      <td>0.023000</td>\n      <td>0.050</td>\n      <td>0.047</td>\n      <td>0.034</td>\n      <td>0.062</td>\n      <td>0.040</td>\n    </tr>\n    <tr>\n      <th>4</th>\n      <td>2000-01-07</td>\n      <td>1.5272</td>\n      <td>1.9380</td>\n      <td>0.6104</td>\n      <td>1.8310</td>\n      <td>1.4505</td>\n      <td>8.2794</td>\n      <td>43.55</td>\n      <td>1138.00</td>\n      <td>9.5200</td>\n      <td>...</td>\n      <td>0.057</td>\n      <td>0.137662</td>\n      <td>0.068</td>\n      <td>0.051</td>\n      <td>0.023000</td>\n      <td>0.050</td>\n      <td>0.047</td>\n      <td>0.034</td>\n      <td>0.062</td>\n      <td>0.040</td>\n    </tr>\n    <tr>\n      <th>...</th>\n      <td>...</td>\n      <td>...</td>\n      <td>...</td>\n      <td>...</td>\n      <td>...</td>\n      <td>...</td>\n      <td>...</td>\n      <td>...</td>\n      <td>...</td>\n      <td>...</td>\n      <td>...</td>\n      <td>...</td>\n      <td>...</td>\n      <td>...</td>\n      <td>...</td>\n      <td>...</td>\n      <td>...</td>\n      <td>...</td>\n      <td>...</td>\n      <td>...</td>\n      <td>...</td>\n    </tr>\n    <tr>\n      <th>4992</th>\n      <td>2019-12-20</td>\n      <td>1.4489</td>\n      <td>1.5135</td>\n      <td>0.7671</td>\n      <td>4.0859</td>\n      <td>1.3170</td>\n      <td>7.0063</td>\n      <td>71.07</td>\n      <td>1160.30</td>\n      <td>18.9140</td>\n      <td>...</td>\n      <td>0.037</td>\n      <td>0.080067</td>\n      <td>0.056</td>\n      <td>0.037</td>\n      <td>0.032259</td>\n      <td>0.049</td>\n      <td>0.022</td>\n      <td>0.039</td>\n      <td>0.067</td>\n      <td>0.035</td>\n    </tr>\n    <tr>\n      <th>4993</th>\n      <td>2019-12-23</td>\n      <td>1.4457</td>\n      <td>1.5088</td>\n      <td>0.7742</td>\n      <td>4.0621</td>\n      <td>1.3167</td>\n      <td>7.0124</td>\n      <td>71.24</td>\n      <td>1163.64</td>\n      <td>18.9310</td>\n      <td>...</td>\n      <td>0.037</td>\n      <td>0.080067</td>\n      <td>0.056</td>\n      <td>0.037</td>\n      <td>0.032259</td>\n      <td>0.049</td>\n      <td>0.022</td>\n      <td>0.039</td>\n      <td>0.067</td>\n      <td>0.035</td>\n    </tr>\n    <tr>\n      <th>4994</th>\n      <td>2019-12-26</td>\n      <td>1.4411</td>\n      <td>1.5002</td>\n      <td>0.7688</td>\n      <td>4.0602</td>\n      <td>1.3124</td>\n      <td>6.9949</td>\n      <td>71.28</td>\n      <td>1161.18</td>\n      <td>18.9440</td>\n      <td>...</td>\n      <td>0.037</td>\n      <td>0.080067</td>\n      <td>0.056</td>\n      <td>0.037</td>\n      <td>0.032259</td>\n      <td>0.049</td>\n      <td>0.022</td>\n      <td>0.039</td>\n      <td>0.067</td>\n      <td>0.035</td>\n    </tr>\n    <tr>\n      <th>4995</th>\n      <td>2019-12-27</td>\n      <td>1.4331</td>\n      <td>1.4919</td>\n      <td>0.7639</td>\n      <td>4.0507</td>\n      <td>1.3073</td>\n      <td>6.9954</td>\n      <td>71.45</td>\n      <td>1160.87</td>\n      <td>18.8190</td>\n      <td>...</td>\n      <td>0.037</td>\n      <td>0.080067</td>\n      <td>0.056</td>\n      <td>0.037</td>\n      <td>0.032259</td>\n      <td>0.049</td>\n      <td>0.022</td>\n      <td>0.039</td>\n      <td>0.067</td>\n      <td>0.035</td>\n    </tr>\n    <tr>\n      <th>4996</th>\n      <td>2019-12-30</td>\n      <td>1.4278</td>\n      <td>1.4846</td>\n      <td>0.7610</td>\n      <td>4.0152</td>\n      <td>1.3058</td>\n      <td>6.9864</td>\n      <td>71.30</td>\n      <td>1155.75</td>\n      <td>18.8630</td>\n      <td>...</td>\n      <td>0.037</td>\n      <td>0.080067</td>\n      <td>0.056</td>\n      <td>0.037</td>\n      <td>0.032259</td>\n      <td>0.049</td>\n      <td>0.022</td>\n      <td>0.039</td>\n      <td>0.067</td>\n      <td>0.035</td>\n    </tr>\n  </tbody>\n</table>\n<p>4997 rows × 81 columns</p>\n</div>"
     },
     "metadata": {},
     "execution_count": 64
    }
   ],
   "source": [
    "#what the final dataset should look like \n",
    "df_with_ue"
   ]
  },
  {
   "cell_type": "code",
   "execution_count": null,
   "metadata": {},
   "outputs": [],
   "source": []
  }
 ]
}