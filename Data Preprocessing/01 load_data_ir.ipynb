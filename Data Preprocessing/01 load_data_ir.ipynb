{
 "metadata": {
  "language_info": {
   "codemirror_mode": {
    "name": "ipython",
    "version": 3
   },
   "file_extension": ".py",
   "mimetype": "text/x-python",
   "name": "python",
   "nbconvert_exporter": "python",
   "pygments_lexer": "ipython3",
   "version": "3.8.5-final"
  },
  "orig_nbformat": 2,
  "kernelspec": {
   "name": "python3",
   "display_name": "Python 3",
   "language": "python"
  }
 },
 "nbformat": 4,
 "nbformat_minor": 2,
 "cells": [
  {
   "source": [
    "## Interest Rate"
   ],
   "cell_type": "markdown",
   "metadata": {}
  },
  {
   "cell_type": "code",
   "execution_count": 4,
   "metadata": {},
   "outputs": [],
   "source": [
    "import pandas as pd"
   ]
  },
  {
   "source": [
    "- **path_ir**: path of the interest rate file for an individual country (the data can only be downloaded one country at a time)\n",
    "- **country_code**: country code used throughout (refer to README)\n",
    "- **fred_code**: alphanumeric code given for each dataset, for each country by the FRED website"
   ],
   "cell_type": "markdown",
   "metadata": {}
  },
  {
   "cell_type": "code",
   "execution_count": 5,
   "metadata": {},
   "outputs": [],
   "source": [
    "def get_interest_rate(path_ir, country_code, fred_code):\n",
    "\n",
    "    df_ir = pd.read_csv(path_ir)\n",
    "    df_ir['DATE'] = pd.to_datetime(df_ir['DATE'])\n",
    "    df_ir['month'] = df_ir['DATE'].dt.month\n",
    "    df_ir['year'] = df_ir['DATE'].dt.year\n",
    "    df_ir = df_ir.rename(columns={fred_code: f'{country_code}_IR', 'DATE': 'index'})\n",
    "    df_ir[f'{country_code}_IR'] = df_ir[f'{country_code}_IR']/100\n",
    "    \n",
    "    return df_ir"
   ]
  },
  {
   "cell_type": "code",
   "execution_count": 18,
   "metadata": {},
   "outputs": [],
   "source": [
    "def append_df(df, df_ir):\n",
    "    \n",
    "    df_ir.drop(columns='index', inplace=True)\n",
    "    df = pd.merge(df, df_ir, left_on=['month', 'year'], right_on=['month', 'year'])\n",
    "\n",
    "    return df"
   ]
  },
  {
   "cell_type": "code",
   "execution_count": 6,
   "metadata": {},
   "outputs": [],
   "source": [
    "def data_combine(path, df_ir):\n",
    "    \n",
    "    exchange_df = pd.read_csv(path) \n",
    "    print(exchange_df.shape)\n",
    "\n",
    "    df_with_ir = pd.merge(exchange_df, df_ir, left_on=['month', 'year'], right_on=['month', 'year'])\n",
    "    df_with_ir.drop(columns='index', inplace=True)\n",
    "\n",
    "    return df_with_ir"
   ]
  },
  {
   "cell_type": "code",
   "execution_count": 89,
   "metadata": {},
   "outputs": [],
   "source": [
    "#replace country_code & fred_code values with values for the chosen interest rate file \n",
    "\n",
    "path_ir = '<path to interest rate file>'\n",
    "country_code = 'USD' \n",
    "fred_code = 'IRSTCI01USM156N' "
   ]
  },
  {
   "cell_type": "code",
   "execution_count": 90,
   "metadata": {},
   "outputs": [
    {
     "output_type": "execute_result",
     "data": {
      "text/plain": [
       "         index  USD_IR  month  year\n",
       "0   2000-01-01  0.0545      1  2000\n",
       "1   2000-02-01  0.0573      2  2000\n",
       "2   2000-03-01  0.0585      3  2000\n",
       "3   2000-04-01  0.0602      4  2000\n",
       "4   2000-05-01  0.0627      5  2000\n",
       "..         ...     ...    ...   ...\n",
       "235 2019-08-01  0.0213      8  2019\n",
       "236 2019-09-01  0.0204      9  2019\n",
       "237 2019-10-01  0.0183     10  2019\n",
       "238 2019-11-01  0.0155     11  2019\n",
       "239 2019-12-01  0.0155     12  2019\n",
       "\n",
       "[240 rows x 4 columns]"
      ],
      "text/html": "<div>\n<style scoped>\n    .dataframe tbody tr th:only-of-type {\n        vertical-align: middle;\n    }\n\n    .dataframe tbody tr th {\n        vertical-align: top;\n    }\n\n    .dataframe thead th {\n        text-align: right;\n    }\n</style>\n<table border=\"1\" class=\"dataframe\">\n  <thead>\n    <tr style=\"text-align: right;\">\n      <th></th>\n      <th>index</th>\n      <th>USD_IR</th>\n      <th>month</th>\n      <th>year</th>\n    </tr>\n  </thead>\n  <tbody>\n    <tr>\n      <th>0</th>\n      <td>2000-01-01</td>\n      <td>0.0545</td>\n      <td>1</td>\n      <td>2000</td>\n    </tr>\n    <tr>\n      <th>1</th>\n      <td>2000-02-01</td>\n      <td>0.0573</td>\n      <td>2</td>\n      <td>2000</td>\n    </tr>\n    <tr>\n      <th>2</th>\n      <td>2000-03-01</td>\n      <td>0.0585</td>\n      <td>3</td>\n      <td>2000</td>\n    </tr>\n    <tr>\n      <th>3</th>\n      <td>2000-04-01</td>\n      <td>0.0602</td>\n      <td>4</td>\n      <td>2000</td>\n    </tr>\n    <tr>\n      <th>4</th>\n      <td>2000-05-01</td>\n      <td>0.0627</td>\n      <td>5</td>\n      <td>2000</td>\n    </tr>\n    <tr>\n      <th>...</th>\n      <td>...</td>\n      <td>...</td>\n      <td>...</td>\n      <td>...</td>\n    </tr>\n    <tr>\n      <th>235</th>\n      <td>2019-08-01</td>\n      <td>0.0213</td>\n      <td>8</td>\n      <td>2019</td>\n    </tr>\n    <tr>\n      <th>236</th>\n      <td>2019-09-01</td>\n      <td>0.0204</td>\n      <td>9</td>\n      <td>2019</td>\n    </tr>\n    <tr>\n      <th>237</th>\n      <td>2019-10-01</td>\n      <td>0.0183</td>\n      <td>10</td>\n      <td>2019</td>\n    </tr>\n    <tr>\n      <th>238</th>\n      <td>2019-11-01</td>\n      <td>0.0155</td>\n      <td>11</td>\n      <td>2019</td>\n    </tr>\n    <tr>\n      <th>239</th>\n      <td>2019-12-01</td>\n      <td>0.0155</td>\n      <td>12</td>\n      <td>2019</td>\n    </tr>\n  </tbody>\n</table>\n<p>240 rows × 4 columns</p>\n</div>"
     },
     "metadata": {},
     "execution_count": 90
    }
   ],
   "source": [
    "df_ir = get_interest_rate(path_ir, country_code, fred_code)\n",
    "df_ir"
   ]
  },
  {
   "source": [
    "As the data can only be downloaded one country at a time, we have to manually merge the interest rate values into one dataframe. In order to do so, a copy of the first 'df_ir' is made and set aside as the dataframe (df) to which the other interest rate values will be appended to. From the second 'df_ir' onward, we will be appending the values to 'df' to get a dataset that only contains the interest rate values."
   ],
   "cell_type": "markdown",
   "metadata": {}
  },
  {
   "cell_type": "code",
   "execution_count": 86,
   "metadata": {},
   "outputs": [],
   "source": [
    "#use only for the first instance, comment out afterwards\n",
    "df = df_ir.copy()"
   ]
  },
  {
   "cell_type": "code",
   "execution_count": 91,
   "metadata": {},
   "outputs": [],
   "source": [
    "#start using from the second instance\n",
    "df = append_df(df, df_ir)"
   ]
  },
  {
   "cell_type": "code",
   "execution_count": 92,
   "metadata": {},
   "outputs": [
    {
     "output_type": "execute_result",
     "data": {
      "text/plain": [
       "         index  AUD_IR  month  year  NZD_IR    GBP_IR  BRL_IR    CND_IR  \\\n",
       "0   2000-01-01  0.0500      1  2000  0.0512  0.053527   0.190  0.047700   \n",
       "1   2000-02-01  0.0548      2  2000  0.0526  0.058408   0.190  0.049714   \n",
       "2   2000-03-01  0.0550      3  2000  0.0551  0.057620   0.185  0.052486   \n",
       "3   2000-04-01  0.0572      4  2000  0.0582  0.059347   0.185  0.052586   \n",
       "4   2000-05-01  0.0598      5  2000  0.0624  0.059122   0.185  0.057529   \n",
       "..         ...     ...    ...   ...     ...       ...     ...       ...   \n",
       "235 2019-08-01  0.0100      8  2019  0.0110  0.007101   0.060  0.017481   \n",
       "236 2019-09-01  0.0100      9  2019  0.0096  0.007098   0.055  0.017454   \n",
       "237 2019-10-01  0.0076     10  2019  0.0097  0.007108   0.050  0.017472   \n",
       "238 2019-11-01  0.0075     11  2019  0.0099  0.007105   0.050  0.017487   \n",
       "239 2019-12-01  0.0075     12  2019  0.0095  0.007101   0.045  0.017479   \n",
       "\n",
       "     CNY_IR  IDR_IR  KRW_IR  MXN_IR  ZAR_IR    DKK_IR    JPY_IR  NOK_IR  \\\n",
       "0    0.0324  0.1148  0.0478  0.1529  0.1175  0.031547  0.000205  0.0584   \n",
       "1    0.0324  0.1113  0.0502  0.1518  0.1175  0.034249  0.000345  0.0592   \n",
       "2    0.0324  0.1103  0.0510  0.1367  0.1175  0.036486  0.000214  0.0587   \n",
       "3    0.0324  0.1100  0.0510  0.1248  0.1175  0.038424  0.000200  0.0611   \n",
       "4    0.0324  0.1108  0.0512  0.1251  0.1175  0.039739  0.000210  0.0620   \n",
       "..      ...     ...     ...     ...     ...       ...       ...     ...   \n",
       "235  0.0290  0.0554  0.0151  0.0658  0.0650 -0.005500 -0.000450  0.0125   \n",
       "236  0.0290  0.0524  0.0152  0.0646  0.0650 -0.005500 -0.000590  0.0135   \n",
       "237  0.0290  0.0504  0.0135  0.0625  0.0650 -0.006300 -0.000210  0.0150   \n",
       "238  0.0290  0.0483  0.0128  0.0611  0.0650 -0.006400 -0.000430  0.0150   \n",
       "239  0.0290  0.0483  0.0128  0.0595  0.0650 -0.006200 -0.000380  0.0153   \n",
       "\n",
       "     SEK_IR    CHF_IR  USD_IR  \n",
       "0    0.0198  0.011843  0.0545  \n",
       "1    0.0200  0.019418  0.0573  \n",
       "2    0.0200  0.016124  0.0585  \n",
       "3    0.0247  0.026279  0.0602  \n",
       "4    0.0250  0.021906  0.0627  \n",
       "..      ...       ...     ...  \n",
       "235 -0.0015 -0.010500  0.0213  \n",
       "236 -0.0015 -0.010000  0.0204  \n",
       "237 -0.0015 -0.009100  0.0183  \n",
       "238 -0.0015 -0.008300  0.0155  \n",
       "239 -0.0015 -0.010000  0.0155  \n",
       "\n",
       "[240 rows x 19 columns]"
      ],
      "text/html": "<div>\n<style scoped>\n    .dataframe tbody tr th:only-of-type {\n        vertical-align: middle;\n    }\n\n    .dataframe tbody tr th {\n        vertical-align: top;\n    }\n\n    .dataframe thead th {\n        text-align: right;\n    }\n</style>\n<table border=\"1\" class=\"dataframe\">\n  <thead>\n    <tr style=\"text-align: right;\">\n      <th></th>\n      <th>index</th>\n      <th>AUD_IR</th>\n      <th>month</th>\n      <th>year</th>\n      <th>NZD_IR</th>\n      <th>GBP_IR</th>\n      <th>BRL_IR</th>\n      <th>CND_IR</th>\n      <th>CNY_IR</th>\n      <th>IDR_IR</th>\n      <th>KRW_IR</th>\n      <th>MXN_IR</th>\n      <th>ZAR_IR</th>\n      <th>DKK_IR</th>\n      <th>JPY_IR</th>\n      <th>NOK_IR</th>\n      <th>SEK_IR</th>\n      <th>CHF_IR</th>\n      <th>USD_IR</th>\n    </tr>\n  </thead>\n  <tbody>\n    <tr>\n      <th>0</th>\n      <td>2000-01-01</td>\n      <td>0.0500</td>\n      <td>1</td>\n      <td>2000</td>\n      <td>0.0512</td>\n      <td>0.053527</td>\n      <td>0.190</td>\n      <td>0.047700</td>\n      <td>0.0324</td>\n      <td>0.1148</td>\n      <td>0.0478</td>\n      <td>0.1529</td>\n      <td>0.1175</td>\n      <td>0.031547</td>\n      <td>0.000205</td>\n      <td>0.0584</td>\n      <td>0.0198</td>\n      <td>0.011843</td>\n      <td>0.0545</td>\n    </tr>\n    <tr>\n      <th>1</th>\n      <td>2000-02-01</td>\n      <td>0.0548</td>\n      <td>2</td>\n      <td>2000</td>\n      <td>0.0526</td>\n      <td>0.058408</td>\n      <td>0.190</td>\n      <td>0.049714</td>\n      <td>0.0324</td>\n      <td>0.1113</td>\n      <td>0.0502</td>\n      <td>0.1518</td>\n      <td>0.1175</td>\n      <td>0.034249</td>\n      <td>0.000345</td>\n      <td>0.0592</td>\n      <td>0.0200</td>\n      <td>0.019418</td>\n      <td>0.0573</td>\n    </tr>\n    <tr>\n      <th>2</th>\n      <td>2000-03-01</td>\n      <td>0.0550</td>\n      <td>3</td>\n      <td>2000</td>\n      <td>0.0551</td>\n      <td>0.057620</td>\n      <td>0.185</td>\n      <td>0.052486</td>\n      <td>0.0324</td>\n      <td>0.1103</td>\n      <td>0.0510</td>\n      <td>0.1367</td>\n      <td>0.1175</td>\n      <td>0.036486</td>\n      <td>0.000214</td>\n      <td>0.0587</td>\n      <td>0.0200</td>\n      <td>0.016124</td>\n      <td>0.0585</td>\n    </tr>\n    <tr>\n      <th>3</th>\n      <td>2000-04-01</td>\n      <td>0.0572</td>\n      <td>4</td>\n      <td>2000</td>\n      <td>0.0582</td>\n      <td>0.059347</td>\n      <td>0.185</td>\n      <td>0.052586</td>\n      <td>0.0324</td>\n      <td>0.1100</td>\n      <td>0.0510</td>\n      <td>0.1248</td>\n      <td>0.1175</td>\n      <td>0.038424</td>\n      <td>0.000200</td>\n      <td>0.0611</td>\n      <td>0.0247</td>\n      <td>0.026279</td>\n      <td>0.0602</td>\n    </tr>\n    <tr>\n      <th>4</th>\n      <td>2000-05-01</td>\n      <td>0.0598</td>\n      <td>5</td>\n      <td>2000</td>\n      <td>0.0624</td>\n      <td>0.059122</td>\n      <td>0.185</td>\n      <td>0.057529</td>\n      <td>0.0324</td>\n      <td>0.1108</td>\n      <td>0.0512</td>\n      <td>0.1251</td>\n      <td>0.1175</td>\n      <td>0.039739</td>\n      <td>0.000210</td>\n      <td>0.0620</td>\n      <td>0.0250</td>\n      <td>0.021906</td>\n      <td>0.0627</td>\n    </tr>\n    <tr>\n      <th>...</th>\n      <td>...</td>\n      <td>...</td>\n      <td>...</td>\n      <td>...</td>\n      <td>...</td>\n      <td>...</td>\n      <td>...</td>\n      <td>...</td>\n      <td>...</td>\n      <td>...</td>\n      <td>...</td>\n      <td>...</td>\n      <td>...</td>\n      <td>...</td>\n      <td>...</td>\n      <td>...</td>\n      <td>...</td>\n      <td>...</td>\n      <td>...</td>\n    </tr>\n    <tr>\n      <th>235</th>\n      <td>2019-08-01</td>\n      <td>0.0100</td>\n      <td>8</td>\n      <td>2019</td>\n      <td>0.0110</td>\n      <td>0.007101</td>\n      <td>0.060</td>\n      <td>0.017481</td>\n      <td>0.0290</td>\n      <td>0.0554</td>\n      <td>0.0151</td>\n      <td>0.0658</td>\n      <td>0.0650</td>\n      <td>-0.005500</td>\n      <td>-0.000450</td>\n      <td>0.0125</td>\n      <td>-0.0015</td>\n      <td>-0.010500</td>\n      <td>0.0213</td>\n    </tr>\n    <tr>\n      <th>236</th>\n      <td>2019-09-01</td>\n      <td>0.0100</td>\n      <td>9</td>\n      <td>2019</td>\n      <td>0.0096</td>\n      <td>0.007098</td>\n      <td>0.055</td>\n      <td>0.017454</td>\n      <td>0.0290</td>\n      <td>0.0524</td>\n      <td>0.0152</td>\n      <td>0.0646</td>\n      <td>0.0650</td>\n      <td>-0.005500</td>\n      <td>-0.000590</td>\n      <td>0.0135</td>\n      <td>-0.0015</td>\n      <td>-0.010000</td>\n      <td>0.0204</td>\n    </tr>\n    <tr>\n      <th>237</th>\n      <td>2019-10-01</td>\n      <td>0.0076</td>\n      <td>10</td>\n      <td>2019</td>\n      <td>0.0097</td>\n      <td>0.007108</td>\n      <td>0.050</td>\n      <td>0.017472</td>\n      <td>0.0290</td>\n      <td>0.0504</td>\n      <td>0.0135</td>\n      <td>0.0625</td>\n      <td>0.0650</td>\n      <td>-0.006300</td>\n      <td>-0.000210</td>\n      <td>0.0150</td>\n      <td>-0.0015</td>\n      <td>-0.009100</td>\n      <td>0.0183</td>\n    </tr>\n    <tr>\n      <th>238</th>\n      <td>2019-11-01</td>\n      <td>0.0075</td>\n      <td>11</td>\n      <td>2019</td>\n      <td>0.0099</td>\n      <td>0.007105</td>\n      <td>0.050</td>\n      <td>0.017487</td>\n      <td>0.0290</td>\n      <td>0.0483</td>\n      <td>0.0128</td>\n      <td>0.0611</td>\n      <td>0.0650</td>\n      <td>-0.006400</td>\n      <td>-0.000430</td>\n      <td>0.0150</td>\n      <td>-0.0015</td>\n      <td>-0.008300</td>\n      <td>0.0155</td>\n    </tr>\n    <tr>\n      <th>239</th>\n      <td>2019-12-01</td>\n      <td>0.0075</td>\n      <td>12</td>\n      <td>2019</td>\n      <td>0.0095</td>\n      <td>0.007101</td>\n      <td>0.045</td>\n      <td>0.017479</td>\n      <td>0.0290</td>\n      <td>0.0483</td>\n      <td>0.0128</td>\n      <td>0.0595</td>\n      <td>0.0650</td>\n      <td>-0.006200</td>\n      <td>-0.000380</td>\n      <td>0.0153</td>\n      <td>-0.0015</td>\n      <td>-0.010000</td>\n      <td>0.0155</td>\n    </tr>\n  </tbody>\n</table>\n<p>240 rows × 19 columns</p>\n</div>"
     },
     "metadata": {},
     "execution_count": 92
    }
   ],
   "source": [
    "df #240 rows"
   ]
  },
  {
   "cell_type": "code",
   "execution_count": 103,
   "metadata": {},
   "outputs": [],
   "source": [
    "df.to_csv('<path to save interest rate dataset>', index=False)"
   ]
  },
  {
   "source": [
    "- **forex_path**: path of the dataset with exchange rates"
   ],
   "cell_type": "markdown",
   "metadata": {}
  },
  {
   "cell_type": "code",
   "execution_count": 93,
   "metadata": {},
   "outputs": [],
   "source": [
    "forex_path = '<path of main dataset>'"
   ]
  },
  {
   "cell_type": "code",
   "execution_count": 101,
   "metadata": {},
   "outputs": [
    {
     "output_type": "stream",
     "name": "stdout",
     "text": [
      "(4997, 21)\n(4997, 37)\nTime Series    0\nAUD_USD        0\nNZD_USD        0\nGBP_USD        0\nBRL_USD        0\nCND_USD        0\nCNY_USD        0\nIDR_USD        0\nKRW_USD        0\nMXN_USD        0\nZAR_USD        0\nDKK_USD        0\nJPY_USD        0\nNOK_USD        0\nSEK_USD        0\nCHF_USD        0\nmonth          0\nyear           0\nUSD_USD        0\nprice_gold     0\nfc_year        0\nAUD_IR         0\nNZD_IR         0\nGBP_IR         0\nBRL_IR         0\nCND_IR         0\nCNY_IR         0\nIDR_IR         0\nKRW_IR         0\nMXN_IR         0\nZAR_IR         0\nDKK_IR         0\nJPY_IR         0\nNOK_IR         0\nSEK_IR         0\nCHF_IR         0\nUSD_IR         0\ndtype: int64\n"
     ]
    }
   ],
   "source": [
    "df_with_ir = data_combine(forex_path, df)\n",
    "print(df_with_ir.shape) #4997 rows\n",
    "print(df_with_ir.isna().sum())"
   ]
  },
  {
   "cell_type": "code",
   "execution_count": 102,
   "metadata": {},
   "outputs": [],
   "source": [
    "df_with_ir.to_csv('<path to save the new main dataset 1>', index=False)"
   ]
  },
  {
   "cell_type": "code",
   "execution_count": null,
   "metadata": {},
   "outputs": [],
   "source": []
  }
 ]
}