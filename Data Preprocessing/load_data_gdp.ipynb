{
 "metadata": {
  "language_info": {
   "codemirror_mode": {
    "name": "ipython",
    "version": 3
   },
   "file_extension": ".py",
   "mimetype": "text/x-python",
   "name": "python",
   "nbconvert_exporter": "python",
   "pygments_lexer": "ipython3",
   "version": "3.8.5-final"
  },
  "orig_nbformat": 2,
  "kernelspec": {
   "name": "python3",
   "display_name": "Python 3",
   "language": "python"
  }
 },
 "nbformat": 4,
 "nbformat_minor": 2,
 "cells": [
  {
   "source": [
    "## GDP Growth Rate"
   ],
   "cell_type": "markdown",
   "metadata": {}
  },
  {
   "cell_type": "code",
   "execution_count": 146,
   "metadata": {},
   "outputs": [],
   "source": [
    "import pandas as pd\n",
    "import numpy as np"
   ]
  },
  {
   "source": [
    "- **path_gdp** refers to the path of the gdp growth rate file for a specific country\n",
    "- **country_code** refers to the country code used throughout (refer to README)\n",
    "- **fred_code** refers to the alphanumeric code given for each dataset, for each country by the FRED website"
   ],
   "cell_type": "markdown",
   "metadata": {}
  },
  {
   "cell_type": "code",
   "execution_count": 2,
   "metadata": {},
   "outputs": [],
   "source": [
    "def make_clean(path_gdp, country_code, fred_code):\n",
    "    \n",
    "    df_gdp = pd.read_csv(path_gdp)\n",
    "    df_gdp['DATE'] = pd.to_datetime(df_gdp['DATE'])\n",
    "    df_gdp['month'] = df_gdp['DATE'].dt.month\n",
    "    df_gdp['year'] = df_gdp['DATE'].dt.year\n",
    "    df_gdp = df_gdp.rename(columns={fred_code: f'{country_code}_GDP', 'DATE': 'index'})\n",
    "    df_gdp['shift'] = df_gdp[f'{country_code}_GDP'].shift(1)\n",
    "    df_gdp = df_gdp.dropna()\n",
    "\n",
    "    #need this for time reference \n",
    "    test = pd.read_csv('/Users/zumiis/final_not4git/interest rate/SWITZERLAND IRSTCI01CHM156N.csv')\n",
    "    test['DATE'] = pd.to_datetime(test['DATE'])\n",
    "    test['month'] = test['DATE'].dt.month\n",
    "    test['year'] = test['DATE'].dt.year\n",
    "    test = test.rename(columns={'IRSTCI01CHM156N': 'CHF_IR', 'DATE': 'index'})\n",
    "\n",
    "    merged_df = pd.merge(test, df_gdp, left_on=['index'], right_on=['index'], how='outer').ffill().bfill()\n",
    "\n",
    "    return merged_df\n"
   ]
  },
  {
   "cell_type": "code",
   "execution_count": 62,
   "metadata": {},
   "outputs": [],
   "source": [
    "def change_columns(df, country_code):\n",
    "    \n",
    "    df = df.drop(columns=['CHF_IR', 'month_y', 'year_y', f'{country_code}_GDP'])\n",
    "    df.rename(columns={'month_x':'month', 'year_x':'year', 'shift':f'{country_code}_GDP'}, inplace=True)\n",
    "    df[f'{country_code}_GDP'] = df[f'{country_code}_GDP']/100\n",
    "\n",
    "    return df"
   ]
  },
  {
   "cell_type": "code",
   "execution_count": 4,
   "metadata": {},
   "outputs": [],
   "source": [
    "def data_combine(path, df_gdp):\n",
    "    \n",
    "    exchange_df = pd.read_csv(path) \n",
    "    print(exchange_df.shape)\n",
    "\n",
    "    df_with_gdp = pd.merge(exchange_df, df_gdp, left_on=['month', 'year'], right_on=['month', 'year'])\n",
    "    df_with_gdp.drop(columns='index', inplace=True)\n",
    "\n",
    "    return df_with_gdp"
   ]
  },
  {
   "cell_type": "code",
   "execution_count": 122,
   "metadata": {},
   "outputs": [],
   "source": [
    "gdp_path = '/Users/zumiis/final_not4git/gdp/korea NAEXKP01KRQ657S.csv'\n",
    "country_code = 'KRW'\n",
    "fred_code = 'NAEXKP01KRQ657S'"
   ]
  },
  {
   "cell_type": "code",
   "execution_count": 123,
   "metadata": {},
   "outputs": [
    {
     "output_type": "stream",
     "name": "stdout",
     "text": [
      "index      0\nCHF_IR     0\nmonth_x    0\nyear_x     0\nKRW_GDP    0\nmonth_y    0\nyear_y     0\nshift      0\ndtype: int64\n"
     ]
    },
    {
     "output_type": "execute_result",
     "data": {
      "text/plain": [
       "         index  month  year   KRW_GDP\n",
       "0   2000-01-01      1  2000  0.028863\n",
       "1   2000-02-01      2  2000  0.028863\n",
       "2   2000-03-01      3  2000  0.028863\n",
       "3   2000-04-01      4  2000  0.018951\n",
       "4   2000-05-01      5  2000  0.018951\n",
       "..         ...    ...   ...       ...\n",
       "235 2019-08-01      8  2019  0.010141\n",
       "236 2019-09-01      9  2019  0.010141\n",
       "237 2019-10-01     10  2019  0.003755\n",
       "238 2019-11-01     11  2019  0.003755\n",
       "239 2019-12-01     12  2019  0.003755\n",
       "\n",
       "[240 rows x 4 columns]"
      ],
      "text/html": "<div>\n<style scoped>\n    .dataframe tbody tr th:only-of-type {\n        vertical-align: middle;\n    }\n\n    .dataframe tbody tr th {\n        vertical-align: top;\n    }\n\n    .dataframe thead th {\n        text-align: right;\n    }\n</style>\n<table border=\"1\" class=\"dataframe\">\n  <thead>\n    <tr style=\"text-align: right;\">\n      <th></th>\n      <th>index</th>\n      <th>month</th>\n      <th>year</th>\n      <th>KRW_GDP</th>\n    </tr>\n  </thead>\n  <tbody>\n    <tr>\n      <th>0</th>\n      <td>2000-01-01</td>\n      <td>1</td>\n      <td>2000</td>\n      <td>0.028863</td>\n    </tr>\n    <tr>\n      <th>1</th>\n      <td>2000-02-01</td>\n      <td>2</td>\n      <td>2000</td>\n      <td>0.028863</td>\n    </tr>\n    <tr>\n      <th>2</th>\n      <td>2000-03-01</td>\n      <td>3</td>\n      <td>2000</td>\n      <td>0.028863</td>\n    </tr>\n    <tr>\n      <th>3</th>\n      <td>2000-04-01</td>\n      <td>4</td>\n      <td>2000</td>\n      <td>0.018951</td>\n    </tr>\n    <tr>\n      <th>4</th>\n      <td>2000-05-01</td>\n      <td>5</td>\n      <td>2000</td>\n      <td>0.018951</td>\n    </tr>\n    <tr>\n      <th>...</th>\n      <td>...</td>\n      <td>...</td>\n      <td>...</td>\n      <td>...</td>\n    </tr>\n    <tr>\n      <th>235</th>\n      <td>2019-08-01</td>\n      <td>8</td>\n      <td>2019</td>\n      <td>0.010141</td>\n    </tr>\n    <tr>\n      <th>236</th>\n      <td>2019-09-01</td>\n      <td>9</td>\n      <td>2019</td>\n      <td>0.010141</td>\n    </tr>\n    <tr>\n      <th>237</th>\n      <td>2019-10-01</td>\n      <td>10</td>\n      <td>2019</td>\n      <td>0.003755</td>\n    </tr>\n    <tr>\n      <th>238</th>\n      <td>2019-11-01</td>\n      <td>11</td>\n      <td>2019</td>\n      <td>0.003755</td>\n    </tr>\n    <tr>\n      <th>239</th>\n      <td>2019-12-01</td>\n      <td>12</td>\n      <td>2019</td>\n      <td>0.003755</td>\n    </tr>\n  </tbody>\n</table>\n<p>240 rows × 4 columns</p>\n</div>"
     },
     "metadata": {},
     "execution_count": 123
    }
   ],
   "source": [
    "df_gdp = make_clean(gdp_path, country_code, fred_code)\n",
    "print(df_gdp.isna().sum())\n",
    "\n",
    "df_gdp = change_columns(df_gdp, country_code)\n",
    "df_gdp #240 rows\n"
   ]
  },
  {
   "cell_type": "code",
   "execution_count": 124,
   "metadata": {},
   "outputs": [],
   "source": [
    "path = '/Users/zumiis/final_not4git/for github/data_with_interest_rate_all.csv'\n",
    "path2 = '/Users/zumiis/final_not4git/for github/data_with_interest_rate_gdp_all.csv'"
   ]
  },
  {
   "cell_type": "code",
   "execution_count": 125,
   "metadata": {},
   "outputs": [
    {
     "output_type": "stream",
     "name": "stdout",
     "text": [
      "(4997, 51)\n(4997, 52)\nTime Series    0\nAUD_USD        0\nNZD_USD        0\nGBP_USD        0\nBRL_USD        0\nCND_USD        0\nCNY_USD        0\nIDR_USD        0\nKRW_USD        0\nMXN_USD        0\nZAR_USD        0\nDKK_USD        0\nJPY_USD        0\nNOK_USD        0\nSEK_USD        0\nCHF_USD        0\nmonth          0\nyear           0\nUSD_USD        0\nprice_gold     0\nfc_year        0\nUSD_IR         0\nAUD_IR         0\nNZD_IR         0\nGBP_IR         0\nBRL_IR         0\nCND_IR         0\nCNY_IR         0\nIDR_IR         0\nKRW_IR         0\nMXN_IR         0\nZAR_IR         0\nDKK_IR         0\nJPY_IR         0\nSEK_IR         0\nCHF_IR         0\nNOK_IR         0\nAUD_GDP        0\nNZD_GDP        0\nGBP_GDP        0\nBRL_GDP        0\nCND_GDP        0\nIDR_GDP        0\nMXN_GDP        0\nZAR_GDP        0\nDKK_GDP        0\nJPY_GDP        0\nNOK_GDP        0\nSEK_GDP        0\nCHF_GDP        0\nUSD_GDP        0\nKRW_GDP        0\ndtype: int64\n"
     ]
    }
   ],
   "source": [
    "df_with_gdp = data_combine(path2, df_gdp)\n",
    "print(df_with_gdp.shape) #4997 rows \n",
    "print(df_with_gdp.isna().sum())"
   ]
  },
  {
   "cell_type": "code",
   "execution_count": 126,
   "metadata": {},
   "outputs": [],
   "source": [
    "df_with_gdp.to_csv('/Users/zumiis/final_not4git/for github/data_with_interest_rate_gdp_all.csv', index=False)"
   ]
  },
  {
   "cell_type": "code",
   "execution_count": 120,
   "metadata": {},
   "outputs": [
    {
     "output_type": "execute_result",
     "data": {
      "text/plain": [
       "     Time Series  AUD_USD  NZD_USD  GBP_USD  BRL_USD  CND_USD  CNY_USD  \\\n",
       "0     2000-01-03   1.5172   1.9033   0.6146   1.8050   1.4465   8.2798   \n",
       "1     2000-01-04   1.5239   1.9238   0.6109   1.8405   1.4518   8.2799   \n",
       "2     2000-01-05   1.5267   1.9339   0.6092   1.8560   1.4518   8.2798   \n",
       "3     2000-01-06   1.5291   1.9436   0.6070   1.8400   1.4571   8.2797   \n",
       "4     2000-01-07   1.5272   1.9380   0.6104   1.8310   1.4505   8.2794   \n",
       "...          ...      ...      ...      ...      ...      ...      ...   \n",
       "4992  2019-12-20   1.4489   1.5135   0.7671   4.0859   1.3170   7.0063   \n",
       "4993  2019-12-23   1.4457   1.5088   0.7742   4.0621   1.3167   7.0124   \n",
       "4994  2019-12-26   1.4411   1.5002   0.7688   4.0602   1.3124   6.9949   \n",
       "4995  2019-12-27   1.4331   1.4919   0.7639   4.0507   1.3073   6.9954   \n",
       "4996  2019-12-30   1.4278   1.4846   0.7610   4.0152   1.3058   6.9864   \n",
       "\n",
       "      IDR_USD  KRW_USD  MXN_USD  ...   CND_GDP   IDR_GDP   MXN_GDP   ZAR_GDP  \\\n",
       "0       43.55  1128.00   9.4015  ...  0.014067  0.001072  0.010390  0.010997   \n",
       "1       43.55  1122.50   9.4570  ...  0.014067  0.001072  0.010390  0.010997   \n",
       "2       43.55  1135.00   9.5350  ...  0.014067  0.001072  0.010390  0.010997   \n",
       "3       43.55  1146.50   9.5670  ...  0.014067  0.001072  0.010390  0.010997   \n",
       "4       43.55  1138.00   9.5200  ...  0.014067  0.001072  0.010390  0.010997   \n",
       "...       ...      ...      ...  ...       ...       ...       ...       ...   \n",
       "4992    71.07  1160.30  18.9140  ...  0.002792  0.012057 -0.002268 -0.002096   \n",
       "4993    71.24  1163.64  18.9310  ...  0.002792  0.012057 -0.002268 -0.002096   \n",
       "4994    71.28  1161.18  18.9440  ...  0.002792  0.012057 -0.002268 -0.002096   \n",
       "4995    71.45  1160.87  18.8190  ...  0.002792  0.012057 -0.002268 -0.002096   \n",
       "4996    71.30  1155.75  18.8630  ...  0.002792  0.012057 -0.002268 -0.002096   \n",
       "\n",
       "       DKK_GDP   JPY_GDP   NOK_GDP   SEK_GDP   CHF_GDP   USD_GDP  \n",
       "0     0.012470  0.000564  0.017204  0.017814  0.023764  0.016996  \n",
       "1     0.012470  0.000564  0.017204  0.017814  0.023764  0.016996  \n",
       "2     0.012470  0.000564  0.017204  0.017814  0.023764  0.016996  \n",
       "3     0.012470  0.000564  0.017204  0.017814  0.023764  0.016996  \n",
       "4     0.012470  0.000564  0.017204  0.017814  0.023764  0.016996  \n",
       "...        ...       ...       ...       ...       ...       ...  \n",
       "4992 -0.002002  0.000413 -0.000156  0.003000  0.004473  0.006369  \n",
       "4993 -0.002002  0.000413 -0.000156  0.003000  0.004473  0.006369  \n",
       "4994 -0.002002  0.000413 -0.000156  0.003000  0.004473  0.006369  \n",
       "4995 -0.002002  0.000413 -0.000156  0.003000  0.004473  0.006369  \n",
       "4996 -0.002002  0.000413 -0.000156  0.003000  0.004473  0.006369  \n",
       "\n",
       "[4997 rows x 51 columns]"
      ],
      "text/html": "<div>\n<style scoped>\n    .dataframe tbody tr th:only-of-type {\n        vertical-align: middle;\n    }\n\n    .dataframe tbody tr th {\n        vertical-align: top;\n    }\n\n    .dataframe thead th {\n        text-align: right;\n    }\n</style>\n<table border=\"1\" class=\"dataframe\">\n  <thead>\n    <tr style=\"text-align: right;\">\n      <th></th>\n      <th>Time Series</th>\n      <th>AUD_USD</th>\n      <th>NZD_USD</th>\n      <th>GBP_USD</th>\n      <th>BRL_USD</th>\n      <th>CND_USD</th>\n      <th>CNY_USD</th>\n      <th>IDR_USD</th>\n      <th>KRW_USD</th>\n      <th>MXN_USD</th>\n      <th>...</th>\n      <th>CND_GDP</th>\n      <th>IDR_GDP</th>\n      <th>MXN_GDP</th>\n      <th>ZAR_GDP</th>\n      <th>DKK_GDP</th>\n      <th>JPY_GDP</th>\n      <th>NOK_GDP</th>\n      <th>SEK_GDP</th>\n      <th>CHF_GDP</th>\n      <th>USD_GDP</th>\n    </tr>\n  </thead>\n  <tbody>\n    <tr>\n      <th>0</th>\n      <td>2000-01-03</td>\n      <td>1.5172</td>\n      <td>1.9033</td>\n      <td>0.6146</td>\n      <td>1.8050</td>\n      <td>1.4465</td>\n      <td>8.2798</td>\n      <td>43.55</td>\n      <td>1128.00</td>\n      <td>9.4015</td>\n      <td>...</td>\n      <td>0.014067</td>\n      <td>0.001072</td>\n      <td>0.010390</td>\n      <td>0.010997</td>\n      <td>0.012470</td>\n      <td>0.000564</td>\n      <td>0.017204</td>\n      <td>0.017814</td>\n      <td>0.023764</td>\n      <td>0.016996</td>\n    </tr>\n    <tr>\n      <th>1</th>\n      <td>2000-01-04</td>\n      <td>1.5239</td>\n      <td>1.9238</td>\n      <td>0.6109</td>\n      <td>1.8405</td>\n      <td>1.4518</td>\n      <td>8.2799</td>\n      <td>43.55</td>\n      <td>1122.50</td>\n      <td>9.4570</td>\n      <td>...</td>\n      <td>0.014067</td>\n      <td>0.001072</td>\n      <td>0.010390</td>\n      <td>0.010997</td>\n      <td>0.012470</td>\n      <td>0.000564</td>\n      <td>0.017204</td>\n      <td>0.017814</td>\n      <td>0.023764</td>\n      <td>0.016996</td>\n    </tr>\n    <tr>\n      <th>2</th>\n      <td>2000-01-05</td>\n      <td>1.5267</td>\n      <td>1.9339</td>\n      <td>0.6092</td>\n      <td>1.8560</td>\n      <td>1.4518</td>\n      <td>8.2798</td>\n      <td>43.55</td>\n      <td>1135.00</td>\n      <td>9.5350</td>\n      <td>...</td>\n      <td>0.014067</td>\n      <td>0.001072</td>\n      <td>0.010390</td>\n      <td>0.010997</td>\n      <td>0.012470</td>\n      <td>0.000564</td>\n      <td>0.017204</td>\n      <td>0.017814</td>\n      <td>0.023764</td>\n      <td>0.016996</td>\n    </tr>\n    <tr>\n      <th>3</th>\n      <td>2000-01-06</td>\n      <td>1.5291</td>\n      <td>1.9436</td>\n      <td>0.6070</td>\n      <td>1.8400</td>\n      <td>1.4571</td>\n      <td>8.2797</td>\n      <td>43.55</td>\n      <td>1146.50</td>\n      <td>9.5670</td>\n      <td>...</td>\n      <td>0.014067</td>\n      <td>0.001072</td>\n      <td>0.010390</td>\n      <td>0.010997</td>\n      <td>0.012470</td>\n      <td>0.000564</td>\n      <td>0.017204</td>\n      <td>0.017814</td>\n      <td>0.023764</td>\n      <td>0.016996</td>\n    </tr>\n    <tr>\n      <th>4</th>\n      <td>2000-01-07</td>\n      <td>1.5272</td>\n      <td>1.9380</td>\n      <td>0.6104</td>\n      <td>1.8310</td>\n      <td>1.4505</td>\n      <td>8.2794</td>\n      <td>43.55</td>\n      <td>1138.00</td>\n      <td>9.5200</td>\n      <td>...</td>\n      <td>0.014067</td>\n      <td>0.001072</td>\n      <td>0.010390</td>\n      <td>0.010997</td>\n      <td>0.012470</td>\n      <td>0.000564</td>\n      <td>0.017204</td>\n      <td>0.017814</td>\n      <td>0.023764</td>\n      <td>0.016996</td>\n    </tr>\n    <tr>\n      <th>...</th>\n      <td>...</td>\n      <td>...</td>\n      <td>...</td>\n      <td>...</td>\n      <td>...</td>\n      <td>...</td>\n      <td>...</td>\n      <td>...</td>\n      <td>...</td>\n      <td>...</td>\n      <td>...</td>\n      <td>...</td>\n      <td>...</td>\n      <td>...</td>\n      <td>...</td>\n      <td>...</td>\n      <td>...</td>\n      <td>...</td>\n      <td>...</td>\n      <td>...</td>\n      <td>...</td>\n    </tr>\n    <tr>\n      <th>4992</th>\n      <td>2019-12-20</td>\n      <td>1.4489</td>\n      <td>1.5135</td>\n      <td>0.7671</td>\n      <td>4.0859</td>\n      <td>1.3170</td>\n      <td>7.0063</td>\n      <td>71.07</td>\n      <td>1160.30</td>\n      <td>18.9140</td>\n      <td>...</td>\n      <td>0.002792</td>\n      <td>0.012057</td>\n      <td>-0.002268</td>\n      <td>-0.002096</td>\n      <td>-0.002002</td>\n      <td>0.000413</td>\n      <td>-0.000156</td>\n      <td>0.003000</td>\n      <td>0.004473</td>\n      <td>0.006369</td>\n    </tr>\n    <tr>\n      <th>4993</th>\n      <td>2019-12-23</td>\n      <td>1.4457</td>\n      <td>1.5088</td>\n      <td>0.7742</td>\n      <td>4.0621</td>\n      <td>1.3167</td>\n      <td>7.0124</td>\n      <td>71.24</td>\n      <td>1163.64</td>\n      <td>18.9310</td>\n      <td>...</td>\n      <td>0.002792</td>\n      <td>0.012057</td>\n      <td>-0.002268</td>\n      <td>-0.002096</td>\n      <td>-0.002002</td>\n      <td>0.000413</td>\n      <td>-0.000156</td>\n      <td>0.003000</td>\n      <td>0.004473</td>\n      <td>0.006369</td>\n    </tr>\n    <tr>\n      <th>4994</th>\n      <td>2019-12-26</td>\n      <td>1.4411</td>\n      <td>1.5002</td>\n      <td>0.7688</td>\n      <td>4.0602</td>\n      <td>1.3124</td>\n      <td>6.9949</td>\n      <td>71.28</td>\n      <td>1161.18</td>\n      <td>18.9440</td>\n      <td>...</td>\n      <td>0.002792</td>\n      <td>0.012057</td>\n      <td>-0.002268</td>\n      <td>-0.002096</td>\n      <td>-0.002002</td>\n      <td>0.000413</td>\n      <td>-0.000156</td>\n      <td>0.003000</td>\n      <td>0.004473</td>\n      <td>0.006369</td>\n    </tr>\n    <tr>\n      <th>4995</th>\n      <td>2019-12-27</td>\n      <td>1.4331</td>\n      <td>1.4919</td>\n      <td>0.7639</td>\n      <td>4.0507</td>\n      <td>1.3073</td>\n      <td>6.9954</td>\n      <td>71.45</td>\n      <td>1160.87</td>\n      <td>18.8190</td>\n      <td>...</td>\n      <td>0.002792</td>\n      <td>0.012057</td>\n      <td>-0.002268</td>\n      <td>-0.002096</td>\n      <td>-0.002002</td>\n      <td>0.000413</td>\n      <td>-0.000156</td>\n      <td>0.003000</td>\n      <td>0.004473</td>\n      <td>0.006369</td>\n    </tr>\n    <tr>\n      <th>4996</th>\n      <td>2019-12-30</td>\n      <td>1.4278</td>\n      <td>1.4846</td>\n      <td>0.7610</td>\n      <td>4.0152</td>\n      <td>1.3058</td>\n      <td>6.9864</td>\n      <td>71.30</td>\n      <td>1155.75</td>\n      <td>18.8630</td>\n      <td>...</td>\n      <td>0.002792</td>\n      <td>0.012057</td>\n      <td>-0.002268</td>\n      <td>-0.002096</td>\n      <td>-0.002002</td>\n      <td>0.000413</td>\n      <td>-0.000156</td>\n      <td>0.003000</td>\n      <td>0.004473</td>\n      <td>0.006369</td>\n    </tr>\n  </tbody>\n</table>\n<p>4997 rows × 51 columns</p>\n</div>"
     },
     "metadata": {},
     "execution_count": 120
    }
   ],
   "source": [
    "df_with_gdp"
   ]
  },
  {
   "source": [
    "## With IMF data (for China)"
   ],
   "cell_type": "markdown",
   "metadata": {}
  },
  {
   "cell_type": "code",
   "execution_count": 139,
   "metadata": {},
   "outputs": [],
   "source": [
    "def make_nice_for_rating(df):\n",
    "    \n",
    "    df.drop(columns=['Unnamed: 0', 'Unnamed: 2', 'Indicator', 'Scale', 'Base Year'], inplace=True)\n",
    "    df.drop([0,1,2,3], inplace=True)\n",
    "    \n",
    "    return df"
   ]
  },
  {
   "cell_type": "code",
   "execution_count": 129,
   "metadata": {},
   "outputs": [],
   "source": [
    "def calc_rate(df):\n",
    "    \n",
    "    df_rate = pd.DataFrame((df.iloc[:,1] - df.iloc[:,0])/(df.iloc[:,0]))\n",
    "    for i in list(range(1, df.shape[1])):\n",
    "        df_rate[i] = pd.DataFrame((df.iloc[:,i] - df.iloc[:,i-1])/(df.iloc[:,i-1]))\n",
    "    \n",
    "    return df_rate"
   ]
  },
  {
   "cell_type": "code",
   "execution_count": 159,
   "metadata": {},
   "outputs": [],
   "source": [
    "def transpose_merge(df, df_rate, index_num):\n",
    "    \n",
    "    df = df.transpose().reset_index()\n",
    "    df.rename(columns={index_num:'gdp deflator'}, inplace=True)\n",
    "    df_rate = df_rate.transpose()\n",
    "    df_merge = pd.merge(df, df_rate, left_index=True, right_index=True)\n",
    "    df_append = pd.DataFrame([['2019Q4', np.nan, np.nan]], columns=['index', 'gdp deflator', index_num])\n",
    "    df_merge = df_merge.append(df_append, ignore_index=True)\n",
    "    df_merge = df_merge.ffill()\n",
    "\n",
    "    return df_merge\n"
   ]
  },
  {
   "cell_type": "code",
   "execution_count": 160,
   "metadata": {},
   "outputs": [],
   "source": [
    "def remove_Qs(df_merge):\n",
    "    \n",
    "    df_merge['index_t'] = df_merge['index'].apply(lambda x: x.replace('Q1', '-01'))\n",
    "    df_merge['index_t'] = df_merge['index_t'].apply(lambda x: x.replace('Q2', '-04'))\n",
    "    df_merge['index_t'] = df_merge['index_t'].apply(lambda x: x.replace('Q3', '-07'))\n",
    "    df_merge['index_t'] = df_merge['index_t'].apply(lambda x: x.replace('Q4', '-10'))\n",
    "\n",
    "    return df_merge"
   ]
  },
  {
   "cell_type": "code",
   "execution_count": 154,
   "metadata": {},
   "outputs": [],
   "source": [
    "def make_clean_imf(df, country_code, index_num):\n",
    "    \n",
    "    df['index'] = pd.to_datetime(df['index'])\n",
    "\n",
    "    df['year'] = df['index'].dt.year\n",
    "    df['month'] = df['index'].dt.month\n",
    "\n",
    "    df = df.rename(columns={index_num: f'{country_code}_GDP'})\n",
    "\n",
    "    #needed for time reference \n",
    "    test = pd.read_csv('/Users/zumiis/final_not4git/interest rate/SWITZERLAND IRSTCI01CHM156N.csv')\n",
    "    test['DATE'] = pd.to_datetime(test['DATE'])\n",
    "    test['month'] = test['DATE'].dt.month\n",
    "    test['year'] = test['DATE'].dt.year\n",
    "    test = test.rename(columns={'IRSTCI01CHM156N': 'CHF_IR', 'DATE': 'index'})\n",
    "\n",
    "    merged_df = pd.merge(test, df, left_on=['month', 'year'], right_on=['month', 'year'], how='outer').ffill().bfill()\n",
    "    merged_df.drop(columns=['index_y', 'CHF_IR', 'index_t'], inplace=True)\n",
    "\n",
    "    return merged_df\n"
   ]
  },
  {
   "cell_type": "code",
   "execution_count": 152,
   "metadata": {},
   "outputs": [],
   "source": [
    "def data_combine_imf(path, df_gdp):\n",
    "    \n",
    "    exchange_df = pd.read_csv(path) \n",
    "    print(exchange_df.shape)\n",
    "\n",
    "    df_with_gdp = pd.merge(exchange_df, df_gdp, left_on=['month', 'year'], right_on=['month', 'year'])\n",
    "    df_with_gdp.drop(columns=['index_x', 'gdp deflator'], inplace=True)\n",
    "\n",
    "    return df_with_gdp"
   ]
  },
  {
   "cell_type": "code",
   "execution_count": 140,
   "metadata": {},
   "outputs": [
    {
     "output_type": "stream",
     "name": "stdout",
     "text": [
      "WARNING *** file size (30165) not 512 + multiple of sector size (512)\nWARNING *** OLE2 inconsistency: SSCS size is 0 but SSAT size is non-zero\n"
     ]
    },
    {
     "output_type": "execute_result",
     "data": {
      "text/plain": [
       "   2000Q1   2000Q2   2000Q3   2000Q4   2001Q1   2001Q2   2001Q3   2001Q4  \\\n",
       "4  66.995  67.8131  68.9522  60.8359  69.7262  69.5984  70.5531  61.9875   \n",
       "\n",
       "    2002Q1   2002Q2  ...  2017Q2   2017Q3  2017Q4   2018Q1   2018Q2   2018Q3  \\\n",
       "4  69.8987  70.4319  ...  122.33  123.171  124.99  126.636  126.243  126.554   \n",
       "\n",
       "    2018Q4  2019Q1   2019Q2   2019Q3  \n",
       "4  128.273  128.31  128.768  128.476  \n",
       "\n",
       "[1 rows x 79 columns]"
      ],
      "text/html": "<div>\n<style scoped>\n    .dataframe tbody tr th:only-of-type {\n        vertical-align: middle;\n    }\n\n    .dataframe tbody tr th {\n        vertical-align: top;\n    }\n\n    .dataframe thead th {\n        text-align: right;\n    }\n</style>\n<table border=\"1\" class=\"dataframe\">\n  <thead>\n    <tr style=\"text-align: right;\">\n      <th></th>\n      <th>2000Q1</th>\n      <th>2000Q2</th>\n      <th>2000Q3</th>\n      <th>2000Q4</th>\n      <th>2001Q1</th>\n      <th>2001Q2</th>\n      <th>2001Q3</th>\n      <th>2001Q4</th>\n      <th>2002Q1</th>\n      <th>2002Q2</th>\n      <th>...</th>\n      <th>2017Q2</th>\n      <th>2017Q3</th>\n      <th>2017Q4</th>\n      <th>2018Q1</th>\n      <th>2018Q2</th>\n      <th>2018Q3</th>\n      <th>2018Q4</th>\n      <th>2019Q1</th>\n      <th>2019Q2</th>\n      <th>2019Q3</th>\n    </tr>\n  </thead>\n  <tbody>\n    <tr>\n      <th>4</th>\n      <td>66.995</td>\n      <td>67.8131</td>\n      <td>68.9522</td>\n      <td>60.8359</td>\n      <td>69.7262</td>\n      <td>69.5984</td>\n      <td>70.5531</td>\n      <td>61.9875</td>\n      <td>69.8987</td>\n      <td>70.4319</td>\n      <td>...</td>\n      <td>122.33</td>\n      <td>123.171</td>\n      <td>124.99</td>\n      <td>126.636</td>\n      <td>126.243</td>\n      <td>126.554</td>\n      <td>128.273</td>\n      <td>128.31</td>\n      <td>128.768</td>\n      <td>128.476</td>\n    </tr>\n  </tbody>\n</table>\n<p>1 rows × 79 columns</p>\n</div>"
     },
     "metadata": {},
     "execution_count": 140
    }
   ],
   "source": [
    "df = pd.read_excel('/Users/zumiis/final_not4git/gdp/china.xlsx', header=7)\n",
    "df = make_nice_for_rating(df)\n",
    "df"
   ]
  },
  {
   "cell_type": "code",
   "execution_count": 141,
   "metadata": {},
   "outputs": [
    {
     "output_type": "execute_result",
     "data": {
      "text/plain": [
       "          0          1          2         3         4           5          6   \\\n",
       "4  0.0122114  0.0122114  0.0167975 -0.117709  0.146135 -0.00183271  0.0137171   \n",
       "\n",
       "         7         8           9   ...          69          70         71  \\\n",
       "4 -0.121406  0.127626  0.00762769  ... -0.00256154  0.00687341  0.0147655   \n",
       "\n",
       "          72          73          74         75           76          77  \\\n",
       "4  0.0131757 -0.00310647  0.00246736  0.0135799  0.000285552  0.00356856   \n",
       "\n",
       "           78  \n",
       "4 -0.00226119  \n",
       "\n",
       "[1 rows x 79 columns]"
      ],
      "text/html": "<div>\n<style scoped>\n    .dataframe tbody tr th:only-of-type {\n        vertical-align: middle;\n    }\n\n    .dataframe tbody tr th {\n        vertical-align: top;\n    }\n\n    .dataframe thead th {\n        text-align: right;\n    }\n</style>\n<table border=\"1\" class=\"dataframe\">\n  <thead>\n    <tr style=\"text-align: right;\">\n      <th></th>\n      <th>0</th>\n      <th>1</th>\n      <th>2</th>\n      <th>3</th>\n      <th>4</th>\n      <th>5</th>\n      <th>6</th>\n      <th>7</th>\n      <th>8</th>\n      <th>9</th>\n      <th>...</th>\n      <th>69</th>\n      <th>70</th>\n      <th>71</th>\n      <th>72</th>\n      <th>73</th>\n      <th>74</th>\n      <th>75</th>\n      <th>76</th>\n      <th>77</th>\n      <th>78</th>\n    </tr>\n  </thead>\n  <tbody>\n    <tr>\n      <th>4</th>\n      <td>0.0122114</td>\n      <td>0.0122114</td>\n      <td>0.0167975</td>\n      <td>-0.117709</td>\n      <td>0.146135</td>\n      <td>-0.00183271</td>\n      <td>0.0137171</td>\n      <td>-0.121406</td>\n      <td>0.127626</td>\n      <td>0.00762769</td>\n      <td>...</td>\n      <td>-0.00256154</td>\n      <td>0.00687341</td>\n      <td>0.0147655</td>\n      <td>0.0131757</td>\n      <td>-0.00310647</td>\n      <td>0.00246736</td>\n      <td>0.0135799</td>\n      <td>0.000285552</td>\n      <td>0.00356856</td>\n      <td>-0.00226119</td>\n    </tr>\n  </tbody>\n</table>\n<p>1 rows × 79 columns</p>\n</div>"
     },
     "metadata": {},
     "execution_count": 141
    }
   ],
   "source": [
    "df_rate = calc_rate(df)\n",
    "df_rate"
   ]
  },
  {
   "cell_type": "code",
   "execution_count": 148,
   "metadata": {},
   "outputs": [
    {
     "output_type": "execute_result",
     "data": {
      "text/plain": [
       "     index  gdp deflator         4  index_t\n",
       "0   2000Q1     66.995042  0.012211  2000-01\n",
       "1   2000Q2     67.813143  0.012211  2000-04\n",
       "2   2000Q3     68.952233  0.016797  2000-07\n",
       "3   2000Q4     60.835936 -0.117709  2000-10\n",
       "4   2001Q1     69.726194  0.146135  2001-01\n",
       "..     ...           ...       ...      ...\n",
       "75  2018Q4    128.273059  0.013580  2018-10\n",
       "76  2019Q1    128.309688  0.000286  2019-01\n",
       "77  2019Q2    128.767569  0.003569  2019-04\n",
       "78  2019Q3    128.476400 -0.002261  2019-07\n",
       "79  2019Q4    128.476400 -0.002261  2019-10\n",
       "\n",
       "[80 rows x 4 columns]"
      ],
      "text/html": "<div>\n<style scoped>\n    .dataframe tbody tr th:only-of-type {\n        vertical-align: middle;\n    }\n\n    .dataframe tbody tr th {\n        vertical-align: top;\n    }\n\n    .dataframe thead th {\n        text-align: right;\n    }\n</style>\n<table border=\"1\" class=\"dataframe\">\n  <thead>\n    <tr style=\"text-align: right;\">\n      <th></th>\n      <th>index</th>\n      <th>gdp deflator</th>\n      <th>4</th>\n      <th>index_t</th>\n    </tr>\n  </thead>\n  <tbody>\n    <tr>\n      <th>0</th>\n      <td>2000Q1</td>\n      <td>66.995042</td>\n      <td>0.012211</td>\n      <td>2000-01</td>\n    </tr>\n    <tr>\n      <th>1</th>\n      <td>2000Q2</td>\n      <td>67.813143</td>\n      <td>0.012211</td>\n      <td>2000-04</td>\n    </tr>\n    <tr>\n      <th>2</th>\n      <td>2000Q3</td>\n      <td>68.952233</td>\n      <td>0.016797</td>\n      <td>2000-07</td>\n    </tr>\n    <tr>\n      <th>3</th>\n      <td>2000Q4</td>\n      <td>60.835936</td>\n      <td>-0.117709</td>\n      <td>2000-10</td>\n    </tr>\n    <tr>\n      <th>4</th>\n      <td>2001Q1</td>\n      <td>69.726194</td>\n      <td>0.146135</td>\n      <td>2001-01</td>\n    </tr>\n    <tr>\n      <th>...</th>\n      <td>...</td>\n      <td>...</td>\n      <td>...</td>\n      <td>...</td>\n    </tr>\n    <tr>\n      <th>75</th>\n      <td>2018Q4</td>\n      <td>128.273059</td>\n      <td>0.013580</td>\n      <td>2018-10</td>\n    </tr>\n    <tr>\n      <th>76</th>\n      <td>2019Q1</td>\n      <td>128.309688</td>\n      <td>0.000286</td>\n      <td>2019-01</td>\n    </tr>\n    <tr>\n      <th>77</th>\n      <td>2019Q2</td>\n      <td>128.767569</td>\n      <td>0.003569</td>\n      <td>2019-04</td>\n    </tr>\n    <tr>\n      <th>78</th>\n      <td>2019Q3</td>\n      <td>128.476400</td>\n      <td>-0.002261</td>\n      <td>2019-07</td>\n    </tr>\n    <tr>\n      <th>79</th>\n      <td>2019Q4</td>\n      <td>128.476400</td>\n      <td>-0.002261</td>\n      <td>2019-10</td>\n    </tr>\n  </tbody>\n</table>\n<p>80 rows × 4 columns</p>\n</div>"
     },
     "metadata": {},
     "execution_count": 148
    }
   ],
   "source": [
    "df_merge = transpose_merge(df, df_rate, 4)\n",
    "df_merge = remove_Qs(df_merge)\n",
    "df_merge #80 rows"
   ]
  },
  {
   "cell_type": "code",
   "execution_count": 155,
   "metadata": {},
   "outputs": [
    {
     "output_type": "execute_result",
     "data": {
      "text/plain": [
       "       index_x  month  year  gdp deflator   CNY_GDP\n",
       "0   2000-01-01      1  2000     66.995042  0.012211\n",
       "1   2000-02-01      2  2000     66.995042  0.012211\n",
       "2   2000-03-01      3  2000     66.995042  0.012211\n",
       "3   2000-04-01      4  2000     67.813143  0.012211\n",
       "4   2000-05-01      5  2000     67.813143  0.012211\n",
       "..         ...    ...   ...           ...       ...\n",
       "235 2019-08-01      8  2019    128.476400 -0.002261\n",
       "236 2019-09-01      9  2019    128.476400 -0.002261\n",
       "237 2019-10-01     10  2019    128.476400 -0.002261\n",
       "238 2019-11-01     11  2019    128.476400 -0.002261\n",
       "239 2019-12-01     12  2019    128.476400 -0.002261\n",
       "\n",
       "[240 rows x 5 columns]"
      ],
      "text/html": "<div>\n<style scoped>\n    .dataframe tbody tr th:only-of-type {\n        vertical-align: middle;\n    }\n\n    .dataframe tbody tr th {\n        vertical-align: top;\n    }\n\n    .dataframe thead th {\n        text-align: right;\n    }\n</style>\n<table border=\"1\" class=\"dataframe\">\n  <thead>\n    <tr style=\"text-align: right;\">\n      <th></th>\n      <th>index_x</th>\n      <th>month</th>\n      <th>year</th>\n      <th>gdp deflator</th>\n      <th>CNY_GDP</th>\n    </tr>\n  </thead>\n  <tbody>\n    <tr>\n      <th>0</th>\n      <td>2000-01-01</td>\n      <td>1</td>\n      <td>2000</td>\n      <td>66.995042</td>\n      <td>0.012211</td>\n    </tr>\n    <tr>\n      <th>1</th>\n      <td>2000-02-01</td>\n      <td>2</td>\n      <td>2000</td>\n      <td>66.995042</td>\n      <td>0.012211</td>\n    </tr>\n    <tr>\n      <th>2</th>\n      <td>2000-03-01</td>\n      <td>3</td>\n      <td>2000</td>\n      <td>66.995042</td>\n      <td>0.012211</td>\n    </tr>\n    <tr>\n      <th>3</th>\n      <td>2000-04-01</td>\n      <td>4</td>\n      <td>2000</td>\n      <td>67.813143</td>\n      <td>0.012211</td>\n    </tr>\n    <tr>\n      <th>4</th>\n      <td>2000-05-01</td>\n      <td>5</td>\n      <td>2000</td>\n      <td>67.813143</td>\n      <td>0.012211</td>\n    </tr>\n    <tr>\n      <th>...</th>\n      <td>...</td>\n      <td>...</td>\n      <td>...</td>\n      <td>...</td>\n      <td>...</td>\n    </tr>\n    <tr>\n      <th>235</th>\n      <td>2019-08-01</td>\n      <td>8</td>\n      <td>2019</td>\n      <td>128.476400</td>\n      <td>-0.002261</td>\n    </tr>\n    <tr>\n      <th>236</th>\n      <td>2019-09-01</td>\n      <td>9</td>\n      <td>2019</td>\n      <td>128.476400</td>\n      <td>-0.002261</td>\n    </tr>\n    <tr>\n      <th>237</th>\n      <td>2019-10-01</td>\n      <td>10</td>\n      <td>2019</td>\n      <td>128.476400</td>\n      <td>-0.002261</td>\n    </tr>\n    <tr>\n      <th>238</th>\n      <td>2019-11-01</td>\n      <td>11</td>\n      <td>2019</td>\n      <td>128.476400</td>\n      <td>-0.002261</td>\n    </tr>\n    <tr>\n      <th>239</th>\n      <td>2019-12-01</td>\n      <td>12</td>\n      <td>2019</td>\n      <td>128.476400</td>\n      <td>-0.002261</td>\n    </tr>\n  </tbody>\n</table>\n<p>240 rows × 5 columns</p>\n</div>"
     },
     "metadata": {},
     "execution_count": 155
    }
   ],
   "source": [
    "df_merge_clean = make_clean_imf(df_merge, 'CNY', 4)\n",
    "df_merge_clean #240 rows"
   ]
  },
  {
   "cell_type": "code",
   "execution_count": 157,
   "metadata": {},
   "outputs": [
    {
     "output_type": "stream",
     "name": "stdout",
     "text": [
      "(4997, 52)\n(4997, 53)\nTime Series    0\nAUD_USD        0\nNZD_USD        0\nGBP_USD        0\nBRL_USD        0\nCND_USD        0\nCNY_USD        0\nIDR_USD        0\nKRW_USD        0\nMXN_USD        0\nZAR_USD        0\nDKK_USD        0\nJPY_USD        0\nNOK_USD        0\nSEK_USD        0\nCHF_USD        0\nmonth          0\nyear           0\nUSD_USD        0\nprice_gold     0\nfc_year        0\nUSD_IR         0\nAUD_IR         0\nNZD_IR         0\nGBP_IR         0\nBRL_IR         0\nCND_IR         0\nCNY_IR         0\nIDR_IR         0\nKRW_IR         0\nMXN_IR         0\nZAR_IR         0\nDKK_IR         0\nJPY_IR         0\nSEK_IR         0\nCHF_IR         0\nNOK_IR         0\nAUD_GDP        0\nNZD_GDP        0\nGBP_GDP        0\nBRL_GDP        0\nCND_GDP        0\nIDR_GDP        0\nMXN_GDP        0\nZAR_GDP        0\nDKK_GDP        0\nJPY_GDP        0\nNOK_GDP        0\nSEK_GDP        0\nCHF_GDP        0\nUSD_GDP        0\nKRW_GDP        0\nCNY_GDP        0\ndtype: int64\n"
     ]
    }
   ],
   "source": [
    "df_with_gdp = data_combine_imf(path2, df_merge_clean)\n",
    "print(df_with_gdp.shape) #4997 rows\n",
    "print(df_with_gdp.isna().sum())\n"
   ]
  },
  {
   "cell_type": "code",
   "execution_count": 158,
   "metadata": {},
   "outputs": [],
   "source": [
    "df_with_gdp.to_csv('/Users/zumiis/final_not4git/for github/data_with_interest_rate_gdp_all.csv', index=False)"
   ]
  },
  {
   "cell_type": "code",
   "execution_count": null,
   "metadata": {},
   "outputs": [],
   "source": []
  }
 ]
}