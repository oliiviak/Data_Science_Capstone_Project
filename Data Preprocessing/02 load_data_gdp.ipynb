{
 "metadata": {
  "language_info": {
   "codemirror_mode": {
    "name": "ipython",
    "version": 3
   },
   "file_extension": ".py",
   "mimetype": "text/x-python",
   "name": "python",
   "nbconvert_exporter": "python",
   "pygments_lexer": "ipython3",
   "version": "3.8.5-final"
  },
  "orig_nbformat": 2,
  "kernelspec": {
   "name": "python3",
   "display_name": "Python 3",
   "language": "python"
  }
 },
 "nbformat": 4,
 "nbformat_minor": 2,
 "cells": [
  {
   "source": [
    "## GDP Growth Rate"
   ],
   "cell_type": "markdown",
   "metadata": {}
  },
  {
   "cell_type": "code",
   "execution_count": 2,
   "metadata": {},
   "outputs": [],
   "source": [
    "import pandas as pd\n",
    "import numpy as np"
   ]
  },
  {
   "source": [
    "- **path_ir**: path of the GDP growth rate file for an individual country (the data can only be downloaded one country at a time)\n",
    "- **country_code**: country code used throughout (refer to README)\n",
    "- **fred_code**: alphanumeric code given for each dataset, for each country by the FRED website"
   ],
   "cell_type": "markdown",
   "metadata": {}
  },
  {
   "cell_type": "code",
   "execution_count": 11,
   "metadata": {},
   "outputs": [],
   "source": [
    "def make_clean(path_gdp, country_code, fred_code):\n",
    "    \n",
    "    df_gdp = pd.read_csv(path_gdp)\n",
    "    df_gdp['DATE'] = pd.to_datetime(df_gdp['DATE'])\n",
    "    df_gdp['month'] = df_gdp['DATE'].dt.month\n",
    "    df_gdp['year'] = df_gdp['DATE'].dt.year\n",
    "    df_gdp = df_gdp.rename(columns={fred_code: f'{country_code}_GDP', 'DATE': 'index'})\n",
    "    df_gdp['shift'] = df_gdp[f'{country_code}_GDP'].shift(1)\n",
    "    df_gdp = df_gdp.dropna()\n",
    "\n",
    "    \"\"\"\n",
    "    For this section, in order to make the dates uniform, we need to use an interest rate file for reference; any file can be used.\n",
    "    Take note of the fred_code of the file because we will need it in the 'change_columns' function. For reference, the interest rate \n",
    "    file used was Switzerland. \n",
    "    \"\"\"\n",
    "    #need this for time reference \n",
    "    test = pd.read_csv('<path to any interest rate file>')\n",
    "    test['DATE'] = pd.to_datetime(test['DATE'])\n",
    "    test['month'] = test['DATE'].dt.month\n",
    "    test['year'] = test['DATE'].dt.year\n",
    "    test = test.rename(columns={'DATE': 'index'})\n",
    "\n",
    "    merged_df = pd.merge(test, df_gdp, left_on=['index'], right_on=['index'], how='outer').ffill().bfill()\n",
    "\n",
    "    return merged_df\n"
   ]
  },
  {
   "cell_type": "code",
   "execution_count": 6,
   "metadata": {},
   "outputs": [],
   "source": [
    "def change_columns(df, country_code):\n",
    "    \n",
    "    #replace the fred_code written here with the fred_code from the interest rate file chosen \n",
    "    df = df.drop(columns=['IRSTCI01CHM156N', 'month_y', 'year_y', f'{country_code}_GDP'])\n",
    "    df.rename(columns={'month_x':'month', 'year_x':'year', 'shift':f'{country_code}_GDP'}, inplace=True)\n",
    "    df[f'{country_code}_GDP'] = df[f'{country_code}_GDP']/100\n",
    "\n",
    "    return df"
   ]
  },
  {
   "cell_type": "code",
   "execution_count": 7,
   "metadata": {},
   "outputs": [],
   "source": [
    "def append_df(df, df_gdp):\n",
    "    \n",
    "    df_gdp.drop(columns='index', inplace=True)\n",
    "    df = pd.merge(df, df_gdp, left_on=['month', 'year'], right_on=['month', 'year'])\n",
    "\n",
    "    return df"
   ]
  },
  {
   "cell_type": "code",
   "execution_count": 8,
   "metadata": {},
   "outputs": [],
   "source": [
    "def data_combine(path, df_gdp):\n",
    "    \n",
    "    exchange_df = pd.read_csv(path) \n",
    "    print(exchange_df.shape)\n",
    "\n",
    "    df_with_gdp = pd.merge(exchange_df, df_gdp, left_on=['month', 'year'], right_on=['month', 'year'])\n",
    "    df_with_gdp.drop(columns='index', inplace=True)\n",
    "\n",
    "    return df_with_gdp"
   ]
  },
  {
   "cell_type": "code",
   "execution_count": 9,
   "metadata": {},
   "outputs": [],
   "source": [
    "#replace country_code & fred_code values with values for the chosen GDP file \n",
    "\n",
    "gdp_path = '<path to gdp file>'\n",
    "country_code = 'USD'\n",
    "fred_code = 'NAEXKP01USQ657S'"
   ]
  },
  {
   "cell_type": "code",
   "execution_count": 12,
   "metadata": {},
   "outputs": [
    {
     "output_type": "stream",
     "name": "stdout",
     "text": [
      "index              0\nIRSTCI01CHM156N    0\nmonth_x            0\nyear_x             0\nUSD_GDP            0\nmonth_y            0\nyear_y             0\nshift              0\ndtype: int64\n"
     ]
    },
    {
     "output_type": "execute_result",
     "data": {
      "text/plain": [
       "         index  month  year   USD_GDP\n",
       "0   2000-01-01      1  2000  0.016996\n",
       "1   2000-02-01      2  2000  0.016996\n",
       "2   2000-03-01      3  2000  0.016996\n",
       "3   2000-04-01      4  2000  0.003618\n",
       "4   2000-05-01      5  2000  0.003618\n",
       "..         ...    ...   ...       ...\n",
       "235 2019-08-01      8  2019  0.003707\n",
       "236 2019-09-01      9  2019  0.003707\n",
       "237 2019-10-01     10  2019  0.006369\n",
       "238 2019-11-01     11  2019  0.006369\n",
       "239 2019-12-01     12  2019  0.006369\n",
       "\n",
       "[240 rows x 4 columns]"
      ],
      "text/html": "<div>\n<style scoped>\n    .dataframe tbody tr th:only-of-type {\n        vertical-align: middle;\n    }\n\n    .dataframe tbody tr th {\n        vertical-align: top;\n    }\n\n    .dataframe thead th {\n        text-align: right;\n    }\n</style>\n<table border=\"1\" class=\"dataframe\">\n  <thead>\n    <tr style=\"text-align: right;\">\n      <th></th>\n      <th>index</th>\n      <th>month</th>\n      <th>year</th>\n      <th>USD_GDP</th>\n    </tr>\n  </thead>\n  <tbody>\n    <tr>\n      <th>0</th>\n      <td>2000-01-01</td>\n      <td>1</td>\n      <td>2000</td>\n      <td>0.016996</td>\n    </tr>\n    <tr>\n      <th>1</th>\n      <td>2000-02-01</td>\n      <td>2</td>\n      <td>2000</td>\n      <td>0.016996</td>\n    </tr>\n    <tr>\n      <th>2</th>\n      <td>2000-03-01</td>\n      <td>3</td>\n      <td>2000</td>\n      <td>0.016996</td>\n    </tr>\n    <tr>\n      <th>3</th>\n      <td>2000-04-01</td>\n      <td>4</td>\n      <td>2000</td>\n      <td>0.003618</td>\n    </tr>\n    <tr>\n      <th>4</th>\n      <td>2000-05-01</td>\n      <td>5</td>\n      <td>2000</td>\n      <td>0.003618</td>\n    </tr>\n    <tr>\n      <th>...</th>\n      <td>...</td>\n      <td>...</td>\n      <td>...</td>\n      <td>...</td>\n    </tr>\n    <tr>\n      <th>235</th>\n      <td>2019-08-01</td>\n      <td>8</td>\n      <td>2019</td>\n      <td>0.003707</td>\n    </tr>\n    <tr>\n      <th>236</th>\n      <td>2019-09-01</td>\n      <td>9</td>\n      <td>2019</td>\n      <td>0.003707</td>\n    </tr>\n    <tr>\n      <th>237</th>\n      <td>2019-10-01</td>\n      <td>10</td>\n      <td>2019</td>\n      <td>0.006369</td>\n    </tr>\n    <tr>\n      <th>238</th>\n      <td>2019-11-01</td>\n      <td>11</td>\n      <td>2019</td>\n      <td>0.006369</td>\n    </tr>\n    <tr>\n      <th>239</th>\n      <td>2019-12-01</td>\n      <td>12</td>\n      <td>2019</td>\n      <td>0.006369</td>\n    </tr>\n  </tbody>\n</table>\n<p>240 rows × 4 columns</p>\n</div>"
     },
     "metadata": {},
     "execution_count": 12
    }
   ],
   "source": [
    "df_gdp = make_clean(gdp_path, country_code, fred_code)\n",
    "print(df_gdp.isna().sum())\n",
    "\n",
    "df_gdp = change_columns(df_gdp, country_code)\n",
    "df_gdp #240 rows\n"
   ]
  },
  {
   "source": [
    "As the data can only be downloaded one country at a time, we have to manually merge the GDP growth rate values into one dataframe. In order to do so, a copy of the first 'df_gdp' is made and set aside as the dataframe (df) to which the other GDP growth rate values will be appended to. From the second 'df_gdp' onward, we will be appending the values to 'df' to get a dataset that only contains the GDP growth rate values."
   ],
   "cell_type": "markdown",
   "metadata": {}
  },
  {
   "cell_type": "code",
   "execution_count": 77,
   "metadata": {},
   "outputs": [],
   "source": [
    "#use only for the first instance, comment out afterwards\n",
    "df = df_gdp.copy()"
   ]
  },
  {
   "cell_type": "code",
   "execution_count": 78,
   "metadata": {},
   "outputs": [],
   "source": [
    "#start using from the second instance\n",
    "df = append_df(df, df_gdp)"
   ]
  },
  {
   "cell_type": "code",
   "execution_count": 79,
   "metadata": {},
   "outputs": [
    {
     "output_type": "execute_result",
     "data": {
      "text/plain": [
       "         index  month  year   AUD_GDP   NZD_GDP   GBP_GDP   BRL_GDP   CND_GDP  \\\n",
       "0   2000-01-01      1  2000  0.016971  0.013969  0.014767  0.014192  0.014067   \n",
       "1   2000-02-01      2  2000  0.016971  0.013969  0.014767  0.014192  0.014067   \n",
       "2   2000-03-01      3  2000  0.016971  0.013969  0.014767  0.014192  0.014067   \n",
       "3   2000-04-01      4  2000  0.003780  0.026107  0.008053  0.010680  0.015997   \n",
       "4   2000-05-01      5  2000  0.003780  0.026107  0.008053  0.010680  0.015997   \n",
       "..         ...    ...   ...       ...       ...       ...       ...       ...   \n",
       "235 2019-08-01      8  2019  0.007581  0.002036 -0.000179  0.004561  0.008014   \n",
       "236 2019-09-01      9  2019  0.007581  0.002036 -0.000179  0.004561  0.008014   \n",
       "237 2019-10-01     10  2019  0.005059  0.006500  0.003258  0.000588  0.002792   \n",
       "238 2019-11-01     11  2019  0.005059  0.006500  0.003258  0.000588  0.002792   \n",
       "239 2019-12-01     12  2019  0.005059  0.006500  0.003258  0.000588  0.002792   \n",
       "\n",
       "      IDR_GDP   KRW_GDP   MXN_GDP   ZAR_GDP   DKK_GDP   JPY_GDP   NOK_GDP  \\\n",
       "0    0.001072  0.028863  0.010390  0.010997  0.012470  0.000564  0.017204   \n",
       "1    0.001072  0.028863  0.010390  0.010997  0.012470  0.000564  0.017204   \n",
       "2    0.001072  0.028863  0.010390  0.010997  0.012470  0.000564  0.017204   \n",
       "3    0.031475  0.018951  0.019163  0.011248  0.011461  0.018088  0.014782   \n",
       "4    0.031475  0.018951  0.019163  0.011248  0.011461  0.018088  0.014782   \n",
       "..        ...       ...       ...       ...       ...       ...       ...   \n",
       "235  0.012521  0.010141 -0.001688  0.008167  0.010579  0.004097  0.002212   \n",
       "236  0.012521  0.010141 -0.001688  0.008167  0.010579  0.004097  0.002212   \n",
       "237  0.012057  0.003755 -0.002268 -0.002096 -0.002002  0.000413 -0.000156   \n",
       "238  0.012057  0.003755 -0.002268 -0.002096 -0.002002  0.000413 -0.000156   \n",
       "239  0.012057  0.003755 -0.002268 -0.002096 -0.002002  0.000413 -0.000156   \n",
       "\n",
       "      SEK_GDP   CHF_GDP   USD_GDP  \n",
       "0    0.017814  0.023764  0.016996  \n",
       "1    0.017814  0.023764  0.016996  \n",
       "2    0.017814  0.023764  0.016996  \n",
       "3    0.007820  0.007515  0.003618  \n",
       "4    0.007820  0.007515  0.003618  \n",
       "..        ...       ...       ...  \n",
       "235  0.000627  0.005249  0.003707  \n",
       "236  0.000627  0.005249  0.003707  \n",
       "237  0.003000  0.004473  0.006369  \n",
       "238  0.003000  0.004473  0.006369  \n",
       "239  0.003000  0.004473  0.006369  \n",
       "\n",
       "[240 rows x 18 columns]"
      ],
      "text/html": "<div>\n<style scoped>\n    .dataframe tbody tr th:only-of-type {\n        vertical-align: middle;\n    }\n\n    .dataframe tbody tr th {\n        vertical-align: top;\n    }\n\n    .dataframe thead th {\n        text-align: right;\n    }\n</style>\n<table border=\"1\" class=\"dataframe\">\n  <thead>\n    <tr style=\"text-align: right;\">\n      <th></th>\n      <th>index</th>\n      <th>month</th>\n      <th>year</th>\n      <th>AUD_GDP</th>\n      <th>NZD_GDP</th>\n      <th>GBP_GDP</th>\n      <th>BRL_GDP</th>\n      <th>CND_GDP</th>\n      <th>IDR_GDP</th>\n      <th>KRW_GDP</th>\n      <th>MXN_GDP</th>\n      <th>ZAR_GDP</th>\n      <th>DKK_GDP</th>\n      <th>JPY_GDP</th>\n      <th>NOK_GDP</th>\n      <th>SEK_GDP</th>\n      <th>CHF_GDP</th>\n      <th>USD_GDP</th>\n    </tr>\n  </thead>\n  <tbody>\n    <tr>\n      <th>0</th>\n      <td>2000-01-01</td>\n      <td>1</td>\n      <td>2000</td>\n      <td>0.016971</td>\n      <td>0.013969</td>\n      <td>0.014767</td>\n      <td>0.014192</td>\n      <td>0.014067</td>\n      <td>0.001072</td>\n      <td>0.028863</td>\n      <td>0.010390</td>\n      <td>0.010997</td>\n      <td>0.012470</td>\n      <td>0.000564</td>\n      <td>0.017204</td>\n      <td>0.017814</td>\n      <td>0.023764</td>\n      <td>0.016996</td>\n    </tr>\n    <tr>\n      <th>1</th>\n      <td>2000-02-01</td>\n      <td>2</td>\n      <td>2000</td>\n      <td>0.016971</td>\n      <td>0.013969</td>\n      <td>0.014767</td>\n      <td>0.014192</td>\n      <td>0.014067</td>\n      <td>0.001072</td>\n      <td>0.028863</td>\n      <td>0.010390</td>\n      <td>0.010997</td>\n      <td>0.012470</td>\n      <td>0.000564</td>\n      <td>0.017204</td>\n      <td>0.017814</td>\n      <td>0.023764</td>\n      <td>0.016996</td>\n    </tr>\n    <tr>\n      <th>2</th>\n      <td>2000-03-01</td>\n      <td>3</td>\n      <td>2000</td>\n      <td>0.016971</td>\n      <td>0.013969</td>\n      <td>0.014767</td>\n      <td>0.014192</td>\n      <td>0.014067</td>\n      <td>0.001072</td>\n      <td>0.028863</td>\n      <td>0.010390</td>\n      <td>0.010997</td>\n      <td>0.012470</td>\n      <td>0.000564</td>\n      <td>0.017204</td>\n      <td>0.017814</td>\n      <td>0.023764</td>\n      <td>0.016996</td>\n    </tr>\n    <tr>\n      <th>3</th>\n      <td>2000-04-01</td>\n      <td>4</td>\n      <td>2000</td>\n      <td>0.003780</td>\n      <td>0.026107</td>\n      <td>0.008053</td>\n      <td>0.010680</td>\n      <td>0.015997</td>\n      <td>0.031475</td>\n      <td>0.018951</td>\n      <td>0.019163</td>\n      <td>0.011248</td>\n      <td>0.011461</td>\n      <td>0.018088</td>\n      <td>0.014782</td>\n      <td>0.007820</td>\n      <td>0.007515</td>\n      <td>0.003618</td>\n    </tr>\n    <tr>\n      <th>4</th>\n      <td>2000-05-01</td>\n      <td>5</td>\n      <td>2000</td>\n      <td>0.003780</td>\n      <td>0.026107</td>\n      <td>0.008053</td>\n      <td>0.010680</td>\n      <td>0.015997</td>\n      <td>0.031475</td>\n      <td>0.018951</td>\n      <td>0.019163</td>\n      <td>0.011248</td>\n      <td>0.011461</td>\n      <td>0.018088</td>\n      <td>0.014782</td>\n      <td>0.007820</td>\n      <td>0.007515</td>\n      <td>0.003618</td>\n    </tr>\n    <tr>\n      <th>...</th>\n      <td>...</td>\n      <td>...</td>\n      <td>...</td>\n      <td>...</td>\n      <td>...</td>\n      <td>...</td>\n      <td>...</td>\n      <td>...</td>\n      <td>...</td>\n      <td>...</td>\n      <td>...</td>\n      <td>...</td>\n      <td>...</td>\n      <td>...</td>\n      <td>...</td>\n      <td>...</td>\n      <td>...</td>\n      <td>...</td>\n    </tr>\n    <tr>\n      <th>235</th>\n      <td>2019-08-01</td>\n      <td>8</td>\n      <td>2019</td>\n      <td>0.007581</td>\n      <td>0.002036</td>\n      <td>-0.000179</td>\n      <td>0.004561</td>\n      <td>0.008014</td>\n      <td>0.012521</td>\n      <td>0.010141</td>\n      <td>-0.001688</td>\n      <td>0.008167</td>\n      <td>0.010579</td>\n      <td>0.004097</td>\n      <td>0.002212</td>\n      <td>0.000627</td>\n      <td>0.005249</td>\n      <td>0.003707</td>\n    </tr>\n    <tr>\n      <th>236</th>\n      <td>2019-09-01</td>\n      <td>9</td>\n      <td>2019</td>\n      <td>0.007581</td>\n      <td>0.002036</td>\n      <td>-0.000179</td>\n      <td>0.004561</td>\n      <td>0.008014</td>\n      <td>0.012521</td>\n      <td>0.010141</td>\n      <td>-0.001688</td>\n      <td>0.008167</td>\n      <td>0.010579</td>\n      <td>0.004097</td>\n      <td>0.002212</td>\n      <td>0.000627</td>\n      <td>0.005249</td>\n      <td>0.003707</td>\n    </tr>\n    <tr>\n      <th>237</th>\n      <td>2019-10-01</td>\n      <td>10</td>\n      <td>2019</td>\n      <td>0.005059</td>\n      <td>0.006500</td>\n      <td>0.003258</td>\n      <td>0.000588</td>\n      <td>0.002792</td>\n      <td>0.012057</td>\n      <td>0.003755</td>\n      <td>-0.002268</td>\n      <td>-0.002096</td>\n      <td>-0.002002</td>\n      <td>0.000413</td>\n      <td>-0.000156</td>\n      <td>0.003000</td>\n      <td>0.004473</td>\n      <td>0.006369</td>\n    </tr>\n    <tr>\n      <th>238</th>\n      <td>2019-11-01</td>\n      <td>11</td>\n      <td>2019</td>\n      <td>0.005059</td>\n      <td>0.006500</td>\n      <td>0.003258</td>\n      <td>0.000588</td>\n      <td>0.002792</td>\n      <td>0.012057</td>\n      <td>0.003755</td>\n      <td>-0.002268</td>\n      <td>-0.002096</td>\n      <td>-0.002002</td>\n      <td>0.000413</td>\n      <td>-0.000156</td>\n      <td>0.003000</td>\n      <td>0.004473</td>\n      <td>0.006369</td>\n    </tr>\n    <tr>\n      <th>239</th>\n      <td>2019-12-01</td>\n      <td>12</td>\n      <td>2019</td>\n      <td>0.005059</td>\n      <td>0.006500</td>\n      <td>0.003258</td>\n      <td>0.000588</td>\n      <td>0.002792</td>\n      <td>0.012057</td>\n      <td>0.003755</td>\n      <td>-0.002268</td>\n      <td>-0.002096</td>\n      <td>-0.002002</td>\n      <td>0.000413</td>\n      <td>-0.000156</td>\n      <td>0.003000</td>\n      <td>0.004473</td>\n      <td>0.006369</td>\n    </tr>\n  </tbody>\n</table>\n<p>240 rows × 18 columns</p>\n</div>"
     },
     "metadata": {},
     "execution_count": 79
    }
   ],
   "source": [
    "df #240 rows"
   ]
  },
  {
   "cell_type": "code",
   "execution_count": 80,
   "metadata": {},
   "outputs": [],
   "source": [
    "df.to_csv('<path to save GDP growth rate dataset>', index=False)"
   ]
  },
  {
   "source": [
    "## With IMF data (for China)"
   ],
   "cell_type": "markdown",
   "metadata": {}
  },
  {
   "source": [
    "As stated in the README file, there is only annual GDP growth rate data for China from FRED. Because China is an important comparison country, we will use data from the IMF. Data collected from the IMF is in a different format and requires more preprocessing than the data collected from FRED. Additionally, the growth rate was explicitly calculated (see 'calc_rate' function) using the standard GDP growth rate formula."
   ],
   "cell_type": "markdown",
   "metadata": {}
  },
  {
   "cell_type": "code",
   "execution_count": 81,
   "metadata": {},
   "outputs": [],
   "source": [
    "def make_nice_for_rating(df):\n",
    "    \n",
    "    df.drop(columns=['Unnamed: 0', 'Unnamed: 2', 'Indicator', 'Scale', 'Base Year'], inplace=True)\n",
    "    df.drop([0,1,2,3], inplace=True)\n",
    "    \n",
    "    return df"
   ]
  },
  {
   "cell_type": "code",
   "execution_count": 82,
   "metadata": {},
   "outputs": [],
   "source": [
    "def calc_rate(df):\n",
    "    \n",
    "    df_rate = pd.DataFrame((df.iloc[:,1] - df.iloc[:,0])/(df.iloc[:,0]))\n",
    "    for i in list(range(1, df.shape[1])):\n",
    "        df_rate[i] = pd.DataFrame((df.iloc[:,i] - df.iloc[:,i-1])/(df.iloc[:,i-1]))\n",
    "    \n",
    "    return df_rate"
   ]
  },
  {
   "cell_type": "code",
   "execution_count": 83,
   "metadata": {},
   "outputs": [],
   "source": [
    "def transpose_merge(df, df_rate, index_num):\n",
    "    \n",
    "    df = df.transpose().reset_index()\n",
    "    df.rename(columns={index_num:'gdp deflator'}, inplace=True)\n",
    "    df_rate = df_rate.transpose()\n",
    "    df_merge = pd.merge(df, df_rate, left_index=True, right_index=True)\n",
    "    df_append = pd.DataFrame([['2019Q4', np.nan, np.nan]], columns=['index', 'gdp deflator', index_num])\n",
    "    df_merge = df_merge.append(df_append, ignore_index=True)\n",
    "    df_merge = df_merge.ffill()\n",
    "\n",
    "    return df_merge\n"
   ]
  },
  {
   "cell_type": "code",
   "execution_count": 93,
   "metadata": {},
   "outputs": [],
   "source": [
    "def make_clean_imf(df, country_code, index_num):\n",
    "    \n",
    "    df['index'] = pd.to_datetime(df['index'])\n",
    "\n",
    "    df['year'] = df['index'].dt.year\n",
    "    df['month'] = df['index'].dt.month\n",
    "\n",
    "    df = df.rename(columns={index_num: f'{country_code}_GDP'})\n",
    "\n",
    "    #needed for time reference \n",
    "    test = pd.read_csv('<path to any interest rate file>')\n",
    "    test['DATE'] = pd.to_datetime(test['DATE'])\n",
    "    test['month'] = test['DATE'].dt.month\n",
    "    test['year'] = test['DATE'].dt.year\n",
    "    test = test.rename(columns={'DATE': 'index'})\n",
    "\n",
    "    merged_df = pd.merge(test, df, left_on=['month', 'year'], right_on=['month', 'year'], how='outer').ffill().bfill()\n",
    "    merged_df.drop(columns=['index_y', 'IRSTCI01CHM156N', 'gdp deflator'], inplace=True)\n",
    "    merged_df.rename(columns={'index_x':'index'}, inplace=True)\n",
    "\n",
    "    return merged_df\n"
   ]
  },
  {
   "cell_type": "code",
   "execution_count": 87,
   "metadata": {},
   "outputs": [
    {
     "output_type": "stream",
     "name": "stdout",
     "text": [
      "WARNING *** file size (30165) not 512 + multiple of sector size (512)\nWARNING *** OLE2 inconsistency: SSCS size is 0 but SSAT size is non-zero\n"
     ]
    },
    {
     "output_type": "execute_result",
     "data": {
      "text/plain": [
       "   2000Q1   2000Q2   2000Q3   2000Q4   2001Q1   2001Q2   2001Q3   2001Q4  \\\n",
       "4  66.995  67.8131  68.9522  60.8359  69.7262  69.5984  70.5531  61.9875   \n",
       "\n",
       "    2002Q1   2002Q2  ...  2017Q2   2017Q3  2017Q4   2018Q1   2018Q2   2018Q3  \\\n",
       "4  69.8987  70.4319  ...  122.33  123.171  124.99  126.636  126.243  126.554   \n",
       "\n",
       "    2018Q4  2019Q1   2019Q2   2019Q3  \n",
       "4  128.273  128.31  128.768  128.476  \n",
       "\n",
       "[1 rows x 79 columns]"
      ],
      "text/html": "<div>\n<style scoped>\n    .dataframe tbody tr th:only-of-type {\n        vertical-align: middle;\n    }\n\n    .dataframe tbody tr th {\n        vertical-align: top;\n    }\n\n    .dataframe thead th {\n        text-align: right;\n    }\n</style>\n<table border=\"1\" class=\"dataframe\">\n  <thead>\n    <tr style=\"text-align: right;\">\n      <th></th>\n      <th>2000Q1</th>\n      <th>2000Q2</th>\n      <th>2000Q3</th>\n      <th>2000Q4</th>\n      <th>2001Q1</th>\n      <th>2001Q2</th>\n      <th>2001Q3</th>\n      <th>2001Q4</th>\n      <th>2002Q1</th>\n      <th>2002Q2</th>\n      <th>...</th>\n      <th>2017Q2</th>\n      <th>2017Q3</th>\n      <th>2017Q4</th>\n      <th>2018Q1</th>\n      <th>2018Q2</th>\n      <th>2018Q3</th>\n      <th>2018Q4</th>\n      <th>2019Q1</th>\n      <th>2019Q2</th>\n      <th>2019Q3</th>\n    </tr>\n  </thead>\n  <tbody>\n    <tr>\n      <th>4</th>\n      <td>66.995</td>\n      <td>67.8131</td>\n      <td>68.9522</td>\n      <td>60.8359</td>\n      <td>69.7262</td>\n      <td>69.5984</td>\n      <td>70.5531</td>\n      <td>61.9875</td>\n      <td>69.8987</td>\n      <td>70.4319</td>\n      <td>...</td>\n      <td>122.33</td>\n      <td>123.171</td>\n      <td>124.99</td>\n      <td>126.636</td>\n      <td>126.243</td>\n      <td>126.554</td>\n      <td>128.273</td>\n      <td>128.31</td>\n      <td>128.768</td>\n      <td>128.476</td>\n    </tr>\n  </tbody>\n</table>\n<p>1 rows × 79 columns</p>\n</div>"
     },
     "metadata": {},
     "execution_count": 87
    }
   ],
   "source": [
    "df_cny = pd.read_excel('<path to file>', header=7)\n",
    "df_cny = make_nice_for_rating(df_cny)\n",
    "df_cny"
   ]
  },
  {
   "cell_type": "code",
   "execution_count": 88,
   "metadata": {},
   "outputs": [
    {
     "output_type": "execute_result",
     "data": {
      "text/plain": [
       "          0          1          2         3         4           5          6   \\\n",
       "4  0.0122114  0.0122114  0.0167975 -0.117709  0.146135 -0.00183271  0.0137171   \n",
       "\n",
       "         7         8           9   ...          69          70         71  \\\n",
       "4 -0.121406  0.127626  0.00762769  ... -0.00256154  0.00687341  0.0147655   \n",
       "\n",
       "          72          73          74         75           76          77  \\\n",
       "4  0.0131757 -0.00310647  0.00246736  0.0135799  0.000285552  0.00356856   \n",
       "\n",
       "           78  \n",
       "4 -0.00226119  \n",
       "\n",
       "[1 rows x 79 columns]"
      ],
      "text/html": "<div>\n<style scoped>\n    .dataframe tbody tr th:only-of-type {\n        vertical-align: middle;\n    }\n\n    .dataframe tbody tr th {\n        vertical-align: top;\n    }\n\n    .dataframe thead th {\n        text-align: right;\n    }\n</style>\n<table border=\"1\" class=\"dataframe\">\n  <thead>\n    <tr style=\"text-align: right;\">\n      <th></th>\n      <th>0</th>\n      <th>1</th>\n      <th>2</th>\n      <th>3</th>\n      <th>4</th>\n      <th>5</th>\n      <th>6</th>\n      <th>7</th>\n      <th>8</th>\n      <th>9</th>\n      <th>...</th>\n      <th>69</th>\n      <th>70</th>\n      <th>71</th>\n      <th>72</th>\n      <th>73</th>\n      <th>74</th>\n      <th>75</th>\n      <th>76</th>\n      <th>77</th>\n      <th>78</th>\n    </tr>\n  </thead>\n  <tbody>\n    <tr>\n      <th>4</th>\n      <td>0.0122114</td>\n      <td>0.0122114</td>\n      <td>0.0167975</td>\n      <td>-0.117709</td>\n      <td>0.146135</td>\n      <td>-0.00183271</td>\n      <td>0.0137171</td>\n      <td>-0.121406</td>\n      <td>0.127626</td>\n      <td>0.00762769</td>\n      <td>...</td>\n      <td>-0.00256154</td>\n      <td>0.00687341</td>\n      <td>0.0147655</td>\n      <td>0.0131757</td>\n      <td>-0.00310647</td>\n      <td>0.00246736</td>\n      <td>0.0135799</td>\n      <td>0.000285552</td>\n      <td>0.00356856</td>\n      <td>-0.00226119</td>\n    </tr>\n  </tbody>\n</table>\n<p>1 rows × 79 columns</p>\n</div>"
     },
     "metadata": {},
     "execution_count": 88
    }
   ],
   "source": [
    "df_rate = calc_rate(df_cny)\n",
    "df_rate"
   ]
  },
  {
   "cell_type": "code",
   "execution_count": 89,
   "metadata": {},
   "outputs": [
    {
     "output_type": "execute_result",
     "data": {
      "text/plain": [
       "     index  gdp deflator         4\n",
       "0   2000Q1     66.995042  0.012211\n",
       "1   2000Q2     67.813143  0.012211\n",
       "2   2000Q3     68.952233  0.016797\n",
       "3   2000Q4     60.835936 -0.117709\n",
       "4   2001Q1     69.726194  0.146135\n",
       "..     ...           ...       ...\n",
       "75  2018Q4    128.273059  0.013580\n",
       "76  2019Q1    128.309688  0.000286\n",
       "77  2019Q2    128.767569  0.003569\n",
       "78  2019Q3    128.476400 -0.002261\n",
       "79  2019Q4    128.476400 -0.002261\n",
       "\n",
       "[80 rows x 3 columns]"
      ],
      "text/html": "<div>\n<style scoped>\n    .dataframe tbody tr th:only-of-type {\n        vertical-align: middle;\n    }\n\n    .dataframe tbody tr th {\n        vertical-align: top;\n    }\n\n    .dataframe thead th {\n        text-align: right;\n    }\n</style>\n<table border=\"1\" class=\"dataframe\">\n  <thead>\n    <tr style=\"text-align: right;\">\n      <th></th>\n      <th>index</th>\n      <th>gdp deflator</th>\n      <th>4</th>\n    </tr>\n  </thead>\n  <tbody>\n    <tr>\n      <th>0</th>\n      <td>2000Q1</td>\n      <td>66.995042</td>\n      <td>0.012211</td>\n    </tr>\n    <tr>\n      <th>1</th>\n      <td>2000Q2</td>\n      <td>67.813143</td>\n      <td>0.012211</td>\n    </tr>\n    <tr>\n      <th>2</th>\n      <td>2000Q3</td>\n      <td>68.952233</td>\n      <td>0.016797</td>\n    </tr>\n    <tr>\n      <th>3</th>\n      <td>2000Q4</td>\n      <td>60.835936</td>\n      <td>-0.117709</td>\n    </tr>\n    <tr>\n      <th>4</th>\n      <td>2001Q1</td>\n      <td>69.726194</td>\n      <td>0.146135</td>\n    </tr>\n    <tr>\n      <th>...</th>\n      <td>...</td>\n      <td>...</td>\n      <td>...</td>\n    </tr>\n    <tr>\n      <th>75</th>\n      <td>2018Q4</td>\n      <td>128.273059</td>\n      <td>0.013580</td>\n    </tr>\n    <tr>\n      <th>76</th>\n      <td>2019Q1</td>\n      <td>128.309688</td>\n      <td>0.000286</td>\n    </tr>\n    <tr>\n      <th>77</th>\n      <td>2019Q2</td>\n      <td>128.767569</td>\n      <td>0.003569</td>\n    </tr>\n    <tr>\n      <th>78</th>\n      <td>2019Q3</td>\n      <td>128.476400</td>\n      <td>-0.002261</td>\n    </tr>\n    <tr>\n      <th>79</th>\n      <td>2019Q4</td>\n      <td>128.476400</td>\n      <td>-0.002261</td>\n    </tr>\n  </tbody>\n</table>\n<p>80 rows × 3 columns</p>\n</div>"
     },
     "metadata": {},
     "execution_count": 89
    }
   ],
   "source": [
    "df_merge = transpose_merge(df_cny, df_rate, 4)\n",
    "df_merge #80 rows"
   ]
  },
  {
   "cell_type": "code",
   "execution_count": 97,
   "metadata": {},
   "outputs": [
    {
     "output_type": "execute_result",
     "data": {
      "text/plain": [
       "         index  month  year   CNY_GDP\n",
       "0   2000-01-01      1  2000  0.012211\n",
       "1   2000-02-01      2  2000  0.012211\n",
       "2   2000-03-01      3  2000  0.012211\n",
       "3   2000-04-01      4  2000  0.012211\n",
       "4   2000-05-01      5  2000  0.012211\n",
       "..         ...    ...   ...       ...\n",
       "235 2019-08-01      8  2019 -0.002261\n",
       "236 2019-09-01      9  2019 -0.002261\n",
       "237 2019-10-01     10  2019 -0.002261\n",
       "238 2019-11-01     11  2019 -0.002261\n",
       "239 2019-12-01     12  2019 -0.002261\n",
       "\n",
       "[240 rows x 4 columns]"
      ],
      "text/html": "<div>\n<style scoped>\n    .dataframe tbody tr th:only-of-type {\n        vertical-align: middle;\n    }\n\n    .dataframe tbody tr th {\n        vertical-align: top;\n    }\n\n    .dataframe thead th {\n        text-align: right;\n    }\n</style>\n<table border=\"1\" class=\"dataframe\">\n  <thead>\n    <tr style=\"text-align: right;\">\n      <th></th>\n      <th>index</th>\n      <th>month</th>\n      <th>year</th>\n      <th>CNY_GDP</th>\n    </tr>\n  </thead>\n  <tbody>\n    <tr>\n      <th>0</th>\n      <td>2000-01-01</td>\n      <td>1</td>\n      <td>2000</td>\n      <td>0.012211</td>\n    </tr>\n    <tr>\n      <th>1</th>\n      <td>2000-02-01</td>\n      <td>2</td>\n      <td>2000</td>\n      <td>0.012211</td>\n    </tr>\n    <tr>\n      <th>2</th>\n      <td>2000-03-01</td>\n      <td>3</td>\n      <td>2000</td>\n      <td>0.012211</td>\n    </tr>\n    <tr>\n      <th>3</th>\n      <td>2000-04-01</td>\n      <td>4</td>\n      <td>2000</td>\n      <td>0.012211</td>\n    </tr>\n    <tr>\n      <th>4</th>\n      <td>2000-05-01</td>\n      <td>5</td>\n      <td>2000</td>\n      <td>0.012211</td>\n    </tr>\n    <tr>\n      <th>...</th>\n      <td>...</td>\n      <td>...</td>\n      <td>...</td>\n      <td>...</td>\n    </tr>\n    <tr>\n      <th>235</th>\n      <td>2019-08-01</td>\n      <td>8</td>\n      <td>2019</td>\n      <td>-0.002261</td>\n    </tr>\n    <tr>\n      <th>236</th>\n      <td>2019-09-01</td>\n      <td>9</td>\n      <td>2019</td>\n      <td>-0.002261</td>\n    </tr>\n    <tr>\n      <th>237</th>\n      <td>2019-10-01</td>\n      <td>10</td>\n      <td>2019</td>\n      <td>-0.002261</td>\n    </tr>\n    <tr>\n      <th>238</th>\n      <td>2019-11-01</td>\n      <td>11</td>\n      <td>2019</td>\n      <td>-0.002261</td>\n    </tr>\n    <tr>\n      <th>239</th>\n      <td>2019-12-01</td>\n      <td>12</td>\n      <td>2019</td>\n      <td>-0.002261</td>\n    </tr>\n  </tbody>\n</table>\n<p>240 rows × 4 columns</p>\n</div>"
     },
     "metadata": {},
     "execution_count": 97
    }
   ],
   "source": [
    "df_merge_clean = make_clean_imf(df_merge, 'CNY', 4)\n",
    "df_merge_clean #240 rows"
   ]
  },
  {
   "cell_type": "code",
   "execution_count": 98,
   "metadata": {},
   "outputs": [],
   "source": [
    "df = append_df(df, df_merge_clean)"
   ]
  },
  {
   "cell_type": "code",
   "execution_count": 99,
   "metadata": {},
   "outputs": [
    {
     "output_type": "execute_result",
     "data": {
      "text/plain": [
       "         index  month  year   AUD_GDP   NZD_GDP   GBP_GDP   BRL_GDP   CND_GDP  \\\n",
       "0   2000-01-01      1  2000  0.016971  0.013969  0.014767  0.014192  0.014067   \n",
       "1   2000-02-01      2  2000  0.016971  0.013969  0.014767  0.014192  0.014067   \n",
       "2   2000-03-01      3  2000  0.016971  0.013969  0.014767  0.014192  0.014067   \n",
       "3   2000-04-01      4  2000  0.003780  0.026107  0.008053  0.010680  0.015997   \n",
       "4   2000-05-01      5  2000  0.003780  0.026107  0.008053  0.010680  0.015997   \n",
       "..         ...    ...   ...       ...       ...       ...       ...       ...   \n",
       "235 2019-08-01      8  2019  0.007581  0.002036 -0.000179  0.004561  0.008014   \n",
       "236 2019-09-01      9  2019  0.007581  0.002036 -0.000179  0.004561  0.008014   \n",
       "237 2019-10-01     10  2019  0.005059  0.006500  0.003258  0.000588  0.002792   \n",
       "238 2019-11-01     11  2019  0.005059  0.006500  0.003258  0.000588  0.002792   \n",
       "239 2019-12-01     12  2019  0.005059  0.006500  0.003258  0.000588  0.002792   \n",
       "\n",
       "      IDR_GDP   KRW_GDP   MXN_GDP   ZAR_GDP   DKK_GDP   JPY_GDP   NOK_GDP  \\\n",
       "0    0.001072  0.028863  0.010390  0.010997  0.012470  0.000564  0.017204   \n",
       "1    0.001072  0.028863  0.010390  0.010997  0.012470  0.000564  0.017204   \n",
       "2    0.001072  0.028863  0.010390  0.010997  0.012470  0.000564  0.017204   \n",
       "3    0.031475  0.018951  0.019163  0.011248  0.011461  0.018088  0.014782   \n",
       "4    0.031475  0.018951  0.019163  0.011248  0.011461  0.018088  0.014782   \n",
       "..        ...       ...       ...       ...       ...       ...       ...   \n",
       "235  0.012521  0.010141 -0.001688  0.008167  0.010579  0.004097  0.002212   \n",
       "236  0.012521  0.010141 -0.001688  0.008167  0.010579  0.004097  0.002212   \n",
       "237  0.012057  0.003755 -0.002268 -0.002096 -0.002002  0.000413 -0.000156   \n",
       "238  0.012057  0.003755 -0.002268 -0.002096 -0.002002  0.000413 -0.000156   \n",
       "239  0.012057  0.003755 -0.002268 -0.002096 -0.002002  0.000413 -0.000156   \n",
       "\n",
       "      SEK_GDP   CHF_GDP   USD_GDP   CNY_GDP  \n",
       "0    0.017814  0.023764  0.016996  0.012211  \n",
       "1    0.017814  0.023764  0.016996  0.012211  \n",
       "2    0.017814  0.023764  0.016996  0.012211  \n",
       "3    0.007820  0.007515  0.003618  0.012211  \n",
       "4    0.007820  0.007515  0.003618  0.012211  \n",
       "..        ...       ...       ...       ...  \n",
       "235  0.000627  0.005249  0.003707 -0.002261  \n",
       "236  0.000627  0.005249  0.003707 -0.002261  \n",
       "237  0.003000  0.004473  0.006369 -0.002261  \n",
       "238  0.003000  0.004473  0.006369 -0.002261  \n",
       "239  0.003000  0.004473  0.006369 -0.002261  \n",
       "\n",
       "[240 rows x 19 columns]"
      ],
      "text/html": "<div>\n<style scoped>\n    .dataframe tbody tr th:only-of-type {\n        vertical-align: middle;\n    }\n\n    .dataframe tbody tr th {\n        vertical-align: top;\n    }\n\n    .dataframe thead th {\n        text-align: right;\n    }\n</style>\n<table border=\"1\" class=\"dataframe\">\n  <thead>\n    <tr style=\"text-align: right;\">\n      <th></th>\n      <th>index</th>\n      <th>month</th>\n      <th>year</th>\n      <th>AUD_GDP</th>\n      <th>NZD_GDP</th>\n      <th>GBP_GDP</th>\n      <th>BRL_GDP</th>\n      <th>CND_GDP</th>\n      <th>IDR_GDP</th>\n      <th>KRW_GDP</th>\n      <th>MXN_GDP</th>\n      <th>ZAR_GDP</th>\n      <th>DKK_GDP</th>\n      <th>JPY_GDP</th>\n      <th>NOK_GDP</th>\n      <th>SEK_GDP</th>\n      <th>CHF_GDP</th>\n      <th>USD_GDP</th>\n      <th>CNY_GDP</th>\n    </tr>\n  </thead>\n  <tbody>\n    <tr>\n      <th>0</th>\n      <td>2000-01-01</td>\n      <td>1</td>\n      <td>2000</td>\n      <td>0.016971</td>\n      <td>0.013969</td>\n      <td>0.014767</td>\n      <td>0.014192</td>\n      <td>0.014067</td>\n      <td>0.001072</td>\n      <td>0.028863</td>\n      <td>0.010390</td>\n      <td>0.010997</td>\n      <td>0.012470</td>\n      <td>0.000564</td>\n      <td>0.017204</td>\n      <td>0.017814</td>\n      <td>0.023764</td>\n      <td>0.016996</td>\n      <td>0.012211</td>\n    </tr>\n    <tr>\n      <th>1</th>\n      <td>2000-02-01</td>\n      <td>2</td>\n      <td>2000</td>\n      <td>0.016971</td>\n      <td>0.013969</td>\n      <td>0.014767</td>\n      <td>0.014192</td>\n      <td>0.014067</td>\n      <td>0.001072</td>\n      <td>0.028863</td>\n      <td>0.010390</td>\n      <td>0.010997</td>\n      <td>0.012470</td>\n      <td>0.000564</td>\n      <td>0.017204</td>\n      <td>0.017814</td>\n      <td>0.023764</td>\n      <td>0.016996</td>\n      <td>0.012211</td>\n    </tr>\n    <tr>\n      <th>2</th>\n      <td>2000-03-01</td>\n      <td>3</td>\n      <td>2000</td>\n      <td>0.016971</td>\n      <td>0.013969</td>\n      <td>0.014767</td>\n      <td>0.014192</td>\n      <td>0.014067</td>\n      <td>0.001072</td>\n      <td>0.028863</td>\n      <td>0.010390</td>\n      <td>0.010997</td>\n      <td>0.012470</td>\n      <td>0.000564</td>\n      <td>0.017204</td>\n      <td>0.017814</td>\n      <td>0.023764</td>\n      <td>0.016996</td>\n      <td>0.012211</td>\n    </tr>\n    <tr>\n      <th>3</th>\n      <td>2000-04-01</td>\n      <td>4</td>\n      <td>2000</td>\n      <td>0.003780</td>\n      <td>0.026107</td>\n      <td>0.008053</td>\n      <td>0.010680</td>\n      <td>0.015997</td>\n      <td>0.031475</td>\n      <td>0.018951</td>\n      <td>0.019163</td>\n      <td>0.011248</td>\n      <td>0.011461</td>\n      <td>0.018088</td>\n      <td>0.014782</td>\n      <td>0.007820</td>\n      <td>0.007515</td>\n      <td>0.003618</td>\n      <td>0.012211</td>\n    </tr>\n    <tr>\n      <th>4</th>\n      <td>2000-05-01</td>\n      <td>5</td>\n      <td>2000</td>\n      <td>0.003780</td>\n      <td>0.026107</td>\n      <td>0.008053</td>\n      <td>0.010680</td>\n      <td>0.015997</td>\n      <td>0.031475</td>\n      <td>0.018951</td>\n      <td>0.019163</td>\n      <td>0.011248</td>\n      <td>0.011461</td>\n      <td>0.018088</td>\n      <td>0.014782</td>\n      <td>0.007820</td>\n      <td>0.007515</td>\n      <td>0.003618</td>\n      <td>0.012211</td>\n    </tr>\n    <tr>\n      <th>...</th>\n      <td>...</td>\n      <td>...</td>\n      <td>...</td>\n      <td>...</td>\n      <td>...</td>\n      <td>...</td>\n      <td>...</td>\n      <td>...</td>\n      <td>...</td>\n      <td>...</td>\n      <td>...</td>\n      <td>...</td>\n      <td>...</td>\n      <td>...</td>\n      <td>...</td>\n      <td>...</td>\n      <td>...</td>\n      <td>...</td>\n      <td>...</td>\n    </tr>\n    <tr>\n      <th>235</th>\n      <td>2019-08-01</td>\n      <td>8</td>\n      <td>2019</td>\n      <td>0.007581</td>\n      <td>0.002036</td>\n      <td>-0.000179</td>\n      <td>0.004561</td>\n      <td>0.008014</td>\n      <td>0.012521</td>\n      <td>0.010141</td>\n      <td>-0.001688</td>\n      <td>0.008167</td>\n      <td>0.010579</td>\n      <td>0.004097</td>\n      <td>0.002212</td>\n      <td>0.000627</td>\n      <td>0.005249</td>\n      <td>0.003707</td>\n      <td>-0.002261</td>\n    </tr>\n    <tr>\n      <th>236</th>\n      <td>2019-09-01</td>\n      <td>9</td>\n      <td>2019</td>\n      <td>0.007581</td>\n      <td>0.002036</td>\n      <td>-0.000179</td>\n      <td>0.004561</td>\n      <td>0.008014</td>\n      <td>0.012521</td>\n      <td>0.010141</td>\n      <td>-0.001688</td>\n      <td>0.008167</td>\n      <td>0.010579</td>\n      <td>0.004097</td>\n      <td>0.002212</td>\n      <td>0.000627</td>\n      <td>0.005249</td>\n      <td>0.003707</td>\n      <td>-0.002261</td>\n    </tr>\n    <tr>\n      <th>237</th>\n      <td>2019-10-01</td>\n      <td>10</td>\n      <td>2019</td>\n      <td>0.005059</td>\n      <td>0.006500</td>\n      <td>0.003258</td>\n      <td>0.000588</td>\n      <td>0.002792</td>\n      <td>0.012057</td>\n      <td>0.003755</td>\n      <td>-0.002268</td>\n      <td>-0.002096</td>\n      <td>-0.002002</td>\n      <td>0.000413</td>\n      <td>-0.000156</td>\n      <td>0.003000</td>\n      <td>0.004473</td>\n      <td>0.006369</td>\n      <td>-0.002261</td>\n    </tr>\n    <tr>\n      <th>238</th>\n      <td>2019-11-01</td>\n      <td>11</td>\n      <td>2019</td>\n      <td>0.005059</td>\n      <td>0.006500</td>\n      <td>0.003258</td>\n      <td>0.000588</td>\n      <td>0.002792</td>\n      <td>0.012057</td>\n      <td>0.003755</td>\n      <td>-0.002268</td>\n      <td>-0.002096</td>\n      <td>-0.002002</td>\n      <td>0.000413</td>\n      <td>-0.000156</td>\n      <td>0.003000</td>\n      <td>0.004473</td>\n      <td>0.006369</td>\n      <td>-0.002261</td>\n    </tr>\n    <tr>\n      <th>239</th>\n      <td>2019-12-01</td>\n      <td>12</td>\n      <td>2019</td>\n      <td>0.005059</td>\n      <td>0.006500</td>\n      <td>0.003258</td>\n      <td>0.000588</td>\n      <td>0.002792</td>\n      <td>0.012057</td>\n      <td>0.003755</td>\n      <td>-0.002268</td>\n      <td>-0.002096</td>\n      <td>-0.002002</td>\n      <td>0.000413</td>\n      <td>-0.000156</td>\n      <td>0.003000</td>\n      <td>0.004473</td>\n      <td>0.006369</td>\n      <td>-0.002261</td>\n    </tr>\n  </tbody>\n</table>\n<p>240 rows × 19 columns</p>\n</div>"
     },
     "metadata": {},
     "execution_count": 99
    }
   ],
   "source": [
    "df"
   ]
  },
  {
   "cell_type": "code",
   "execution_count": 100,
   "metadata": {},
   "outputs": [],
   "source": [
    "df.to_csv('<path to save GDP growth rate dataset>', index=False)"
   ]
  },
  {
   "source": [
    "- **new_path**: path of new main dataset 1, created from the 'load_data_ir' notebook"
   ],
   "cell_type": "markdown",
   "metadata": {}
  },
  {
   "cell_type": "code",
   "execution_count": 101,
   "metadata": {},
   "outputs": [],
   "source": [
    "new_path = '<path of new main dataset 1>'"
   ]
  },
  {
   "cell_type": "code",
   "execution_count": 103,
   "metadata": {},
   "outputs": [
    {
     "output_type": "stream",
     "name": "stdout",
     "text": [
      "(4997, 37)\n(4997, 53)\nTime Series    0\nAUD_USD        0\nNZD_USD        0\nGBP_USD        0\nBRL_USD        0\nCND_USD        0\nCNY_USD        0\nIDR_USD        0\nKRW_USD        0\nMXN_USD        0\nZAR_USD        0\nDKK_USD        0\nJPY_USD        0\nNOK_USD        0\nSEK_USD        0\nCHF_USD        0\nmonth          0\nyear           0\nUSD_USD        0\nprice_gold     0\nfc_year        0\nAUD_IR         0\nNZD_IR         0\nGBP_IR         0\nBRL_IR         0\nCND_IR         0\nCNY_IR         0\nIDR_IR         0\nKRW_IR         0\nMXN_IR         0\nZAR_IR         0\nDKK_IR         0\nJPY_IR         0\nNOK_IR         0\nSEK_IR         0\nCHF_IR         0\nUSD_IR         0\nAUD_GDP        0\nNZD_GDP        0\nGBP_GDP        0\nBRL_GDP        0\nCND_GDP        0\nIDR_GDP        0\nKRW_GDP        0\nMXN_GDP        0\nZAR_GDP        0\nDKK_GDP        0\nJPY_GDP        0\nNOK_GDP        0\nSEK_GDP        0\nCHF_GDP        0\nUSD_GDP        0\nCNY_GDP        0\ndtype: int64\n"
     ]
    }
   ],
   "source": [
    "df_with_gdp = data_combine(new_path, df)\n",
    "print(df_with_gdp.shape) #4997 rows\n",
    "print(df_with_gdp.isna().sum())\n"
   ]
  },
  {
   "cell_type": "code",
   "execution_count": 158,
   "metadata": {},
   "outputs": [],
   "source": [
    "df_with_gdp.to_csv('<path to save the new main dataset 2>', index=False)"
   ]
  },
  {
   "cell_type": "code",
   "execution_count": null,
   "metadata": {},
   "outputs": [],
   "source": []
  }
 ]
}