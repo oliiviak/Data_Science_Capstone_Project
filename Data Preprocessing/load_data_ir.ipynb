{
 "metadata": {
  "language_info": {
   "codemirror_mode": {
    "name": "ipython",
    "version": 3
   },
   "file_extension": ".py",
   "mimetype": "text/x-python",
   "name": "python",
   "nbconvert_exporter": "python",
   "pygments_lexer": "ipython3",
   "version": "3.8.5-final"
  },
  "orig_nbformat": 2,
  "kernelspec": {
   "name": "python3",
   "display_name": "Python 3",
   "language": "python"
  }
 },
 "nbformat": 4,
 "nbformat_minor": 2,
 "cells": [
  {
   "source": [
    "## Interest Rate"
   ],
   "cell_type": "markdown",
   "metadata": {}
  },
  {
   "cell_type": "code",
   "execution_count": 2,
   "metadata": {},
   "outputs": [],
   "source": [
    "import pandas as pd"
   ]
  },
  {
   "source": [
    "- **path_ir** refers to the path of the interest rate file for a specific country\n",
    "- **country_code** refers to the country code used throughout (refer to README)\n",
    "- **fred_code** refers to the alphanumeric code given for each dataset, for each country by the FRED website"
   ],
   "cell_type": "markdown",
   "metadata": {}
  },
  {
   "cell_type": "code",
   "execution_count": 7,
   "metadata": {},
   "outputs": [],
   "source": [
    "def get_interest_rate(path_ir, country_code, fred_code):\n",
    "\n",
    "    df_ir = pd.read_csv(path_ir)\n",
    "    df_ir['DATE'] = pd.to_datetime(df_ir['DATE'])\n",
    "    df_ir['month'] = df_ir['DATE'].dt.month\n",
    "    df_ir['year'] = df_ir['DATE'].dt.year\n",
    "    df_ir = df_ir.rename(columns={fred_code: f'{country_code}_IR', 'DATE': 'index'})\n",
    "    df_ir[f'{country_code}_IR'] = df_ir[f'{country_code}_IR']/100\n",
    "    \n",
    "    return df_ir"
   ]
  },
  {
   "cell_type": "code",
   "execution_count": 8,
   "metadata": {},
   "outputs": [],
   "source": [
    "def data_combine(path, df_ir):\n",
    "    \n",
    "    exchange_df = pd.read_csv(path) \n",
    "    print(exchange_df.shape)\n",
    "\n",
    "    df_with_ir = pd.merge(exchange_df, df_ir, left_on=['month', 'year'], right_on=['month', 'year'])\n",
    "    df_with_ir.drop(columns='index', inplace=True)\n",
    "\n",
    "    return df_with_ir"
   ]
  },
  {
   "cell_type": "code",
   "execution_count": 9,
   "metadata": {},
   "outputs": [],
   "source": [
    "path_ir = '/Users/zumiis/final_not4git/interest rate/norway from fred.csv'\n",
    "country_code = 'NOK'\n",
    "fred_code = 'IRSTCI01NOM156N'"
   ]
  },
  {
   "cell_type": "code",
   "execution_count": 10,
   "metadata": {},
   "outputs": [
    {
     "output_type": "execute_result",
     "data": {
      "text/plain": [
       "         index  NOK_IR  month  year\n",
       "0   2000-01-01  0.0584      1  2000\n",
       "1   2000-02-01  0.0592      2  2000\n",
       "2   2000-03-01  0.0587      3  2000\n",
       "3   2000-04-01  0.0611      4  2000\n",
       "4   2000-05-01  0.0620      5  2000\n",
       "..         ...     ...    ...   ...\n",
       "235 2019-08-01  0.0125      8  2019\n",
       "236 2019-09-01  0.0135      9  2019\n",
       "237 2019-10-01  0.0150     10  2019\n",
       "238 2019-11-01  0.0150     11  2019\n",
       "239 2019-12-01  0.0153     12  2019\n",
       "\n",
       "[240 rows x 4 columns]"
      ],
      "text/html": "<div>\n<style scoped>\n    .dataframe tbody tr th:only-of-type {\n        vertical-align: middle;\n    }\n\n    .dataframe tbody tr th {\n        vertical-align: top;\n    }\n\n    .dataframe thead th {\n        text-align: right;\n    }\n</style>\n<table border=\"1\" class=\"dataframe\">\n  <thead>\n    <tr style=\"text-align: right;\">\n      <th></th>\n      <th>index</th>\n      <th>NOK_IR</th>\n      <th>month</th>\n      <th>year</th>\n    </tr>\n  </thead>\n  <tbody>\n    <tr>\n      <th>0</th>\n      <td>2000-01-01</td>\n      <td>0.0584</td>\n      <td>1</td>\n      <td>2000</td>\n    </tr>\n    <tr>\n      <th>1</th>\n      <td>2000-02-01</td>\n      <td>0.0592</td>\n      <td>2</td>\n      <td>2000</td>\n    </tr>\n    <tr>\n      <th>2</th>\n      <td>2000-03-01</td>\n      <td>0.0587</td>\n      <td>3</td>\n      <td>2000</td>\n    </tr>\n    <tr>\n      <th>3</th>\n      <td>2000-04-01</td>\n      <td>0.0611</td>\n      <td>4</td>\n      <td>2000</td>\n    </tr>\n    <tr>\n      <th>4</th>\n      <td>2000-05-01</td>\n      <td>0.0620</td>\n      <td>5</td>\n      <td>2000</td>\n    </tr>\n    <tr>\n      <th>...</th>\n      <td>...</td>\n      <td>...</td>\n      <td>...</td>\n      <td>...</td>\n    </tr>\n    <tr>\n      <th>235</th>\n      <td>2019-08-01</td>\n      <td>0.0125</td>\n      <td>8</td>\n      <td>2019</td>\n    </tr>\n    <tr>\n      <th>236</th>\n      <td>2019-09-01</td>\n      <td>0.0135</td>\n      <td>9</td>\n      <td>2019</td>\n    </tr>\n    <tr>\n      <th>237</th>\n      <td>2019-10-01</td>\n      <td>0.0150</td>\n      <td>10</td>\n      <td>2019</td>\n    </tr>\n    <tr>\n      <th>238</th>\n      <td>2019-11-01</td>\n      <td>0.0150</td>\n      <td>11</td>\n      <td>2019</td>\n    </tr>\n    <tr>\n      <th>239</th>\n      <td>2019-12-01</td>\n      <td>0.0153</td>\n      <td>12</td>\n      <td>2019</td>\n    </tr>\n  </tbody>\n</table>\n<p>240 rows × 4 columns</p>\n</div>"
     },
     "metadata": {},
     "execution_count": 10
    }
   ],
   "source": [
    "df_ir = get_interest_rate(path_ir, country_code, fred_code)\n",
    "df_ir"
   ]
  },
  {
   "source": [
    "Two paths are given because for the first instance of adding to the interest rate, we are adding to the exchange rate dataset and creating a new dataset, however for the following instances, we are adding to that newly created dataset. \n",
    "\n",
    "- **forex_path** refers to the path of the dataset with exchange rates\n",
    "- **path2** refers to the newly created dataset containing both exchange rate and interest rate"
   ],
   "cell_type": "markdown",
   "metadata": {}
  },
  {
   "cell_type": "code",
   "execution_count": 155,
   "metadata": {},
   "outputs": [],
   "source": [
    "forex_path = '/Users/zumiis/final_not4git/for github/forex_with_usa.csv'\n",
    "path2 = '/Users/zumiis/final_not4git/for github/data_with_interest_rate_all.csv'"
   ]
  },
  {
   "cell_type": "code",
   "execution_count": 169,
   "metadata": {},
   "outputs": [
    {
     "output_type": "stream",
     "name": "stdout",
     "text": [
      "(4997, 42)\n(4997, 43)\nTime Series    0\nAUD_USD        0\nNZD_USD        0\nGBP_USD        0\nBRL_USD        0\nCND_USD        0\nCNY_USD        0\nHKD_USD        0\nIDR_USD        0\nKRW_USD        0\nMXN_USD        0\nZAR_USD        0\nSGD_USD        0\nDKK_USD        0\nJPY_USD        0\nMYR_USD        0\nNOK_USD        0\nSEK_USD        0\nLKR_USD        0\nCHF_USD        0\nTWD_USD        0\nTHB_USD        0\nmonth          0\nyear           0\nUSD_USD        0\nprice_gold     0\nfc_year        0\nUSD_IR         0\nAUD_IR         0\nNZD_IR         0\nGBP_IR         0\nBRL_IR         0\nCND_IR         0\nCNY_IR         0\nIDR_IR         0\nKRW_IR         0\nMXN_IR         0\nZAR_IR         0\nDKK_IR         0\nJPY_IR         0\nSEK_IR         0\nCHF_IR         0\nNOK_IR         0\ndtype: int64\n"
     ]
    }
   ],
   "source": [
    "df_with_ir = data_combine(path2, df_ir)\n",
    "print(df_with_ir.shape)\n",
    "print(df_with_ir.isna().sum())"
   ]
  },
  {
   "cell_type": "code",
   "execution_count": 174,
   "metadata": {},
   "outputs": [],
   "source": [
    "df_with_ir.to_csv('/Users/zumiis/final_not4git/for github/data_with_interest_rate_all.csv', index=False)"
   ]
  },
  {
   "cell_type": "code",
   "execution_count": null,
   "metadata": {},
   "outputs": [],
   "source": []
  }
 ]
}