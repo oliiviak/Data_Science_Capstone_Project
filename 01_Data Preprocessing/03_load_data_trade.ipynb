{
 "metadata": {
  "language_info": {
   "codemirror_mode": {
    "name": "ipython",
    "version": 3
   },
   "file_extension": ".py",
   "mimetype": "text/x-python",
   "name": "python",
   "nbconvert_exporter": "python",
   "pygments_lexer": "ipython3",
   "version": "3.8.5-final"
  },
  "orig_nbformat": 2,
  "kernelspec": {
   "name": "python3",
   "display_name": "Python 3",
   "language": "python"
  }
 },
 "nbformat": 4,
 "nbformat_minor": 2,
 "cells": [
  {
   "source": [
    "## Terms of Trade"
   ],
   "cell_type": "markdown",
   "metadata": {}
  },
  {
   "cell_type": "code",
   "execution_count": 1,
   "metadata": {},
   "outputs": [],
   "source": [
    "import pandas as pd\n",
    "import numpy as np"
   ]
  },
  {
   "cell_type": "code",
   "execution_count": 2,
   "metadata": {},
   "outputs": [],
   "source": [
    "def basic_cleaning_stuff(path_trade):\n",
    "    \n",
    "    df_trade = pd.read_excel(path_trade, header=7)\n",
    "    df_trade = df_trade.iloc[0:4]\n",
    "    df_trade.drop(columns=['Unnamed: 0', 'Unnamed: 2', 'Unnamed: 3', 'Scale'], inplace=True)\n",
    "    df_trade = df_trade.transpose().reset_index()\n",
    "    df_trade.columns = df_trade.iloc[0]\n",
    "    df_trade = df_trade.drop([0])\n",
    "    df_trade = df_trade.replace('...', np.nan)\n",
    "    df_trade.columns = ['Indicator', 'Exports', 'Exports (national)', 'Imports', 'Imports (national)']\n",
    "\n",
    "    return df_trade"
   ]
  },
  {
   "cell_type": "code",
   "execution_count": 28,
   "metadata": {},
   "outputs": [],
   "source": [
    "def if_nans(path_trade):\n",
    "\n",
    "    df_trade = pd.read_excel(path_trade, header=7)\n",
    "    df_trade = df_trade.iloc[0:6]\n",
    "    df_trade.drop(columns=['Unnamed: 0', 'Unnamed: 2', 'Unnamed: 3', 'Scale'], inplace=True)\n",
    "    df_trade = df_trade.transpose().reset_index()\n",
    "    df_trade.columns = df_trade.iloc[0]\n",
    "    df_trade = df_trade.drop([0])\n",
    "    df_trade = df_trade.drop(columns=['Goods, Value of Imports, CIF,  US Dollars', \n",
    "                                        'Goods, Value of Imports, CIF, National Currency'])\n",
    "    df_trade = df_trade.replace('...', np.nan)\n",
    "    df_trade.columns = ['Indicator', 'Exports', 'Exports (national)', 'Imports (national)', 'Imports']\n",
    "\n",
    "    return df_trade"
   ]
  },
  {
   "cell_type": "code",
   "execution_count": 18,
   "metadata": {},
   "outputs": [],
   "source": [
    "def cleaning_if_nans(df, number):\n",
    "\n",
    "    df2 = df.iloc[:number]\n",
    "\n",
    "    df_fill = pd.DataFrame(df2['Imports']/3).fillna(method='ffill')\n",
    "\n",
    "    df2['Imports'] = df_fill['Imports']\n",
    "\n",
    "    df3 = df.iloc[number:]\n",
    "\n",
    "    df_nonans = df2.append(df3)\n",
    "    df_nonans\n",
    "\n",
    "    #to drop the quaterly rows \n",
    "    del_num = [1]\n",
    "\n",
    "    for i in list(range(1, int(df_nonans.shape[0]/4))):\n",
    "        del_num.append(1+(4*i))\n",
    "\n",
    "    df_nonans = df_nonans.drop(del_num)\n",
    "\n",
    "    df_nonans.reset_index(inplace=True, drop=True)\n",
    "\n",
    "    return df_nonans"
   ]
  },
  {
   "cell_type": "code",
   "execution_count": 19,
   "metadata": {},
   "outputs": [],
   "source": [
    "def trade_terms_remove_Ms(df, country_code):\n",
    "    \n",
    "    df[f'{country_code}_trade'] = df['Exports']/df['Imports']\n",
    "\n",
    "    df['index_t'] = df['Indicator'].apply(lambda x: x.replace('M', '-'))\n",
    "    df['index_t'] = pd.to_datetime(df['index_t'])\n",
    "\n",
    "    df['year'] = df['index_t'].dt.year\n",
    "    df['month'] = df['index_t'].dt.month\n",
    "\n",
    "    df = df.drop(columns=['Indicator', 'Exports', 'Exports (national)', 'Imports', 'Imports (national)', 'index_t'])\n",
    "\n",
    "    return df"
   ]
  },
  {
   "cell_type": "code",
   "execution_count": 20,
   "metadata": {},
   "outputs": [],
   "source": [
    "def append_df(df, df_trade):\n",
    "    \n",
    "    df = pd.merge(df, df_trade, left_on=['month', 'year'], right_on=['month', 'year'])\n",
    "\n",
    "    return df"
   ]
  },
  {
   "cell_type": "code",
   "execution_count": 6,
   "metadata": {},
   "outputs": [],
   "source": [
    "def data_combine(path, df_trade):\n",
    "    \n",
    "    exchange_df = pd.read_csv(path) #still 4997 rows\n",
    "    print(exchange_df.shape)\n",
    "\n",
    "    df_with_trade = pd.merge(exchange_df, df_trade, left_on=['month', 'year'], right_on=['month', 'year'])\n",
    "\n",
    "    return df_with_trade"
   ]
  },
  {
   "cell_type": "code",
   "execution_count": 155,
   "metadata": {},
   "outputs": [],
   "source": [
    "path_trade = '<path to trade file>'\n",
    "country_code = 'MXN'"
   ]
  },
  {
   "cell_type": "code",
   "execution_count": 156,
   "metadata": {},
   "outputs": [
    {
     "output_type": "stream",
     "name": "stdout",
     "text": [
      "Indicator              0\nExports                0\nExports (national)     0\nImports               11\nImports (national)    11\ndtype: int64\n"
     ]
    },
    {
     "output_type": "execute_result",
     "data": {
      "text/plain": [
       "    Indicator       Exports  Exports (national)      Imports  \\\n",
       "1     2000M01  11263.489920              106770  1309.802489   \n",
       "2     2000M02  13157.448971              124280  1489.658112   \n",
       "3     2000M03  13564.044364              126090  1567.953316   \n",
       "4     2000M04  12342.663310              115710  1420.360124   \n",
       "5     2000M05  14637.455563              139170  1673.035920   \n",
       "..        ...           ...                 ...          ...   \n",
       "236   2019M08  40185.608690              787220          NaN   \n",
       "237   2019M09  37032.847199              726740          NaN   \n",
       "238   2019M10  40617.756233              786770          NaN   \n",
       "239   2019M11  37460.542888              722730          NaN   \n",
       "240   2019M12  38530.890205              738930          NaN   \n",
       "\n",
       "     Imports (national)  \n",
       "1          12416.010738  \n",
       "2          14070.714666  \n",
       "3          14575.537233  \n",
       "4          13315.592091  \n",
       "5          15906.890916  \n",
       "..                  ...  \n",
       "236                 NaN  \n",
       "237                 NaN  \n",
       "238                 NaN  \n",
       "239                 NaN  \n",
       "240                 NaN  \n",
       "\n",
       "[240 rows x 5 columns]"
      ],
      "text/html": "<div>\n<style scoped>\n    .dataframe tbody tr th:only-of-type {\n        vertical-align: middle;\n    }\n\n    .dataframe tbody tr th {\n        vertical-align: top;\n    }\n\n    .dataframe thead th {\n        text-align: right;\n    }\n</style>\n<table border=\"1\" class=\"dataframe\">\n  <thead>\n    <tr style=\"text-align: right;\">\n      <th></th>\n      <th>Indicator</th>\n      <th>Exports</th>\n      <th>Exports (national)</th>\n      <th>Imports</th>\n      <th>Imports (national)</th>\n    </tr>\n  </thead>\n  <tbody>\n    <tr>\n      <th>1</th>\n      <td>2000M01</td>\n      <td>11263.489920</td>\n      <td>106770</td>\n      <td>1309.802489</td>\n      <td>12416.010738</td>\n    </tr>\n    <tr>\n      <th>2</th>\n      <td>2000M02</td>\n      <td>13157.448971</td>\n      <td>124280</td>\n      <td>1489.658112</td>\n      <td>14070.714666</td>\n    </tr>\n    <tr>\n      <th>3</th>\n      <td>2000M03</td>\n      <td>13564.044364</td>\n      <td>126090</td>\n      <td>1567.953316</td>\n      <td>14575.537233</td>\n    </tr>\n    <tr>\n      <th>4</th>\n      <td>2000M04</td>\n      <td>12342.663310</td>\n      <td>115710</td>\n      <td>1420.360124</td>\n      <td>13315.592091</td>\n    </tr>\n    <tr>\n      <th>5</th>\n      <td>2000M05</td>\n      <td>14637.455563</td>\n      <td>139170</td>\n      <td>1673.035920</td>\n      <td>15906.890916</td>\n    </tr>\n    <tr>\n      <th>...</th>\n      <td>...</td>\n      <td>...</td>\n      <td>...</td>\n      <td>...</td>\n      <td>...</td>\n    </tr>\n    <tr>\n      <th>236</th>\n      <td>2019M08</td>\n      <td>40185.608690</td>\n      <td>787220</td>\n      <td>NaN</td>\n      <td>NaN</td>\n    </tr>\n    <tr>\n      <th>237</th>\n      <td>2019M09</td>\n      <td>37032.847199</td>\n      <td>726740</td>\n      <td>NaN</td>\n      <td>NaN</td>\n    </tr>\n    <tr>\n      <th>238</th>\n      <td>2019M10</td>\n      <td>40617.756233</td>\n      <td>786770</td>\n      <td>NaN</td>\n      <td>NaN</td>\n    </tr>\n    <tr>\n      <th>239</th>\n      <td>2019M11</td>\n      <td>37460.542888</td>\n      <td>722730</td>\n      <td>NaN</td>\n      <td>NaN</td>\n    </tr>\n    <tr>\n      <th>240</th>\n      <td>2019M12</td>\n      <td>38530.890205</td>\n      <td>738930</td>\n      <td>NaN</td>\n      <td>NaN</td>\n    </tr>\n  </tbody>\n</table>\n<p>240 rows × 5 columns</p>\n</div>"
     },
     "metadata": {},
     "execution_count": 156
    }
   ],
   "source": [
    "df_clean = basic_cleaning_stuff(path_trade)\n",
    "print(df_clean.isna().sum())\n",
    "df_clean #240 rows"
   ]
  },
  {
   "cell_type": "code",
   "execution_count": 157,
   "metadata": {},
   "outputs": [
    {
     "output_type": "stream",
     "name": "stdout",
     "text": [
      "Indicator             0\nExports               0\nExports (national)    0\nImports (national)    0\nImports               0\ndtype: int64\n"
     ]
    },
    {
     "output_type": "execute_result",
     "data": {
      "text/plain": [
       "    Indicator       Exports  Exports (national)  Imports (national)  \\\n",
       "1     2000M01  11263.489920              106770              112520   \n",
       "2     2000M02  13157.448971              124280              126630   \n",
       "3     2000M03  13564.044364              126090              129300   \n",
       "4     2000M04  12342.663310              115710              119370   \n",
       "5     2000M05  14637.455563              139170              144280   \n",
       "..        ...           ...                 ...                 ...   \n",
       "236   2019M08  40185.608690              787220              779320   \n",
       "237   2019M09  37032.847199              726740              729710   \n",
       "238   2019M10  40617.756233              786770              800040   \n",
       "239   2019M11  37460.542888              722730              707930   \n",
       "240   2019M12  38530.890205              738930              679140   \n",
       "\n",
       "          Imports  \n",
       "1    11870.074795  \n",
       "2    13406.242060  \n",
       "3    13909.357889  \n",
       "4    12733.071639  \n",
       "5    15174.909022  \n",
       "..            ...  \n",
       "236  39782.333483  \n",
       "237  37184.190948  \n",
       "238  41302.832716  \n",
       "239  36693.429257  \n",
       "240  35413.190389  \n",
       "\n",
       "[240 rows x 5 columns]"
      ],
      "text/html": "<div>\n<style scoped>\n    .dataframe tbody tr th:only-of-type {\n        vertical-align: middle;\n    }\n\n    .dataframe tbody tr th {\n        vertical-align: top;\n    }\n\n    .dataframe thead th {\n        text-align: right;\n    }\n</style>\n<table border=\"1\" class=\"dataframe\">\n  <thead>\n    <tr style=\"text-align: right;\">\n      <th></th>\n      <th>Indicator</th>\n      <th>Exports</th>\n      <th>Exports (national)</th>\n      <th>Imports (national)</th>\n      <th>Imports</th>\n    </tr>\n  </thead>\n  <tbody>\n    <tr>\n      <th>1</th>\n      <td>2000M01</td>\n      <td>11263.489920</td>\n      <td>106770</td>\n      <td>112520</td>\n      <td>11870.074795</td>\n    </tr>\n    <tr>\n      <th>2</th>\n      <td>2000M02</td>\n      <td>13157.448971</td>\n      <td>124280</td>\n      <td>126630</td>\n      <td>13406.242060</td>\n    </tr>\n    <tr>\n      <th>3</th>\n      <td>2000M03</td>\n      <td>13564.044364</td>\n      <td>126090</td>\n      <td>129300</td>\n      <td>13909.357889</td>\n    </tr>\n    <tr>\n      <th>4</th>\n      <td>2000M04</td>\n      <td>12342.663310</td>\n      <td>115710</td>\n      <td>119370</td>\n      <td>12733.071639</td>\n    </tr>\n    <tr>\n      <th>5</th>\n      <td>2000M05</td>\n      <td>14637.455563</td>\n      <td>139170</td>\n      <td>144280</td>\n      <td>15174.909022</td>\n    </tr>\n    <tr>\n      <th>...</th>\n      <td>...</td>\n      <td>...</td>\n      <td>...</td>\n      <td>...</td>\n      <td>...</td>\n    </tr>\n    <tr>\n      <th>236</th>\n      <td>2019M08</td>\n      <td>40185.608690</td>\n      <td>787220</td>\n      <td>779320</td>\n      <td>39782.333483</td>\n    </tr>\n    <tr>\n      <th>237</th>\n      <td>2019M09</td>\n      <td>37032.847199</td>\n      <td>726740</td>\n      <td>729710</td>\n      <td>37184.190948</td>\n    </tr>\n    <tr>\n      <th>238</th>\n      <td>2019M10</td>\n      <td>40617.756233</td>\n      <td>786770</td>\n      <td>800040</td>\n      <td>41302.832716</td>\n    </tr>\n    <tr>\n      <th>239</th>\n      <td>2019M11</td>\n      <td>37460.542888</td>\n      <td>722730</td>\n      <td>707930</td>\n      <td>36693.429257</td>\n    </tr>\n    <tr>\n      <th>240</th>\n      <td>2019M12</td>\n      <td>38530.890205</td>\n      <td>738930</td>\n      <td>679140</td>\n      <td>35413.190389</td>\n    </tr>\n  </tbody>\n</table>\n<p>240 rows × 5 columns</p>\n</div>"
     },
     "metadata": {},
     "execution_count": 157
    }
   ],
   "source": [
    "#only if there are NaN values in either Exports or Imports, national values do not matter\n",
    "df_clean = if_nans(path_trade)\n",
    "print(df_clean.isna().sum())\n",
    "df_clean #240 rows"
   ]
  },
  {
   "cell_type": "code",
   "execution_count": 158,
   "metadata": {},
   "outputs": [
    {
     "output_type": "execute_result",
     "data": {
      "text/plain": [
       "     MXN_trade  year  month\n",
       "1     0.948898  2000      1\n",
       "2     0.981442  2000      2\n",
       "3     0.975174  2000      3\n",
       "4     0.969339  2000      4\n",
       "5     0.964583  2000      5\n",
       "..         ...   ...    ...\n",
       "236   1.010137  2019      8\n",
       "237   0.995930  2019      9\n",
       "238   0.983413  2019     10\n",
       "239   1.020906  2019     11\n",
       "240   1.088038  2019     12\n",
       "\n",
       "[240 rows x 3 columns]"
      ],
      "text/html": "<div>\n<style scoped>\n    .dataframe tbody tr th:only-of-type {\n        vertical-align: middle;\n    }\n\n    .dataframe tbody tr th {\n        vertical-align: top;\n    }\n\n    .dataframe thead th {\n        text-align: right;\n    }\n</style>\n<table border=\"1\" class=\"dataframe\">\n  <thead>\n    <tr style=\"text-align: right;\">\n      <th></th>\n      <th>MXN_trade</th>\n      <th>year</th>\n      <th>month</th>\n    </tr>\n  </thead>\n  <tbody>\n    <tr>\n      <th>1</th>\n      <td>0.948898</td>\n      <td>2000</td>\n      <td>1</td>\n    </tr>\n    <tr>\n      <th>2</th>\n      <td>0.981442</td>\n      <td>2000</td>\n      <td>2</td>\n    </tr>\n    <tr>\n      <th>3</th>\n      <td>0.975174</td>\n      <td>2000</td>\n      <td>3</td>\n    </tr>\n    <tr>\n      <th>4</th>\n      <td>0.969339</td>\n      <td>2000</td>\n      <td>4</td>\n    </tr>\n    <tr>\n      <th>5</th>\n      <td>0.964583</td>\n      <td>2000</td>\n      <td>5</td>\n    </tr>\n    <tr>\n      <th>...</th>\n      <td>...</td>\n      <td>...</td>\n      <td>...</td>\n    </tr>\n    <tr>\n      <th>236</th>\n      <td>1.010137</td>\n      <td>2019</td>\n      <td>8</td>\n    </tr>\n    <tr>\n      <th>237</th>\n      <td>0.995930</td>\n      <td>2019</td>\n      <td>9</td>\n    </tr>\n    <tr>\n      <th>238</th>\n      <td>0.983413</td>\n      <td>2019</td>\n      <td>10</td>\n    </tr>\n    <tr>\n      <th>239</th>\n      <td>1.020906</td>\n      <td>2019</td>\n      <td>11</td>\n    </tr>\n    <tr>\n      <th>240</th>\n      <td>1.088038</td>\n      <td>2019</td>\n      <td>12</td>\n    </tr>\n  </tbody>\n</table>\n<p>240 rows × 3 columns</p>\n</div>"
     },
     "metadata": {},
     "execution_count": 158
    }
   ],
   "source": [
    "df_trade = trade_terms_remove_Ms(df_clean, country_code)\n",
    "df_trade #240 rows"
   ]
  },
  {
   "cell_type": "code",
   "execution_count": 144,
   "metadata": {},
   "outputs": [],
   "source": [
    "#use only for the first instance, comment out afterwards\n",
    "df = df_trade.copy()"
   ]
  },
  {
   "cell_type": "code",
   "execution_count": 159,
   "metadata": {},
   "outputs": [],
   "source": [
    "#start using from the second instance\n",
    "df = append_df(df, df_trade)"
   ]
  },
  {
   "cell_type": "code",
   "execution_count": 164,
   "metadata": {},
   "outputs": [
    {
     "output_type": "execute_result",
     "data": {
      "text/plain": [
       "     AUD_trade  year  month  NZD_trade  GBP_trade  BRL_trade  CND_trade  \\\n",
       "0     0.842293  2000      1   1.003388   0.813694   0.508670   0.945638   \n",
       "1     0.951462  2000      2   1.019308   0.837567   0.544813   0.961176   \n",
       "2     0.913350  2000      3   1.016901   0.888848   0.547213   0.926761   \n",
       "3     1.033358  2000      4   0.992434   0.809538   0.561966   0.947427   \n",
       "4     0.889007  2000      5   1.076697   0.850124   0.559707   0.941294   \n",
       "..         ...   ...    ...        ...        ...        ...        ...   \n",
       "235   1.308287  2019      8   0.712197   0.696799   0.301399   0.972375   \n",
       "236   1.266188  2019      9   0.768793   0.712402   0.288366   0.974369   \n",
       "237   1.096374  2019     10   0.828207   0.706762   0.270958   0.969341   \n",
       "238   1.225906  2019     11   0.868980   0.715873   0.289389   0.987925   \n",
       "239   1.309866  2019     12   1.074194   0.785491   0.342963   0.984897   \n",
       "\n",
       "     CNY_trade  IDR_trade  KRW_trade  ZAR_trade  DKK_trade  JPY_trade  \\\n",
       "0     1.099882   2.025361   0.966169   1.046692   1.038130   1.173962   \n",
       "1     1.100760   2.260810   1.054225   1.026758   1.137418   1.398738   \n",
       "2     1.130967   2.185928   1.015339   1.015863   1.072170   1.307467   \n",
       "3     1.117570   2.142900   1.013263   1.099865   1.084597   1.352430   \n",
       "4     1.185489   2.038107   1.101935   1.018162   1.135144   1.175503   \n",
       "..         ...        ...        ...        ...        ...        ...   \n",
       "235   1.193524   1.006536   1.036809   1.039426   1.147443   0.975805   \n",
       "236   1.222150   0.987146   1.151971   1.042874   1.146786   0.980137   \n",
       "237   1.253199   1.008292   1.126876   1.022916   1.124232   1.001700   \n",
       "238   1.206784   0.909000   1.081305   1.050991   1.190842   0.986334   \n",
       "239   1.247101   0.994626   1.045343   1.156168   1.077181   0.976371   \n",
       "\n",
       "     NOK_trade  SEK_trade  CHF_trade  USD_trade  MXN_trade  \n",
       "0     1.910093   1.154959   0.990176   0.639998   0.948898  \n",
       "1     1.576047   1.220729   1.020301   0.646103   0.981442  \n",
       "2     1.470429   1.244027   0.878031   0.646959   0.975174  \n",
       "3     1.547469   1.223735   0.968030   0.643754   0.969339  \n",
       "4     1.689195   1.207358   1.017391   0.619251   0.964583  \n",
       "..         ...        ...        ...        ...        ...  \n",
       "235   1.094351   0.953020   1.166200   0.649857   1.010137  \n",
       "236   0.981220   1.008655   1.147144   0.655690   0.995930  \n",
       "237   1.144655   0.972321   1.187989   0.672099   0.983413  \n",
       "238   1.365512   1.020171   1.230501   0.677949   1.020906  \n",
       "239   1.386867   0.975793   1.128607   0.663919   1.088038  \n",
       "\n",
       "[240 rows x 18 columns]"
      ],
      "text/html": "<div>\n<style scoped>\n    .dataframe tbody tr th:only-of-type {\n        vertical-align: middle;\n    }\n\n    .dataframe tbody tr th {\n        vertical-align: top;\n    }\n\n    .dataframe thead th {\n        text-align: right;\n    }\n</style>\n<table border=\"1\" class=\"dataframe\">\n  <thead>\n    <tr style=\"text-align: right;\">\n      <th></th>\n      <th>AUD_trade</th>\n      <th>year</th>\n      <th>month</th>\n      <th>NZD_trade</th>\n      <th>GBP_trade</th>\n      <th>BRL_trade</th>\n      <th>CND_trade</th>\n      <th>CNY_trade</th>\n      <th>IDR_trade</th>\n      <th>KRW_trade</th>\n      <th>ZAR_trade</th>\n      <th>DKK_trade</th>\n      <th>JPY_trade</th>\n      <th>NOK_trade</th>\n      <th>SEK_trade</th>\n      <th>CHF_trade</th>\n      <th>USD_trade</th>\n      <th>MXN_trade</th>\n    </tr>\n  </thead>\n  <tbody>\n    <tr>\n      <th>0</th>\n      <td>0.842293</td>\n      <td>2000</td>\n      <td>1</td>\n      <td>1.003388</td>\n      <td>0.813694</td>\n      <td>0.508670</td>\n      <td>0.945638</td>\n      <td>1.099882</td>\n      <td>2.025361</td>\n      <td>0.966169</td>\n      <td>1.046692</td>\n      <td>1.038130</td>\n      <td>1.173962</td>\n      <td>1.910093</td>\n      <td>1.154959</td>\n      <td>0.990176</td>\n      <td>0.639998</td>\n      <td>0.948898</td>\n    </tr>\n    <tr>\n      <th>1</th>\n      <td>0.951462</td>\n      <td>2000</td>\n      <td>2</td>\n      <td>1.019308</td>\n      <td>0.837567</td>\n      <td>0.544813</td>\n      <td>0.961176</td>\n      <td>1.100760</td>\n      <td>2.260810</td>\n      <td>1.054225</td>\n      <td>1.026758</td>\n      <td>1.137418</td>\n      <td>1.398738</td>\n      <td>1.576047</td>\n      <td>1.220729</td>\n      <td>1.020301</td>\n      <td>0.646103</td>\n      <td>0.981442</td>\n    </tr>\n    <tr>\n      <th>2</th>\n      <td>0.913350</td>\n      <td>2000</td>\n      <td>3</td>\n      <td>1.016901</td>\n      <td>0.888848</td>\n      <td>0.547213</td>\n      <td>0.926761</td>\n      <td>1.130967</td>\n      <td>2.185928</td>\n      <td>1.015339</td>\n      <td>1.015863</td>\n      <td>1.072170</td>\n      <td>1.307467</td>\n      <td>1.470429</td>\n      <td>1.244027</td>\n      <td>0.878031</td>\n      <td>0.646959</td>\n      <td>0.975174</td>\n    </tr>\n    <tr>\n      <th>3</th>\n      <td>1.033358</td>\n      <td>2000</td>\n      <td>4</td>\n      <td>0.992434</td>\n      <td>0.809538</td>\n      <td>0.561966</td>\n      <td>0.947427</td>\n      <td>1.117570</td>\n      <td>2.142900</td>\n      <td>1.013263</td>\n      <td>1.099865</td>\n      <td>1.084597</td>\n      <td>1.352430</td>\n      <td>1.547469</td>\n      <td>1.223735</td>\n      <td>0.968030</td>\n      <td>0.643754</td>\n      <td>0.969339</td>\n    </tr>\n    <tr>\n      <th>4</th>\n      <td>0.889007</td>\n      <td>2000</td>\n      <td>5</td>\n      <td>1.076697</td>\n      <td>0.850124</td>\n      <td>0.559707</td>\n      <td>0.941294</td>\n      <td>1.185489</td>\n      <td>2.038107</td>\n      <td>1.101935</td>\n      <td>1.018162</td>\n      <td>1.135144</td>\n      <td>1.175503</td>\n      <td>1.689195</td>\n      <td>1.207358</td>\n      <td>1.017391</td>\n      <td>0.619251</td>\n      <td>0.964583</td>\n    </tr>\n    <tr>\n      <th>...</th>\n      <td>...</td>\n      <td>...</td>\n      <td>...</td>\n      <td>...</td>\n      <td>...</td>\n      <td>...</td>\n      <td>...</td>\n      <td>...</td>\n      <td>...</td>\n      <td>...</td>\n      <td>...</td>\n      <td>...</td>\n      <td>...</td>\n      <td>...</td>\n      <td>...</td>\n      <td>...</td>\n      <td>...</td>\n      <td>...</td>\n    </tr>\n    <tr>\n      <th>235</th>\n      <td>1.308287</td>\n      <td>2019</td>\n      <td>8</td>\n      <td>0.712197</td>\n      <td>0.696799</td>\n      <td>0.301399</td>\n      <td>0.972375</td>\n      <td>1.193524</td>\n      <td>1.006536</td>\n      <td>1.036809</td>\n      <td>1.039426</td>\n      <td>1.147443</td>\n      <td>0.975805</td>\n      <td>1.094351</td>\n      <td>0.953020</td>\n      <td>1.166200</td>\n      <td>0.649857</td>\n      <td>1.010137</td>\n    </tr>\n    <tr>\n      <th>236</th>\n      <td>1.266188</td>\n      <td>2019</td>\n      <td>9</td>\n      <td>0.768793</td>\n      <td>0.712402</td>\n      <td>0.288366</td>\n      <td>0.974369</td>\n      <td>1.222150</td>\n      <td>0.987146</td>\n      <td>1.151971</td>\n      <td>1.042874</td>\n      <td>1.146786</td>\n      <td>0.980137</td>\n      <td>0.981220</td>\n      <td>1.008655</td>\n      <td>1.147144</td>\n      <td>0.655690</td>\n      <td>0.995930</td>\n    </tr>\n    <tr>\n      <th>237</th>\n      <td>1.096374</td>\n      <td>2019</td>\n      <td>10</td>\n      <td>0.828207</td>\n      <td>0.706762</td>\n      <td>0.270958</td>\n      <td>0.969341</td>\n      <td>1.253199</td>\n      <td>1.008292</td>\n      <td>1.126876</td>\n      <td>1.022916</td>\n      <td>1.124232</td>\n      <td>1.001700</td>\n      <td>1.144655</td>\n      <td>0.972321</td>\n      <td>1.187989</td>\n      <td>0.672099</td>\n      <td>0.983413</td>\n    </tr>\n    <tr>\n      <th>238</th>\n      <td>1.225906</td>\n      <td>2019</td>\n      <td>11</td>\n      <td>0.868980</td>\n      <td>0.715873</td>\n      <td>0.289389</td>\n      <td>0.987925</td>\n      <td>1.206784</td>\n      <td>0.909000</td>\n      <td>1.081305</td>\n      <td>1.050991</td>\n      <td>1.190842</td>\n      <td>0.986334</td>\n      <td>1.365512</td>\n      <td>1.020171</td>\n      <td>1.230501</td>\n      <td>0.677949</td>\n      <td>1.020906</td>\n    </tr>\n    <tr>\n      <th>239</th>\n      <td>1.309866</td>\n      <td>2019</td>\n      <td>12</td>\n      <td>1.074194</td>\n      <td>0.785491</td>\n      <td>0.342963</td>\n      <td>0.984897</td>\n      <td>1.247101</td>\n      <td>0.994626</td>\n      <td>1.045343</td>\n      <td>1.156168</td>\n      <td>1.077181</td>\n      <td>0.976371</td>\n      <td>1.386867</td>\n      <td>0.975793</td>\n      <td>1.128607</td>\n      <td>0.663919</td>\n      <td>1.088038</td>\n    </tr>\n  </tbody>\n</table>\n<p>240 rows × 18 columns</p>\n</div>"
     },
     "metadata": {},
     "execution_count": 164
    }
   ],
   "source": [
    "df #240 rows"
   ]
  },
  {
   "cell_type": "code",
   "execution_count": 161,
   "metadata": {},
   "outputs": [],
   "source": [
    "df.to_csv('<path to save trade dataset>', index=False)"
   ]
  },
  {
   "source": [
    "- **new_path**: path of new main dataset 2, created from the 'load_data_gdp' notebook"
   ],
   "cell_type": "markdown",
   "metadata": {}
  },
  {
   "cell_type": "code",
   "execution_count": 162,
   "metadata": {},
   "outputs": [],
   "source": [
    "new_path = '<path of new main dataset 2>'"
   ]
  },
  {
   "cell_type": "code",
   "execution_count": 165,
   "metadata": {},
   "outputs": [
    {
     "output_type": "stream",
     "name": "stdout",
     "text": [
      "(4997, 53)\n(4997, 69)\nTime Series    0\nAUD_USD        0\nNZD_USD        0\nGBP_USD        0\nBRL_USD        0\n              ..\nNOK_trade      0\nSEK_trade      0\nCHF_trade      0\nUSD_trade      0\nMXN_trade      0\nLength: 69, dtype: int64\n"
     ]
    }
   ],
   "source": [
    "df_with_trade = data_combine(new_path, df)\n",
    "print(df_with_trade.shape) #4997 rows\n",
    "print(df_with_trade.isna().sum())\n"
   ]
  },
  {
   "cell_type": "code",
   "execution_count": 167,
   "metadata": {},
   "outputs": [],
   "source": [
    "df_with_trade.to_csv('<path to save the new main dataset 3>', index=False)"
   ]
  },
  {
   "cell_type": "code",
   "execution_count": null,
   "metadata": {},
   "outputs": [],
   "source": []
  }
 ]
}