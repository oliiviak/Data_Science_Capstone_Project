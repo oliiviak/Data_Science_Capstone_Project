{
 "metadata": {
  "language_info": {
   "codemirror_mode": {
    "name": "ipython",
    "version": 3
   },
   "file_extension": ".py",
   "mimetype": "text/x-python",
   "name": "python",
   "nbconvert_exporter": "python",
   "pygments_lexer": "ipython3",
   "version": "3.8.5-final"
  },
  "orig_nbformat": 2,
  "kernelspec": {
   "name": "python3",
   "display_name": "Python 3",
   "language": "python"
  }
 },
 "nbformat": 4,
 "nbformat_minor": 2,
 "cells": [
  {
   "cell_type": "code",
   "execution_count": 1,
   "metadata": {},
   "outputs": [],
   "source": [
    "import pandas as pd"
   ]
  },
  {
   "cell_type": "code",
   "execution_count": 5,
   "metadata": {},
   "outputs": [],
   "source": [
    "main_df = pd.read_csv('/Users/zumiis/final_not4git/for github/data_with_interest_rate_gdp_trade_ue_all.csv')"
   ]
  },
  {
   "cell_type": "code",
   "execution_count": 4,
   "metadata": {},
   "outputs": [],
   "source": [
    "append_df = pd.read_csv('/Users/zumiis/final_not4git/multivariate data/us_with_all_countries.csv')"
   ]
  },
  {
   "cell_type": "code",
   "execution_count": 6,
   "metadata": {},
   "outputs": [
    {
     "output_type": "execute_result",
     "data": {
      "text/plain": [
       "Index(['Unnamed: 0', 'AUD_IR', 'CND_IR', 'CNY_IR', 'JPY_IR', 'KRW_IR',\n",
       "       'MXN_IR', 'NZD_IR', 'NOK_IR', 'SGD_IR', 'ZAR_IR', 'SEK_IR', 'CHF_IR',\n",
       "       'THB_IR', 'GBP_IR', 'AUD_GDP', 'CND_GDP', 'CNY_GDP', 'DKK_GDP',\n",
       "       'JPY_GDP', 'KRW_GDP', 'MXN_GDP', 'NZD_GDP', 'NOK_GDP', 'SGD_GDP',\n",
       "       'ZAR_GDP', 'SEK_GDP', 'CHF_GDP', 'THB_GDP', 'GBP_GDP', 'AUD_UE',\n",
       "       'CND_UE', 'DKK_UE', 'JPY_UE', 'KRW_UE', 'MXN_UE', 'NZD_UE', 'NOK_UE',\n",
       "       'SEK_UE', 'CHF_UE', 'GBP_UE', 'Time Series', 'AUD_USD', 'CND_USD',\n",
       "       'CNY_USD', 'DKK_USD', 'JPY_USD', 'KRW_USD', 'MXN_USD', 'NZD_USD',\n",
       "       'NOK_USD', 'SGD_USD', 'ZAR_USD', 'SEK_USD', 'CHF_USD', 'THB_USD',\n",
       "       'GBP_USD', 'month', 'year', 'AUD_trade', 'NZD_trade', 'GBP_trade',\n",
       "       'BRL_trade', 'CND_trade', 'CNY_trade', 'HKD_trade', 'IDR_trade',\n",
       "       'KRW_trade', 'ZAR_trade', 'DKK_trade', 'NOK_trade', 'JPY_trade',\n",
       "       'SEK_trade', 'CHF_trade', 'THB_trade', 'MXN_trade', 'USD_USD',\n",
       "       'price_gold', 'fc_year', 'USD_IR', 'USD_GDP', 'USD_UE', 'h1n1',\n",
       "       'USD_trade'],\n",
       "      dtype='object')"
      ]
     },
     "metadata": {},
     "execution_count": 6
    }
   ],
   "source": [
    "append_df.columns"
   ]
  },
  {
   "cell_type": "code",
   "execution_count": 8,
   "metadata": {},
   "outputs": [],
   "source": [
    "append_df = append_df[['fc_year', 'price_gold', 'h1n1']]"
   ]
  },
  {
   "cell_type": "code",
   "execution_count": 11,
   "metadata": {},
   "outputs": [],
   "source": [
    "main_df = pd.concat([main_df, append_df], axis=1)"
   ]
  },
  {
   "cell_type": "code",
   "execution_count": 12,
   "metadata": {},
   "outputs": [],
   "source": [
    "main_df.to_csv('/Users/zumiis/final_not4git/for github/final_dataset_with_everything.csv', index=False)"
   ]
  },
  {
   "cell_type": "code",
   "execution_count": 20,
   "metadata": {},
   "outputs": [],
   "source": [
    "all2020EXCEPTBRLJFC = pd.read_csv('/Users/zumiis/final_not4git/multivariate data/all_countries2020.csv')"
   ]
  },
  {
   "cell_type": "code",
   "execution_count": 22,
   "metadata": {},
   "outputs": [
    {
     "output_type": "execute_result",
     "data": {
      "text/plain": [
       "         Date   USD_USD       index   AUD_USD  CND_USD  CNY_USD  DKK_USD  \\\n",
       "0  2020-01-02  0.722528  2020-01-02  1.427959   1.2992   6.9670   6.6755   \n",
       "1  2020-01-03  0.723970  2020-01-03  1.435544   1.2988   6.9741   6.7041   \n",
       "2  2020-01-06  0.722039  2020-01-06  1.439885   1.2970   6.9755   6.6761   \n",
       "3  2020-01-07  0.722375  2020-01-07  1.443418   1.3009   6.9453   6.6891   \n",
       "4  2020-01-08  0.723839  2020-01-08  1.455392   1.3026   6.9394   6.7234   \n",
       "\n",
       "   JPY_USD  KRW_USD  MXN_USD   NZD_USD  NOK_USD  SGD_USD   ZAR_USD  SEK_USD  \\\n",
       "0   109.12   1157.8  18.8817  1.493206   8.7919   1.3468  14.02745   9.3341   \n",
       "1   109.12   1156.9  18.8673  1.493206   8.8199   1.3491  14.30955   9.4068   \n",
       "2   108.05   1162.7  18.8270  1.500375   8.7983   1.3505  14.24530   9.4068   \n",
       "3   108.44   1169.6  18.8852  1.500600   8.8210   1.3483  14.26300   9.4102   \n",
       "4   107.82   1165.3  18.7980  1.508751   8.8626   1.3483  14.23595   9.4397   \n",
       "\n",
       "   CHF_USD  THB_USD   GBP_USD  \n",
       "0  0.97365   30.110  0.757662  \n",
       "1  0.97365   30.161  0.765873  \n",
       "2  0.96910   30.145  0.760167  \n",
       "3  0.97045   30.140  0.760601  \n",
       "4  0.97215   30.285  0.762893  "
      ],
      "text/html": "<div>\n<style scoped>\n    .dataframe tbody tr th:only-of-type {\n        vertical-align: middle;\n    }\n\n    .dataframe tbody tr th {\n        vertical-align: top;\n    }\n\n    .dataframe thead th {\n        text-align: right;\n    }\n</style>\n<table border=\"1\" class=\"dataframe\">\n  <thead>\n    <tr style=\"text-align: right;\">\n      <th></th>\n      <th>Date</th>\n      <th>USD_USD</th>\n      <th>index</th>\n      <th>AUD_USD</th>\n      <th>CND_USD</th>\n      <th>CNY_USD</th>\n      <th>DKK_USD</th>\n      <th>JPY_USD</th>\n      <th>KRW_USD</th>\n      <th>MXN_USD</th>\n      <th>NZD_USD</th>\n      <th>NOK_USD</th>\n      <th>SGD_USD</th>\n      <th>ZAR_USD</th>\n      <th>SEK_USD</th>\n      <th>CHF_USD</th>\n      <th>THB_USD</th>\n      <th>GBP_USD</th>\n    </tr>\n  </thead>\n  <tbody>\n    <tr>\n      <th>0</th>\n      <td>2020-01-02</td>\n      <td>0.722528</td>\n      <td>2020-01-02</td>\n      <td>1.427959</td>\n      <td>1.2992</td>\n      <td>6.9670</td>\n      <td>6.6755</td>\n      <td>109.12</td>\n      <td>1157.8</td>\n      <td>18.8817</td>\n      <td>1.493206</td>\n      <td>8.7919</td>\n      <td>1.3468</td>\n      <td>14.02745</td>\n      <td>9.3341</td>\n      <td>0.97365</td>\n      <td>30.110</td>\n      <td>0.757662</td>\n    </tr>\n    <tr>\n      <th>1</th>\n      <td>2020-01-03</td>\n      <td>0.723970</td>\n      <td>2020-01-03</td>\n      <td>1.435544</td>\n      <td>1.2988</td>\n      <td>6.9741</td>\n      <td>6.7041</td>\n      <td>109.12</td>\n      <td>1156.9</td>\n      <td>18.8673</td>\n      <td>1.493206</td>\n      <td>8.8199</td>\n      <td>1.3491</td>\n      <td>14.30955</td>\n      <td>9.4068</td>\n      <td>0.97365</td>\n      <td>30.161</td>\n      <td>0.765873</td>\n    </tr>\n    <tr>\n      <th>2</th>\n      <td>2020-01-06</td>\n      <td>0.722039</td>\n      <td>2020-01-06</td>\n      <td>1.439885</td>\n      <td>1.2970</td>\n      <td>6.9755</td>\n      <td>6.6761</td>\n      <td>108.05</td>\n      <td>1162.7</td>\n      <td>18.8270</td>\n      <td>1.500375</td>\n      <td>8.7983</td>\n      <td>1.3505</td>\n      <td>14.24530</td>\n      <td>9.4068</td>\n      <td>0.96910</td>\n      <td>30.145</td>\n      <td>0.760167</td>\n    </tr>\n    <tr>\n      <th>3</th>\n      <td>2020-01-07</td>\n      <td>0.722375</td>\n      <td>2020-01-07</td>\n      <td>1.443418</td>\n      <td>1.3009</td>\n      <td>6.9453</td>\n      <td>6.6891</td>\n      <td>108.44</td>\n      <td>1169.6</td>\n      <td>18.8852</td>\n      <td>1.500600</td>\n      <td>8.8210</td>\n      <td>1.3483</td>\n      <td>14.26300</td>\n      <td>9.4102</td>\n      <td>0.97045</td>\n      <td>30.140</td>\n      <td>0.760601</td>\n    </tr>\n    <tr>\n      <th>4</th>\n      <td>2020-01-08</td>\n      <td>0.723839</td>\n      <td>2020-01-08</td>\n      <td>1.455392</td>\n      <td>1.3026</td>\n      <td>6.9394</td>\n      <td>6.7234</td>\n      <td>107.82</td>\n      <td>1165.3</td>\n      <td>18.7980</td>\n      <td>1.508751</td>\n      <td>8.8626</td>\n      <td>1.3483</td>\n      <td>14.23595</td>\n      <td>9.4397</td>\n      <td>0.97215</td>\n      <td>30.285</td>\n      <td>0.762893</td>\n    </tr>\n  </tbody>\n</table>\n</div>"
     },
     "metadata": {},
     "execution_count": 22
    }
   ],
   "source": [
    "all2020EXCEPTBRLJFC.head()"
   ]
  },
  {
   "cell_type": "code",
   "execution_count": 21,
   "metadata": {},
   "outputs": [],
   "source": [
    "brl2020 = pd.read_csv('/Users/zumiis/final_not4git/BRAZIL2020.csv')"
   ]
  },
  {
   "cell_type": "code",
   "execution_count": 30,
   "metadata": {},
   "outputs": [],
   "source": [
    "brl2020['Date'] = pd.to_datetime(brl2020['Date'])\n",
    "all2020EXCEPTBRLJFC['Date'] = pd.to_datetime(all2020EXCEPTBRLJFC['Date'])"
   ]
  },
  {
   "cell_type": "code",
   "execution_count": 32,
   "metadata": {},
   "outputs": [],
   "source": [
    "all2020 = pd.merge(all2020EXCEPTBRLJFC, brl2020, left_on='Date', right_on='Date')"
   ]
  },
  {
   "cell_type": "code",
   "execution_count": 34,
   "metadata": {},
   "outputs": [],
   "source": [
    "all2020.rename(columns={'BRL': 'BRL_USD'}, inplace=True)"
   ]
  },
  {
   "cell_type": "code",
   "execution_count": 35,
   "metadata": {},
   "outputs": [
    {
     "output_type": "execute_result",
     "data": {
      "text/plain": [
       "          Date   USD_USD       index   AUD_USD  CND_USD  CNY_USD  DKK_USD  \\\n",
       "0   2020-01-02  0.722528  2020-01-02  1.427959   1.2992   6.9670   6.6755   \n",
       "1   2020-01-03  0.723970  2020-01-03  1.435544   1.2988   6.9741   6.7041   \n",
       "2   2020-01-06  0.722039  2020-01-06  1.439885   1.2970   6.9755   6.6761   \n",
       "3   2020-01-07  0.722375  2020-01-07  1.443418   1.3009   6.9453   6.6891   \n",
       "4   2020-01-08  0.723839  2020-01-08  1.455392   1.3026   6.9394   6.7234   \n",
       "..         ...       ...         ...       ...      ...      ...      ...   \n",
       "214 2020-11-19  0.702596  2020-11-19  1.370802   1.3063   6.5770   6.2963   \n",
       "215 2020-11-20  0.701496  2020-11-20  1.370802   1.3063   6.5733   6.2791   \n",
       "216 2020-11-23  0.700448  2020-11-23  1.367428   1.3082   6.5715   6.2576   \n",
       "217 2020-11-24  0.701986  2020-11-24  1.366680   1.3033   6.5785   6.2726   \n",
       "218 2020-11-25  0.701620  2020-11-25  1.359434   1.3003   6.5782   6.2590   \n",
       "\n",
       "     JPY_USD  KRW_USD  MXN_USD   NZD_USD  NOK_USD  SGD_USD   ZAR_USD  SEK_USD  \\\n",
       "0     109.12   1157.8  18.8817  1.493206   8.7919   1.3468  14.02745   9.3341   \n",
       "1     109.12   1156.9  18.8673  1.493206   8.8199   1.3491  14.30955   9.4068   \n",
       "2     108.05   1162.7  18.8270  1.500375   8.7983   1.3505  14.24530   9.4068   \n",
       "3     108.44   1169.6  18.8852  1.500600   8.8210   1.3483  14.26300   9.4102   \n",
       "4     107.82   1165.3  18.7980  1.508751   8.8626   1.3483  14.23595   9.4397   \n",
       "..       ...      ...      ...       ...      ...      ...       ...      ...   \n",
       "214   103.84   1105.9  20.1858  1.448436   9.0348   1.3436  15.49500   8.6380   \n",
       "215   103.87   1112.2  20.1172  1.446550   8.9870   1.3435  15.36320   8.6034   \n",
       "216   103.87   1114.2  20.1012  1.437815   8.9827   1.3422  15.28365   8.5981   \n",
       "217   104.56   1112.6  20.0577  1.440507   8.9986   1.3438  15.38995   8.5899   \n",
       "218   104.50   1111.2  20.0465  1.433692   8.8720   1.3418  15.24145   8.5247   \n",
       "\n",
       "     CHF_USD  THB_USD   GBP_USD  BRL_USD  \n",
       "0    0.97365   30.110  0.757662   4.0207  \n",
       "1    0.97365   30.161  0.765873   4.0516  \n",
       "2    0.96910   30.145  0.760167   4.0548  \n",
       "3    0.97045   30.140  0.760601   4.0835  \n",
       "4    0.97215   30.285  0.762893   4.0666  \n",
       "..       ...      ...       ...      ...  \n",
       "214  0.91210   30.368  0.754375   5.3324  \n",
       "215  0.91140   30.326  0.753125   5.3499  \n",
       "216  0.90785   30.283  0.747915   5.3822  \n",
       "217  0.91295   30.392  0.749766   5.4031  \n",
       "218  0.91265   30.358  0.750272   5.3502  \n",
       "\n",
       "[219 rows x 19 columns]"
      ],
      "text/html": "<div>\n<style scoped>\n    .dataframe tbody tr th:only-of-type {\n        vertical-align: middle;\n    }\n\n    .dataframe tbody tr th {\n        vertical-align: top;\n    }\n\n    .dataframe thead th {\n        text-align: right;\n    }\n</style>\n<table border=\"1\" class=\"dataframe\">\n  <thead>\n    <tr style=\"text-align: right;\">\n      <th></th>\n      <th>Date</th>\n      <th>USD_USD</th>\n      <th>index</th>\n      <th>AUD_USD</th>\n      <th>CND_USD</th>\n      <th>CNY_USD</th>\n      <th>DKK_USD</th>\n      <th>JPY_USD</th>\n      <th>KRW_USD</th>\n      <th>MXN_USD</th>\n      <th>NZD_USD</th>\n      <th>NOK_USD</th>\n      <th>SGD_USD</th>\n      <th>ZAR_USD</th>\n      <th>SEK_USD</th>\n      <th>CHF_USD</th>\n      <th>THB_USD</th>\n      <th>GBP_USD</th>\n      <th>BRL_USD</th>\n    </tr>\n  </thead>\n  <tbody>\n    <tr>\n      <th>0</th>\n      <td>2020-01-02</td>\n      <td>0.722528</td>\n      <td>2020-01-02</td>\n      <td>1.427959</td>\n      <td>1.2992</td>\n      <td>6.9670</td>\n      <td>6.6755</td>\n      <td>109.12</td>\n      <td>1157.8</td>\n      <td>18.8817</td>\n      <td>1.493206</td>\n      <td>8.7919</td>\n      <td>1.3468</td>\n      <td>14.02745</td>\n      <td>9.3341</td>\n      <td>0.97365</td>\n      <td>30.110</td>\n      <td>0.757662</td>\n      <td>4.0207</td>\n    </tr>\n    <tr>\n      <th>1</th>\n      <td>2020-01-03</td>\n      <td>0.723970</td>\n      <td>2020-01-03</td>\n      <td>1.435544</td>\n      <td>1.2988</td>\n      <td>6.9741</td>\n      <td>6.7041</td>\n      <td>109.12</td>\n      <td>1156.9</td>\n      <td>18.8673</td>\n      <td>1.493206</td>\n      <td>8.8199</td>\n      <td>1.3491</td>\n      <td>14.30955</td>\n      <td>9.4068</td>\n      <td>0.97365</td>\n      <td>30.161</td>\n      <td>0.765873</td>\n      <td>4.0516</td>\n    </tr>\n    <tr>\n      <th>2</th>\n      <td>2020-01-06</td>\n      <td>0.722039</td>\n      <td>2020-01-06</td>\n      <td>1.439885</td>\n      <td>1.2970</td>\n      <td>6.9755</td>\n      <td>6.6761</td>\n      <td>108.05</td>\n      <td>1162.7</td>\n      <td>18.8270</td>\n      <td>1.500375</td>\n      <td>8.7983</td>\n      <td>1.3505</td>\n      <td>14.24530</td>\n      <td>9.4068</td>\n      <td>0.96910</td>\n      <td>30.145</td>\n      <td>0.760167</td>\n      <td>4.0548</td>\n    </tr>\n    <tr>\n      <th>3</th>\n      <td>2020-01-07</td>\n      <td>0.722375</td>\n      <td>2020-01-07</td>\n      <td>1.443418</td>\n      <td>1.3009</td>\n      <td>6.9453</td>\n      <td>6.6891</td>\n      <td>108.44</td>\n      <td>1169.6</td>\n      <td>18.8852</td>\n      <td>1.500600</td>\n      <td>8.8210</td>\n      <td>1.3483</td>\n      <td>14.26300</td>\n      <td>9.4102</td>\n      <td>0.97045</td>\n      <td>30.140</td>\n      <td>0.760601</td>\n      <td>4.0835</td>\n    </tr>\n    <tr>\n      <th>4</th>\n      <td>2020-01-08</td>\n      <td>0.723839</td>\n      <td>2020-01-08</td>\n      <td>1.455392</td>\n      <td>1.3026</td>\n      <td>6.9394</td>\n      <td>6.7234</td>\n      <td>107.82</td>\n      <td>1165.3</td>\n      <td>18.7980</td>\n      <td>1.508751</td>\n      <td>8.8626</td>\n      <td>1.3483</td>\n      <td>14.23595</td>\n      <td>9.4397</td>\n      <td>0.97215</td>\n      <td>30.285</td>\n      <td>0.762893</td>\n      <td>4.0666</td>\n    </tr>\n    <tr>\n      <th>...</th>\n      <td>...</td>\n      <td>...</td>\n      <td>...</td>\n      <td>...</td>\n      <td>...</td>\n      <td>...</td>\n      <td>...</td>\n      <td>...</td>\n      <td>...</td>\n      <td>...</td>\n      <td>...</td>\n      <td>...</td>\n      <td>...</td>\n      <td>...</td>\n      <td>...</td>\n      <td>...</td>\n      <td>...</td>\n      <td>...</td>\n      <td>...</td>\n    </tr>\n    <tr>\n      <th>214</th>\n      <td>2020-11-19</td>\n      <td>0.702596</td>\n      <td>2020-11-19</td>\n      <td>1.370802</td>\n      <td>1.3063</td>\n      <td>6.5770</td>\n      <td>6.2963</td>\n      <td>103.84</td>\n      <td>1105.9</td>\n      <td>20.1858</td>\n      <td>1.448436</td>\n      <td>9.0348</td>\n      <td>1.3436</td>\n      <td>15.49500</td>\n      <td>8.6380</td>\n      <td>0.91210</td>\n      <td>30.368</td>\n      <td>0.754375</td>\n      <td>5.3324</td>\n    </tr>\n    <tr>\n      <th>215</th>\n      <td>2020-11-20</td>\n      <td>0.701496</td>\n      <td>2020-11-20</td>\n      <td>1.370802</td>\n      <td>1.3063</td>\n      <td>6.5733</td>\n      <td>6.2791</td>\n      <td>103.87</td>\n      <td>1112.2</td>\n      <td>20.1172</td>\n      <td>1.446550</td>\n      <td>8.9870</td>\n      <td>1.3435</td>\n      <td>15.36320</td>\n      <td>8.6034</td>\n      <td>0.91140</td>\n      <td>30.326</td>\n      <td>0.753125</td>\n      <td>5.3499</td>\n    </tr>\n    <tr>\n      <th>216</th>\n      <td>2020-11-23</td>\n      <td>0.700448</td>\n      <td>2020-11-23</td>\n      <td>1.367428</td>\n      <td>1.3082</td>\n      <td>6.5715</td>\n      <td>6.2576</td>\n      <td>103.87</td>\n      <td>1114.2</td>\n      <td>20.1012</td>\n      <td>1.437815</td>\n      <td>8.9827</td>\n      <td>1.3422</td>\n      <td>15.28365</td>\n      <td>8.5981</td>\n      <td>0.90785</td>\n      <td>30.283</td>\n      <td>0.747915</td>\n      <td>5.3822</td>\n    </tr>\n    <tr>\n      <th>217</th>\n      <td>2020-11-24</td>\n      <td>0.701986</td>\n      <td>2020-11-24</td>\n      <td>1.366680</td>\n      <td>1.3033</td>\n      <td>6.5785</td>\n      <td>6.2726</td>\n      <td>104.56</td>\n      <td>1112.6</td>\n      <td>20.0577</td>\n      <td>1.440507</td>\n      <td>8.9986</td>\n      <td>1.3438</td>\n      <td>15.38995</td>\n      <td>8.5899</td>\n      <td>0.91295</td>\n      <td>30.392</td>\n      <td>0.749766</td>\n      <td>5.4031</td>\n    </tr>\n    <tr>\n      <th>218</th>\n      <td>2020-11-25</td>\n      <td>0.701620</td>\n      <td>2020-11-25</td>\n      <td>1.359434</td>\n      <td>1.3003</td>\n      <td>6.5782</td>\n      <td>6.2590</td>\n      <td>104.50</td>\n      <td>1111.2</td>\n      <td>20.0465</td>\n      <td>1.433692</td>\n      <td>8.8720</td>\n      <td>1.3418</td>\n      <td>15.24145</td>\n      <td>8.5247</td>\n      <td>0.91265</td>\n      <td>30.358</td>\n      <td>0.750272</td>\n      <td>5.3502</td>\n    </tr>\n  </tbody>\n</table>\n<p>219 rows × 19 columns</p>\n</div>"
     },
     "metadata": {},
     "execution_count": 35
    }
   ],
   "source": [
    "all2020"
   ]
  },
  {
   "cell_type": "code",
   "execution_count": 36,
   "metadata": {},
   "outputs": [],
   "source": [
    "all2020.to_csv('/Users/zumiis/final_not4git/for github/all2020_with_brl.csv', index=False)"
   ]
  },
  {
   "cell_type": "code",
   "execution_count": 38,
   "metadata": {},
   "outputs": [],
   "source": [
    "df = pd.read_csv('/Users/zumiis/final_not4git/for github/final_dataset_with_everything.csv')"
   ]
  },
  {
   "cell_type": "code",
   "execution_count": 39,
   "metadata": {},
   "outputs": [
    {
     "output_type": "execute_result",
     "data": {
      "text/plain": [
       "Index(['Time Series', 'AUD_USD', 'NZD_USD', 'GBP_USD', 'BRL_USD', 'CND_USD',\n",
       "       'CNY_USD', 'IDR_USD', 'KRW_USD', 'MXN_USD', 'ZAR_USD', 'DKK_USD',\n",
       "       'JPY_USD', 'NOK_USD', 'SEK_USD', 'CHF_USD', 'month', 'year', 'USD_USD',\n",
       "       'price_gold', 'fc_year', 'USD_IR', 'AUD_IR', 'NZD_IR', 'GBP_IR',\n",
       "       'BRL_IR', 'CND_IR', 'CNY_IR', 'IDR_IR', 'KRW_IR', 'MXN_IR', 'ZAR_IR',\n",
       "       'DKK_IR', 'JPY_IR', 'SEK_IR', 'CHF_IR', 'NOK_IR', 'AUD_GDP', 'NZD_GDP',\n",
       "       'GBP_GDP', 'BRL_GDP', 'CND_GDP', 'IDR_GDP', 'MXN_GDP', 'ZAR_GDP',\n",
       "       'DKK_GDP', 'JPY_GDP', 'NOK_GDP', 'SEK_GDP', 'CHF_GDP', 'USD_GDP',\n",
       "       'KRW_GDP', 'CNY_GDP', 'AUD_trade', 'NZD_trade', 'GBP_trade',\n",
       "       'BRL_trade', 'CND_trade', 'CNY_trade', 'IDR_trade', 'KRW_trade',\n",
       "       'ZAR_trade', 'DKK_trade', 'JPY_trade', 'NOK_trade', 'SEK_trade',\n",
       "       'CHF_trade', 'USD_trade', 'MXN_trade', 'AUD_UE', 'NZD_UE', 'GBP_UE',\n",
       "       'BRL_UE', 'CND_UE', 'KRW_UE', 'MXN_UE', 'DKK_UE', 'JPY_UE', 'NOK_UE',\n",
       "       'SEK_UE', 'USD_UE', 'fc_year.1', 'price_gold.1', 'h1n1'],\n",
       "      dtype='object')"
      ]
     },
     "metadata": {},
     "execution_count": 39
    }
   ],
   "source": [
    "df.columns"
   ]
  },
  {
   "cell_type": "code",
   "execution_count": 42,
   "metadata": {},
   "outputs": [],
   "source": [
    "df.drop(columns=['IDR_USD', 'IDR_IR', 'IDR_GDP', 'IDR_trade'], inplace=True)"
   ]
  },
  {
   "cell_type": "code",
   "execution_count": 43,
   "metadata": {},
   "outputs": [],
   "source": [
    "df.to_csv('/Users/zumiis/final_not4git/for github/final_dataset_with_everything_exceptIDR.csv', index=False)"
   ]
  },
  {
   "cell_type": "code",
   "execution_count": 45,
   "metadata": {},
   "outputs": [],
   "source": [
    "fu = pd.read_csv('/Users/zumiis/final_not4git/for github/final_dataset_with_everything_exceptIDR.csv')"
   ]
  },
  {
   "cell_type": "code",
   "execution_count": 46,
   "metadata": {},
   "outputs": [
    {
     "output_type": "execute_result",
     "data": {
      "text/plain": [
       "Index(['Time Series', 'AUD_USD', 'NZD_USD', 'GBP_USD', 'BRL_USD', 'CND_USD',\n",
       "       'CNY_USD', 'KRW_USD', 'MXN_USD', 'ZAR_USD', 'DKK_USD', 'JPY_USD',\n",
       "       'NOK_USD', 'SEK_USD', 'CHF_USD', 'month', 'year', 'USD_USD',\n",
       "       'price_gold', 'fc_year', 'USD_IR', 'AUD_IR', 'NZD_IR', 'GBP_IR',\n",
       "       'BRL_IR', 'CND_IR', 'CNY_IR', 'KRW_IR', 'MXN_IR', 'ZAR_IR', 'DKK_IR',\n",
       "       'JPY_IR', 'SEK_IR', 'CHF_IR', 'NOK_IR', 'AUD_GDP', 'NZD_GDP', 'GBP_GDP',\n",
       "       'BRL_GDP', 'CND_GDP', 'MXN_GDP', 'ZAR_GDP', 'DKK_GDP', 'JPY_GDP',\n",
       "       'NOK_GDP', 'SEK_GDP', 'CHF_GDP', 'USD_GDP', 'KRW_GDP', 'CNY_GDP',\n",
       "       'AUD_trade', 'NZD_trade', 'GBP_trade', 'BRL_trade', 'CND_trade',\n",
       "       'CNY_trade', 'KRW_trade', 'ZAR_trade', 'DKK_trade', 'JPY_trade',\n",
       "       'NOK_trade', 'SEK_trade', 'CHF_trade', 'USD_trade', 'MXN_trade',\n",
       "       'AUD_UE', 'NZD_UE', 'GBP_UE', 'BRL_UE', 'CND_UE', 'KRW_UE', 'MXN_UE',\n",
       "       'DKK_UE', 'JPY_UE', 'NOK_UE', 'SEK_UE', 'USD_UE', 'fc_year.1',\n",
       "       'price_gold.1', 'h1n1'],\n",
       "      dtype='object')"
      ]
     },
     "metadata": {},
     "execution_count": 46
    }
   ],
   "source": [
    "fu.columns"
   ]
  },
  {
   "cell_type": "code",
   "execution_count": 48,
   "metadata": {},
   "outputs": [],
   "source": [
    "fu.drop(columns=['fc_year.1', 'price_gold.1'], inplace=True)"
   ]
  },
  {
   "cell_type": "code",
   "execution_count": 49,
   "metadata": {},
   "outputs": [],
   "source": [
    "fu.to_csv('/Users/zumiis/final_not4git/for github/final_dataset_with_everything_exceptIDR.csv', index=False)"
   ]
  },
  {
   "cell_type": "code",
   "execution_count": null,
   "metadata": {},
   "outputs": [],
   "source": []
  }
 ]
}